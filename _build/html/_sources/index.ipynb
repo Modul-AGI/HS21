{
 "cells": [
  {
   "cell_type": "markdown",
   "source": [
    "# Einleitung\n",
    "\n",
    "Willkommen im Kurs *[Angewandte Geoinformatik](https://studienplaner.lsfm.zhaw.ch/module/angewandte-geoinformatik)* der Zürcher Hochschule für Angewandte Wissenschaften (ZHAW). Wir nutzen diese Plattform (modul-agi.github.io) um euch Zugriff auf unsere unsere Übungsunterlagen und Theorieinputs zu gewährleisten. \n",
    "\n",
    "Der gesamte Quellcode um dieses Buch zu erstellen ist in dem folgenden github-repo verfügbar: [github.com/Modul-AGI](https://github.com/Modul-AGI/)."
   ],
   "metadata": {}
  }
 ],
 "metadata": {
  "kernelspec": {
   "display_name": "Python 3 (ipykernel)",
   "language": "python",
   "name": "python3"
  },
  "language_info": {
   "codemirror_mode": {
    "name": "ipython",
    "version": 3
   },
   "file_extension": ".py",
   "mimetype": "text/x-python",
   "name": "python",
   "nbconvert_exporter": "python",
   "pygments_lexer": "ipython3",
   "version": "3.8.10"
  }
 },
 "nbformat": 4,
 "nbformat_minor": 4
}