{
 "cells": [
  {
   "cell_type": "markdown",
   "source": [
    "# Entwicklungsumgebung: Jupyter Notebook\n",
    "\n",
    "Bisher haben wir ohne Enwicklungsumgebung (IDE) gearbeitet, was auf die Dauer sehr mühsam sein kann. Erstens wird unser Code nirgens gespeichert und zweitens haben wir auch keine Autovervollständigung.\n",
    "\n",
    "Deshalb arbeiten wir von nun an in einer ordentlichen Entwicklungsumgebung, und zwar in Jupyter Notebook. Jupyter Notebook ist eine unter *Data Scientists* sehr beliebte Entwicklungsumgebung. Sie hat zwei Eigenheiten, die anfänglich zu etwas verwirrung sorgen können. Jupyter Notebook:\n",
    "\n",
    "1. ist ein Python Modul (und wird also über den \"Command Prompt\" gestartet)\n",
    "2. wird über den Webbrowser bedient\n",
    "\n",
    "Um Jupyter Notebook zu starten verlässt ihr Python im Command Prompt in dem ihr `exit()` oder `quit()` eintippt und mit Enter bestätigt. Danach könnt ihr mit dem Befehl `juyter notebook` eben diesen starten. \n",
    "\n"
   ],
   "metadata": {}
  }
 ],
 "metadata": {
  "orig_nbformat": 4,
  "language_info": {
   "name": "python"
  }
 },
 "nbformat": 4,
 "nbformat_minor": 2
}