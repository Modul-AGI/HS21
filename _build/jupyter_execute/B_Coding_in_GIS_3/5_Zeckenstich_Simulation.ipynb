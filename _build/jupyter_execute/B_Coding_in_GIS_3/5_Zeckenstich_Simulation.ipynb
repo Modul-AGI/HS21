{
 "cells": [
  {
   "cell_type": "code",
   "execution_count": 1,
   "metadata": {
    "tags": [
     "remove-cell"
    ]
   },
   "outputs": [],
   "source": [
    "%matplotlib inline"
   ]
  },
  {
   "cell_type": "markdown",
   "metadata": {},
   "source": [
    "(chap-simulation)=\n",
    "# Aufgabe 12: Zeckenstich Simulation\n",
    "\n",
    "## Theorie\n",
    "\n",
    "Jetzt wo ihr *for loops* im Griff habt, nutzen wir dieses Instrument, um unsere eigenen Zeckenstichdaten zu Simulieren. Das heisst, wir generieren fiktive Zeckenstiche auf der Basis der Zeckenstichmeldungen in `zeckenstiche.csv` (siehe {numref}`table-datensaetze`). Es geht jetzt darum, das zufällige Verschieben der Zeckenstichpunkte nicht nur einmal durchzuführen wie in {ref}`ex-apply`, sondern diesen Prozess 5 mal mithilfe eines *loops* zu wiederholen.\n",
    "\n",
    "Um euer Gedächtnis etwas aufzufrischen: Letzte Woche hatten wir in {ref}`ex-apply` mit `apply()` sowie unserer Funktion `offset_coordinate` alle Koordinaten einer *DataFrame* verschoben und diese Simulierten Daten in unserer *DataFrame* abgespeichert. Schau dir diese Übung und die Musterlösung nochmals an wenn du sie nicht mehr ganz im Kopf hast.\n",
    "\n",
    "Starte mit einem neuen Jupyter Notebook und lade darin die nötigen Module (`pandas` und `random`), erstellt euch die Funktion `offset_point()` und importiert den Datensatz `zeckenstiche.csv` (s.u.)."
   ]
  },
  {
   "cell_type": "code",
   "execution_count": 2,
   "metadata": {},
   "outputs": [],
   "source": [
    "import pandas as pd\n",
    "\n",
    "def offset_coordinate(old, distance = 100):\n",
    "    import random\n",
    "    new = old + random.normalvariate(0,distance)\n",
    "    return(new)\n",
    "\n",
    "zeckenstiche = pd.read_csv(\"data/zeckenstiche.csv\")\n"
   ]
  },
  {
   "cell_type": "markdown",
   "metadata": {},
   "source": [
    "## Übungen \n",
    "\n",
    "### Übung 12.1\n",
    "\n",
    "Nutze nun dein Wissen über Loops, um den Schritt in {ref}`ex-apply` nicht nur einmal, sondern 5 mal durchzuführen. Kümmere dich zu diesem Zeitpunkt noch nicht um das Abspeichern des Outputs, es reicht wenn die Simulation 5x durchgeführt wird."
   ]
  },
  {
   "cell_type": "code",
   "execution_count": 3,
   "metadata": {
    "tags": [
     "remove-cell"
    ]
   },
   "outputs": [],
   "source": [
    "# Musterlösung\n",
    "\n",
    "for i in range(5):\n",
    "    zeckenstiche[\"x_sim\"] = zeckenstiche[\"x\"].apply(offset_coordinate)\n",
    "    zeckenstiche[\"y_sim\"] = zeckenstiche[\"y\"].apply(offset_coordinate)"
   ]
  },
  {
   "cell_type": "markdown",
   "metadata": {},
   "source": [
    "(ex-monte-carlo-loop)=\n",
    "### Übung 12.2\n",
    "\n",
    "Nun wollen wir dafür sorgen, dass die simulierten Daten aus der letzten Übung auch irgendwo abgespeichert werden. Sorge dafür, dass der Output in einer Liste mit dem Namen `monte_carlo` gespeichert wird.\n",
    "\n",
    "\n",
    "```{tip}\n",
    ":class: dropdown\n",
    "\n",
    "Nutze hier die Anweisungen aus {ref}`forloops-2` respektive {ref}`ex-loopoutput`.\n",
    "```\n"
   ]
  },
  {
   "cell_type": "code",
   "execution_count": 4,
   "metadata": {
    "tags": [
     "remove-cell"
    ]
   },
   "outputs": [],
   "source": [
    "# Musterlösung\n",
    "\n",
    "monte_carlo = []\n",
    "for i in range(5):\n",
    "    zeckenstiche[\"x_sim\"] = zeckenstiche[\"x\"].apply(offset_coordinate)\n",
    "    zeckenstiche[\"y_sim\"] = zeckenstiche[\"y\"].apply(offset_coordinate)\n",
    "    monte_carlo.append(zeckenstiche)"
   ]
  },
  {
   "cell_type": "markdown",
   "metadata": {},
   "source": [
    "### Übung 12.3\n",
    "\n",
    "Schau dir `monte_carlo` an. Wenn du alles richtig gemacht hast, sollte `monte_carlo` eine Liste bestehend aus 5 *DataFrames* sein. Überprüfe dies mit `type(monte_carlo)`, `len(monte_carlo)` und `type(monte_carlo[0])`. Vergleiche auch die *DataFrames* selbst: Fällt dir etwas auf?"
   ]
  },
  {
   "cell_type": "code",
   "execution_count": 5,
   "metadata": {
    "tags": [
     "remove-output"
    ]
   },
   "outputs": [
    {
     "data": {
      "text/html": [
       "<div>\n",
       "<style scoped>\n",
       "    .dataframe tbody tr th:only-of-type {\n",
       "        vertical-align: middle;\n",
       "    }\n",
       "\n",
       "    .dataframe tbody tr th {\n",
       "        vertical-align: top;\n",
       "    }\n",
       "\n",
       "    .dataframe thead th {\n",
       "        text-align: right;\n",
       "    }\n",
       "</style>\n",
       "<table border=\"1\" class=\"dataframe\">\n",
       "  <thead>\n",
       "    <tr style=\"text-align: right;\">\n",
       "      <th></th>\n",
       "      <th>ID</th>\n",
       "      <th>accuracy</th>\n",
       "      <th>x</th>\n",
       "      <th>y</th>\n",
       "      <th>x_sim</th>\n",
       "      <th>y_sim</th>\n",
       "    </tr>\n",
       "  </thead>\n",
       "  <tbody>\n",
       "    <tr>\n",
       "      <th>0</th>\n",
       "      <td>2550</td>\n",
       "      <td>439.128951</td>\n",
       "      <td>2681116</td>\n",
       "      <td>1250648</td>\n",
       "      <td>2.681173e+06</td>\n",
       "      <td>1.250683e+06</td>\n",
       "    </tr>\n",
       "    <tr>\n",
       "      <th>1</th>\n",
       "      <td>10437</td>\n",
       "      <td>301.748542</td>\n",
       "      <td>2681092</td>\n",
       "      <td>1250672</td>\n",
       "      <td>2.681253e+06</td>\n",
       "      <td>1.250701e+06</td>\n",
       "    </tr>\n",
       "  </tbody>\n",
       "</table>\n",
       "</div>"
      ],
      "text/plain": [
       "      ID    accuracy        x        y         x_sim         y_sim\n",
       "0   2550  439.128951  2681116  1250648  2.681173e+06  1.250683e+06\n",
       "1  10437  301.748542  2681092  1250672  2.681253e+06  1.250701e+06"
      ]
     },
     "execution_count": 5,
     "metadata": {},
     "output_type": "execute_result"
    }
   ],
   "source": [
    "type(monte_carlo)    # Was für ein Datentyp hat \"monte_carlo\"?\n",
    "len(monte_carlo)     # Wie viele Elemente hat \"monte_carlo\"?\n",
    "type(monte_carlo[0]) # Was haben diese Elemente für Datentypen?\n",
    "\n",
    "monte_carlo[0].head(2) # Vergleiche die ersten beiden Zeilen von der ersten DataFrame...\n",
    "monte_carlo[1].head(2) # ...mit den den ersten beiden Zeilen der zweiten DataFrame"
   ]
  },
  {
   "cell_type": "markdown",
   "metadata": {},
   "source": [
    "### Übung 12.4\n",
    "\n",
    "Scharfen Beobachtern mag aufgefallen sein, dass die simulierten Koordinaten zwischen allen DataFrames identisch sind. Dieses Verhalten hat auch mich sehr verwirrt, siehe dazu [meine Frage auf Stackoverflow](https://stackoverflow.com/q/63800734/4139249). Es geht über den Umfang dieses Kurses hinaus die Gründe für dieses Verhalten zu erläutern.\n",
    "\n",
    "Wichtig ist an dieser Stelle vor allem, dass wir das Problem der identischen Zufallsvariablen lösen, dafür braucht ihr `copy`. Im nachstehenden Code demonstriere ich `.copy` an meiner Implementation des *for loops*."
   ]
  },
  {
   "cell_type": "code",
   "execution_count": 6,
   "metadata": {},
   "outputs": [],
   "source": [
    "monte_carlo = []\n",
    "for i in range(5):\n",
    "    zeckenstiche[\"x_sim\"] = zeckenstiche[\"x\"].apply(offset_coordinate)\n",
    "    zeckenstiche[\"y_sim\"] = zeckenstiche[\"y\"].apply(offset_coordinate)\n",
    "    monte_carlo.append(zeckenstiche.copy()) \n",
    "    #                               \\____/ hier liegt die Lösung des\n",
    "    #                                      beschriebenen Problems"
   ]
  },
  {
   "cell_type": "markdown",
   "metadata": {},
   "source": [
    "### Übung 12.5\n",
    "\n",
    "Zu einem späteren Zeitpunkt werden wir wissen wollen, welcher simulierte Zeckenstich zu welcher Iteration gehört. Speichere die \"Laufnummer\" der Iteration (`i` in meinem Beispiel) als Spalte des *DataFrames*."
   ]
  },
  {
   "cell_type": "code",
   "execution_count": 7,
   "metadata": {
    "tags": [
     "remove-cell"
    ]
   },
   "outputs": [],
   "source": [
    "# Musterlösung\n",
    "\n",
    "monte_carlo = []\n",
    "for i in range(5):\n",
    "    zeckenstiche[\"x_sim\"] = zeckenstiche[\"x\"].apply(offset_coordinate)\n",
    "    zeckenstiche[\"y_sim\"] = zeckenstiche[\"y\"].apply(offset_coordinate)\n",
    "    zeckenstiche[\"Run\"] = i # <- speichert die \"Run-Nummer\"\n",
    "    monte_carlo.append(zeckenstiche.copy())"
   ]
  },
  {
   "cell_type": "markdown",
   "metadata": {},
   "source": [
    "### Übung 12.6\n",
    "\n",
    "Wir können die simulierten Daten auch mit einem *For Loop* in einem Plot darstellen. Nutze den folgenden Code, um deine Daten zu visualisieren."
   ]
  },
  {
   "cell_type": "code",
   "execution_count": 8,
   "metadata": {},
   "outputs": [
    {
     "data": {
      "text/plain": [
       "<matplotlib.collections.PathCollection at 0x7efe86681a60>"
      ]
     },
     "execution_count": 8,
     "metadata": {},
     "output_type": "execute_result"
    },
    {
     "data": {
      "image/png": "[encoded data removed]",
      "text/plain": [
       "<Figure size 432x288 with 1 Axes>"
      ]
     },
     "metadata": {
      "filenames": {
       "image/png": "/home/nils/ownCloud/Lehre/Bachelor/AGI/HS2021/JupyterBook/_build/jupyter_execute/B_Coding_in_GIS_3/5_Zeckenstich_Simulation_14_1.png"
      },
      "needs_background": "light"
     },
     "output_type": "display_data"
    }
   ],
   "source": [
    "from matplotlib import pyplot as plt\n",
    "\n",
    "for simulation in monte_carlo:\n",
    "    plt.scatter(simulation[\"x_sim\"],simulation[\"y_sim\"])\n",
    "    \n",
    "plt.scatter(zeckenstiche[\"x\"], zeckenstiche[\"y\"], color = \"black\", marker = \"x\")"
   ]
  },
  {
   "cell_type": "markdown",
   "metadata": {},
   "source": [
    "### Übung 12.7\n",
    "\n",
    "Wie erläutert ist `monte_carlo` eine Liste bestehend aus 5 *DataFrames* mit jeweils den gleichen Spaltennamen. Um aus diesen 5 *DataFrames* mit je 10 Zeilen eine einzelne *DataFrame* mit 50 Zeilen zu machen, können wir die Funktion `pd.concat` [^merge] nutzen. Wende diese Funktion auf `monte_carlo` an und speichere den Output in der Variabel `monte_carlo_df`. \n",
    "\n",
    "[^merge]: Dies ist der gleiche Schritt, wie ihr in Übung 2 in \"*Datenqualität und Unsicherheit*\" mit dem ArcGIS Geoprocessing Tool \"Merge\" durchgeführt habt."
   ]
  },
  {
   "cell_type": "code",
   "execution_count": 9,
   "metadata": {},
   "outputs": [
    {
     "data": {
      "text/html": [
       "<div>\n",
       "<style scoped>\n",
       "    .dataframe tbody tr th:only-of-type {\n",
       "        vertical-align: middle;\n",
       "    }\n",
       "\n",
       "    .dataframe tbody tr th {\n",
       "        vertical-align: top;\n",
       "    }\n",
       "\n",
       "    .dataframe thead th {\n",
       "        text-align: right;\n",
       "    }\n",
       "</style>\n",
       "<table border=\"1\" class=\"dataframe\">\n",
       "  <thead>\n",
       "    <tr style=\"text-align: right;\">\n",
       "      <th></th>\n",
       "      <th>ID</th>\n",
       "      <th>accuracy</th>\n",
       "      <th>x</th>\n",
       "      <th>y</th>\n",
       "      <th>x_sim</th>\n",
       "      <th>y_sim</th>\n",
       "      <th>Run</th>\n",
       "    </tr>\n",
       "  </thead>\n",
       "  <tbody>\n",
       "    <tr>\n",
       "      <th>0</th>\n",
       "      <td>2550</td>\n",
       "      <td>439.128951</td>\n",
       "      <td>2681116</td>\n",
       "      <td>1250648</td>\n",
       "      <td>2.681220e+06</td>\n",
       "      <td>1.250600e+06</td>\n",
       "      <td>0</td>\n",
       "    </tr>\n",
       "    <tr>\n",
       "      <th>1</th>\n",
       "      <td>10437</td>\n",
       "      <td>301.748542</td>\n",
       "      <td>2681092</td>\n",
       "      <td>1250672</td>\n",
       "      <td>2.680947e+06</td>\n",
       "      <td>1.250698e+06</td>\n",
       "      <td>0</td>\n",
       "    </tr>\n",
       "    <tr>\n",
       "      <th>2</th>\n",
       "      <td>9174</td>\n",
       "      <td>301.748542</td>\n",
       "      <td>2681128</td>\n",
       "      <td>1250683</td>\n",
       "      <td>2.681085e+06</td>\n",
       "      <td>1.250663e+06</td>\n",
       "      <td>0</td>\n",
       "    </tr>\n",
       "    <tr>\n",
       "      <th>3</th>\n",
       "      <td>8773</td>\n",
       "      <td>301.748542</td>\n",
       "      <td>2681111</td>\n",
       "      <td>1250683</td>\n",
       "      <td>2.681081e+06</td>\n",
       "      <td>1.250648e+06</td>\n",
       "      <td>0</td>\n",
       "    </tr>\n",
       "    <tr>\n",
       "      <th>4</th>\n",
       "      <td>2764</td>\n",
       "      <td>301.748529</td>\n",
       "      <td>2681131</td>\n",
       "      <td>1250692</td>\n",
       "      <td>2.681209e+06</td>\n",
       "      <td>1.250694e+06</td>\n",
       "      <td>0</td>\n",
       "    </tr>\n",
       "  </tbody>\n",
       "</table>\n",
       "</div>"
      ],
      "text/plain": [
       "      ID    accuracy        x        y         x_sim         y_sim  Run\n",
       "0   2550  439.128951  2681116  1250648  2.681220e+06  1.250600e+06    0\n",
       "1  10437  301.748542  2681092  1250672  2.680947e+06  1.250698e+06    0\n",
       "2   9174  301.748542  2681128  1250683  2.681085e+06  1.250663e+06    0\n",
       "3   8773  301.748542  2681111  1250683  2.681081e+06  1.250648e+06    0\n",
       "4   2764  301.748529  2681131  1250692  2.681209e+06  1.250694e+06    0"
      ]
     },
     "execution_count": 9,
     "metadata": {},
     "output_type": "execute_result"
    }
   ],
   "source": [
    "monte_carlo_df = pd.concat(monte_carlo)\n",
    "\n",
    "monte_carlo_df.head()"
   ]
  }
 ],
 "metadata": {
  "kernelspec": {
   "display_name": "Python 3",
   "language": "python",
   "name": "python3"
  },
  "language_info": {
   "codemirror_mode": {
    "name": "ipython",
    "version": 3
   },
   "file_extension": ".py",
   "mimetype": "text/x-python",
   "name": "python",
   "nbconvert_exporter": "python",
   "pygments_lexer": "ipython3",
   "version": "3.9.7"
  }
 },
 "nbformat": 4,
 "nbformat_minor": 4
}