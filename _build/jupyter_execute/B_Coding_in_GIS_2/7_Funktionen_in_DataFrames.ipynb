{
 "cells": [
  {
   "cell_type": "markdown",
   "metadata": {},
   "source": [
    "(chap-offset-dataframe)=\n",
    "# Aufgabe 8: Funktionen in *DataFrames*\n",
    "\n",
    "## Theorie\n",
    "\n",
    "In dieser Aufgabe haben wir das Ziel, die in der letzten Aufgabe ({ref}`chap-random-numbers`) erstellte Funktion `offset_coordinate()` auf alle Zeckenstich-Koordinaten anwenden. Bildlich gesprochen: Wir nehmen unsere Zeckenstichdatensatz und schütteln ihn **einmal** durch. So erhalten wir einen Datensatz ähnlich wie in {numref}`arcgiszecken` mit dem Unterschied, dass jede Zeckenstichmeldung nicht eine *Wolke* von simulierten Punkten enthält, sondern nur einen einzelnen Punkt.\n",
    "\n",
    "Nutze hier die Datei \"zeckenstiche.csv\" von letzter Woche (siehe {numref}`table-datensaetze`). Erstelle ein neues Notebook und nutze nachstehenden Code um die nötigen Module und Functions zu haben:"
   ]
  },
  {
   "cell_type": "code",
   "execution_count": 1,
   "metadata": {
    "tags": [
     "remove-cell"
    ]
   },
   "outputs": [],
   "source": [
    "# to add figures to images.. havent found out how to do this yet\n",
    "from myst_nb import glue"
   ]
  },
  {
   "cell_type": "code",
   "execution_count": 2,
   "metadata": {},
   "outputs": [
    {
     "data": {
      "text/html": [
       "<div>\n",
       "<style scoped>\n",
       "    .dataframe tbody tr th:only-of-type {\n",
       "        vertical-align: middle;\n",
       "    }\n",
       "\n",
       "    .dataframe tbody tr th {\n",
       "        vertical-align: top;\n",
       "    }\n",
       "\n",
       "    .dataframe thead th {\n",
       "        text-align: right;\n",
       "    }\n",
       "</style>\n",
       "<table border=\"1\" class=\"dataframe\">\n",
       "  <thead>\n",
       "    <tr style=\"text-align: right;\">\n",
       "      <th></th>\n",
       "      <th>ID</th>\n",
       "      <th>accuracy</th>\n",
       "      <th>x</th>\n",
       "      <th>y</th>\n",
       "    </tr>\n",
       "  </thead>\n",
       "  <tbody>\n",
       "    <tr>\n",
       "      <th>0</th>\n",
       "      <td>2550</td>\n",
       "      <td>439.128951</td>\n",
       "      <td>2681116</td>\n",
       "      <td>1250648</td>\n",
       "    </tr>\n",
       "    <tr>\n",
       "      <th>1</th>\n",
       "      <td>10437</td>\n",
       "      <td>301.748542</td>\n",
       "      <td>2681092</td>\n",
       "      <td>1250672</td>\n",
       "    </tr>\n",
       "    <tr>\n",
       "      <th>2</th>\n",
       "      <td>9174</td>\n",
       "      <td>301.748542</td>\n",
       "      <td>2681128</td>\n",
       "      <td>1250683</td>\n",
       "    </tr>\n",
       "    <tr>\n",
       "      <th>3</th>\n",
       "      <td>8773</td>\n",
       "      <td>301.748542</td>\n",
       "      <td>2681111</td>\n",
       "      <td>1250683</td>\n",
       "    </tr>\n",
       "    <tr>\n",
       "      <th>4</th>\n",
       "      <td>2764</td>\n",
       "      <td>301.748529</td>\n",
       "      <td>2681131</td>\n",
       "      <td>1250692</td>\n",
       "    </tr>\n",
       "    <tr>\n",
       "      <th>5</th>\n",
       "      <td>2513</td>\n",
       "      <td>301.748529</td>\n",
       "      <td>2681171</td>\n",
       "      <td>1250711</td>\n",
       "    </tr>\n",
       "    <tr>\n",
       "      <th>6</th>\n",
       "      <td>9185</td>\n",
       "      <td>301.748542</td>\n",
       "      <td>2681107</td>\n",
       "      <td>1250712</td>\n",
       "    </tr>\n",
       "    <tr>\n",
       "      <th>7</th>\n",
       "      <td>28521</td>\n",
       "      <td>301.748542</td>\n",
       "      <td>2681124</td>\n",
       "      <td>1250720</td>\n",
       "    </tr>\n",
       "    <tr>\n",
       "      <th>8</th>\n",
       "      <td>26745</td>\n",
       "      <td>301.748542</td>\n",
       "      <td>2681117</td>\n",
       "      <td>1250725</td>\n",
       "    </tr>\n",
       "    <tr>\n",
       "      <th>9</th>\n",
       "      <td>27391</td>\n",
       "      <td>301.748542</td>\n",
       "      <td>2681138</td>\n",
       "      <td>1250725</td>\n",
       "    </tr>\n",
       "  </tbody>\n",
       "</table>\n",
       "</div>"
      ],
      "text/plain": [
       "      ID    accuracy        x        y\n",
       "0   2550  439.128951  2681116  1250648\n",
       "1  10437  301.748542  2681092  1250672\n",
       "2   9174  301.748542  2681128  1250683\n",
       "3   8773  301.748542  2681111  1250683\n",
       "4   2764  301.748529  2681131  1250692\n",
       "5   2513  301.748529  2681171  1250711\n",
       "6   9185  301.748542  2681107  1250712\n",
       "7  28521  301.748542  2681124  1250720\n",
       "8  26745  301.748542  2681117  1250725\n",
       "9  27391  301.748542  2681138  1250725"
      ]
     },
     "execution_count": 2,
     "metadata": {},
     "output_type": "execute_result"
    }
   ],
   "source": [
    "import pandas as pd\n",
    "\n",
    "def offset_coordinate(old, distance = 100):\n",
    "    import random\n",
    "    new = old + random.normalvariate(0,distance)\n",
    "\n",
    "    return(new)\n",
    "\n",
    "zeckenstiche = pd.read_csv(\"data/zeckenstiche.csv\")\n",
    "\n",
    "zeckenstiche"
   ]
  },
  {
   "cell_type": "code",
   "execution_count": 3,
   "metadata": {},
   "outputs": [
    {
     "data": {
      "text/plain": [
       "(array([1.000e+01, 7.100e+01, 5.160e+02, 1.730e+03, 3.132e+03, 2.864e+03,\n",
       "        1.341e+03, 2.940e+02, 4.000e+01, 2.000e+00]),\n",
       " array([-404.64032161, -321.2390076 , -237.83769359, -154.43637957,\n",
       "         -71.03506556,   12.36624846,   95.76756247,  179.16887649,\n",
       "         262.5701905 ,  345.97150451,  429.37281853]),\n",
       " <BarContainer object of 10 artists>)"
      ]
     },
     "execution_count": 3,
     "metadata": {},
     "output_type": "execute_result"
    },
    {
     "data": {
      "image/png": "[encoded data removed]",
      "text/plain": [
       "<Figure size 432x288 with 1 Axes>"
      ]
     },
     "metadata": {
      "filenames": {
       "image/png": "/home/nils/ownCloud/Lehre/Bachelor/AGI/HS2021/JupyterBook/_build/jupyter_execute/B_Coding_in_GIS_2/7_Funktionen_in_DataFrames_3_1.png"
      },
      "needs_background": "light"
     },
     "output_type": "display_data"
    }
   ],
   "source": [
    "from matplotlib import pyplot as plt\n",
    "\n",
    "off = [offset_coordinate(0) for x in range(10000)]\n",
    "\n",
    "plt.hist(off)\n",
    "\n"
   ]
  },
  {
   "cell_type": "markdown",
   "metadata": {},
   "source": [
    "\n",
    "## Übungen"
   ]
  },
  {
   "cell_type": "markdown",
   "metadata": {},
   "source": [
    "% : Spalten selektieren\n",
    "### Übung 8.1\n",
    "\n",
    "Mache dich nochmals damit vertraut, einzelne Spalten zu selektieren. Schau dir {ref}`chap-dataframes` nochmals an wenn du nicht mehr weisst wie das geht."
   ]
  },
  {
   "cell_type": "code",
   "execution_count": 4,
   "metadata": {
    "tags": [
     "remove-cell"
    ]
   },
   "outputs": [
    {
     "data": {
      "text/plain": [
       "0    1250648\n",
       "1    1250672\n",
       "2    1250683\n",
       "3    1250683\n",
       "4    1250692\n",
       "5    1250711\n",
       "6    1250712\n",
       "7    1250720\n",
       "8    1250725\n",
       "9    1250725\n",
       "Name: y, dtype: int64"
      ]
     },
     "execution_count": 4,
     "metadata": {},
     "output_type": "execute_result"
    }
   ],
   "source": [
    "# Musterlösung\n",
    "\n",
    "zeckenstiche[\"x\"]\n",
    "zeckenstiche[\"y\"]"
   ]
  },
  {
   "cell_type": "markdown",
   "metadata": {},
   "source": [
    "% Neue Spalten erstellen\n",
    "### Übung 8.2\n",
    "\n",
    "Mache dich nochmals damit vertraut, wie man neue Spalten erstellt. Schau dir {ref}`chap-dataframes` nochmals an wenn du nicht mehr weisst wie das geht. Erstelle ein paar neue Spalten nach dem Beispiel unten um die Hangriffe zu üben. Lösche die Spalten im Anschluss wieder mit `del zeckenstiche['test1']` etc."
   ]
  },
  {
   "cell_type": "code",
   "execution_count": 5,
   "metadata": {
    "tags": [
     "remove-cell"
    ]
   },
   "outputs": [],
   "source": [
    "# Musterlösung\n",
    "\n",
    "zeckenstiche[\"test1\"] = \"test1\"\n",
    "\n",
    "zeckenstiche[\"test2\"] = 10\n",
    "\n",
    "zeckenstiche[\"test3\"] = [1,2,3,4,5,6,7,8,9,10]\n"
   ]
  },
  {
   "cell_type": "code",
   "execution_count": 6,
   "metadata": {},
   "outputs": [
    {
     "data": {
      "text/html": [
       "<div>\n",
       "<style scoped>\n",
       "    .dataframe tbody tr th:only-of-type {\n",
       "        vertical-align: middle;\n",
       "    }\n",
       "\n",
       "    .dataframe tbody tr th {\n",
       "        vertical-align: top;\n",
       "    }\n",
       "\n",
       "    .dataframe thead th {\n",
       "        text-align: right;\n",
       "    }\n",
       "</style>\n",
       "<table border=\"1\" class=\"dataframe\">\n",
       "  <thead>\n",
       "    <tr style=\"text-align: right;\">\n",
       "      <th></th>\n",
       "      <th>ID</th>\n",
       "      <th>accuracy</th>\n",
       "      <th>x</th>\n",
       "      <th>y</th>\n",
       "      <th>test1</th>\n",
       "      <th>test2</th>\n",
       "      <th>test3</th>\n",
       "    </tr>\n",
       "  </thead>\n",
       "  <tbody>\n",
       "    <tr>\n",
       "      <th>0</th>\n",
       "      <td>2550</td>\n",
       "      <td>439.128951</td>\n",
       "      <td>2681116</td>\n",
       "      <td>1250648</td>\n",
       "      <td>test1</td>\n",
       "      <td>10</td>\n",
       "      <td>1</td>\n",
       "    </tr>\n",
       "    <tr>\n",
       "      <th>1</th>\n",
       "      <td>10437</td>\n",
       "      <td>301.748542</td>\n",
       "      <td>2681092</td>\n",
       "      <td>1250672</td>\n",
       "      <td>test1</td>\n",
       "      <td>10</td>\n",
       "      <td>2</td>\n",
       "    </tr>\n",
       "    <tr>\n",
       "      <th>2</th>\n",
       "      <td>9174</td>\n",
       "      <td>301.748542</td>\n",
       "      <td>2681128</td>\n",
       "      <td>1250683</td>\n",
       "      <td>test1</td>\n",
       "      <td>10</td>\n",
       "      <td>3</td>\n",
       "    </tr>\n",
       "    <tr>\n",
       "      <th>3</th>\n",
       "      <td>8773</td>\n",
       "      <td>301.748542</td>\n",
       "      <td>2681111</td>\n",
       "      <td>1250683</td>\n",
       "      <td>test1</td>\n",
       "      <td>10</td>\n",
       "      <td>4</td>\n",
       "    </tr>\n",
       "    <tr>\n",
       "      <th>4</th>\n",
       "      <td>2764</td>\n",
       "      <td>301.748529</td>\n",
       "      <td>2681131</td>\n",
       "      <td>1250692</td>\n",
       "      <td>test1</td>\n",
       "      <td>10</td>\n",
       "      <td>5</td>\n",
       "    </tr>\n",
       "    <tr>\n",
       "      <th>5</th>\n",
       "      <td>2513</td>\n",
       "      <td>301.748529</td>\n",
       "      <td>2681171</td>\n",
       "      <td>1250711</td>\n",
       "      <td>test1</td>\n",
       "      <td>10</td>\n",
       "      <td>6</td>\n",
       "    </tr>\n",
       "    <tr>\n",
       "      <th>6</th>\n",
       "      <td>9185</td>\n",
       "      <td>301.748542</td>\n",
       "      <td>2681107</td>\n",
       "      <td>1250712</td>\n",
       "      <td>test1</td>\n",
       "      <td>10</td>\n",
       "      <td>7</td>\n",
       "    </tr>\n",
       "    <tr>\n",
       "      <th>7</th>\n",
       "      <td>28521</td>\n",
       "      <td>301.748542</td>\n",
       "      <td>2681124</td>\n",
       "      <td>1250720</td>\n",
       "      <td>test1</td>\n",
       "      <td>10</td>\n",
       "      <td>8</td>\n",
       "    </tr>\n",
       "    <tr>\n",
       "      <th>8</th>\n",
       "      <td>26745</td>\n",
       "      <td>301.748542</td>\n",
       "      <td>2681117</td>\n",
       "      <td>1250725</td>\n",
       "      <td>test1</td>\n",
       "      <td>10</td>\n",
       "      <td>9</td>\n",
       "    </tr>\n",
       "    <tr>\n",
       "      <th>9</th>\n",
       "      <td>27391</td>\n",
       "      <td>301.748542</td>\n",
       "      <td>2681138</td>\n",
       "      <td>1250725</td>\n",
       "      <td>test1</td>\n",
       "      <td>10</td>\n",
       "      <td>10</td>\n",
       "    </tr>\n",
       "  </tbody>\n",
       "</table>\n",
       "</div>"
      ],
      "text/plain": [
       "      ID    accuracy        x        y  test1  test2  test3\n",
       "0   2550  439.128951  2681116  1250648  test1     10      1\n",
       "1  10437  301.748542  2681092  1250672  test1     10      2\n",
       "2   9174  301.748542  2681128  1250683  test1     10      3\n",
       "3   8773  301.748542  2681111  1250683  test1     10      4\n",
       "4   2764  301.748529  2681131  1250692  test1     10      5\n",
       "5   2513  301.748529  2681171  1250711  test1     10      6\n",
       "6   9185  301.748542  2681107  1250712  test1     10      7\n",
       "7  28521  301.748542  2681124  1250720  test1     10      8\n",
       "8  26745  301.748542  2681117  1250725  test1     10      9\n",
       "9  27391  301.748542  2681138  1250725  test1     10     10"
      ]
     },
     "execution_count": 6,
     "metadata": {},
     "output_type": "execute_result"
    }
   ],
   "source": [
    "zeckenstiche"
   ]
  },
  {
   "cell_type": "code",
   "execution_count": 7,
   "metadata": {
    "tags": [
     "remove-cell"
    ]
   },
   "outputs": [],
   "source": [
    "# Musterlösung\n",
    "\n",
    "del zeckenstiche['test1']\n",
    "del zeckenstiche['test2']\n",
    "del zeckenstiche['test3']"
   ]
  },
  {
   "cell_type": "markdown",
   "metadata": {},
   "source": [
    "% : `apply`\n",
    "(ex-apply)=\n",
    "### Übung 8.3\n",
    "\n",
    "`pandas` kennt eine ganze Familie von Methoden, um Spalten zu Manipulieren und Daten zu Aggregiren (`apply`, `map`, `mapapply`, `assign`). Es würde den Rahmen von diesem Kurs sprengen, die alle im Detail durch zu gehen, es lohnt sich aber sehr sich mit diesen zu befassen wenn man in sich näher mit Python befassen möchte.\n",
    "\n",
    "Im unseren Fall brauchen wir lediglich die Methode `apply` um die Funktion `offset_coordinate()` auf die Zeckenstichkoordinaten anzuwenden. Dabei gehen wir wie folgt for:\n"
   ]
  },
  {
   "cell_type": "code",
   "execution_count": 8,
   "metadata": {},
   "outputs": [
    {
     "data": {
      "text/plain": [
       "0    2.681210e+06\n",
       "1    2.681170e+06\n",
       "2    2.681155e+06\n",
       "3    2.681075e+06\n",
       "4    2.681259e+06\n",
       "5    2.681330e+06\n",
       "6    2.680941e+06\n",
       "7    2.681249e+06\n",
       "8    2.681106e+06\n",
       "9    2.681072e+06\n",
       "Name: x, dtype: float64"
      ]
     },
     "execution_count": 8,
     "metadata": {},
     "output_type": "execute_result"
    }
   ],
   "source": [
    "zeckenstiche[\"x\"].apply(offset_coordinate)\n",
    "#\\______1_______/ \\_2_/\\_______3_________/\n",
    "\n",
    "# 1. Spalte selektieren ([\"x\"])\n",
    "# 2. Methode \"apply\" aufrufen\n",
    "# 3. Function übergeben"
   ]
  },
  {
   "cell_type": "markdown",
   "metadata": {},
   "source": [
    "Verwende dieses Schema um auch `offset_coordinate` auf die `y` Spalte anzuwenden und speichere den Output dieser beiden Operationen als neue Spalten `x_sim` sowie `y_sim`. Die *DataFrame* `zeckenstiche` sollte danach wie folgt aussehen:"
   ]
  },
  {
   "cell_type": "code",
   "execution_count": 9,
   "metadata": {
    "tags": [
     "remove-cell"
    ]
   },
   "outputs": [],
   "source": [
    "# Musterlösung\n",
    "\n",
    "zeckenstiche[\"x_sim\"] = zeckenstiche[\"x\"].apply(offset_coordinate)\n",
    "zeckenstiche[\"y_sim\"] = zeckenstiche[\"y\"].apply(offset_coordinate)"
   ]
  },
  {
   "cell_type": "code",
   "execution_count": 10,
   "metadata": {},
   "outputs": [
    {
     "data": {
      "text/html": [
       "<div>\n",
       "<style scoped>\n",
       "    .dataframe tbody tr th:only-of-type {\n",
       "        vertical-align: middle;\n",
       "    }\n",
       "\n",
       "    .dataframe tbody tr th {\n",
       "        vertical-align: top;\n",
       "    }\n",
       "\n",
       "    .dataframe thead th {\n",
       "        text-align: right;\n",
       "    }\n",
       "</style>\n",
       "<table border=\"1\" class=\"dataframe\">\n",
       "  <thead>\n",
       "    <tr style=\"text-align: right;\">\n",
       "      <th></th>\n",
       "      <th>ID</th>\n",
       "      <th>accuracy</th>\n",
       "      <th>x</th>\n",
       "      <th>y</th>\n",
       "      <th>x_sim</th>\n",
       "      <th>y_sim</th>\n",
       "    </tr>\n",
       "  </thead>\n",
       "  <tbody>\n",
       "    <tr>\n",
       "      <th>0</th>\n",
       "      <td>2550</td>\n",
       "      <td>439.128951</td>\n",
       "      <td>2681116</td>\n",
       "      <td>1250648</td>\n",
       "      <td>2.681128e+06</td>\n",
       "      <td>1.250530e+06</td>\n",
       "    </tr>\n",
       "    <tr>\n",
       "      <th>1</th>\n",
       "      <td>10437</td>\n",
       "      <td>301.748542</td>\n",
       "      <td>2681092</td>\n",
       "      <td>1250672</td>\n",
       "      <td>2.681091e+06</td>\n",
       "      <td>1.250536e+06</td>\n",
       "    </tr>\n",
       "    <tr>\n",
       "      <th>2</th>\n",
       "      <td>9174</td>\n",
       "      <td>301.748542</td>\n",
       "      <td>2681128</td>\n",
       "      <td>1250683</td>\n",
       "      <td>2.681030e+06</td>\n",
       "      <td>1.250760e+06</td>\n",
       "    </tr>\n",
       "    <tr>\n",
       "      <th>3</th>\n",
       "      <td>8773</td>\n",
       "      <td>301.748542</td>\n",
       "      <td>2681111</td>\n",
       "      <td>1250683</td>\n",
       "      <td>2.681205e+06</td>\n",
       "      <td>1.250775e+06</td>\n",
       "    </tr>\n",
       "    <tr>\n",
       "      <th>4</th>\n",
       "      <td>2764</td>\n",
       "      <td>301.748529</td>\n",
       "      <td>2681131</td>\n",
       "      <td>1250692</td>\n",
       "      <td>2.681152e+06</td>\n",
       "      <td>1.250658e+06</td>\n",
       "    </tr>\n",
       "    <tr>\n",
       "      <th>5</th>\n",
       "      <td>2513</td>\n",
       "      <td>301.748529</td>\n",
       "      <td>2681171</td>\n",
       "      <td>1250711</td>\n",
       "      <td>2.681351e+06</td>\n",
       "      <td>1.250645e+06</td>\n",
       "    </tr>\n",
       "    <tr>\n",
       "      <th>6</th>\n",
       "      <td>9185</td>\n",
       "      <td>301.748542</td>\n",
       "      <td>2681107</td>\n",
       "      <td>1250712</td>\n",
       "      <td>2.681070e+06</td>\n",
       "      <td>1.250455e+06</td>\n",
       "    </tr>\n",
       "    <tr>\n",
       "      <th>7</th>\n",
       "      <td>28521</td>\n",
       "      <td>301.748542</td>\n",
       "      <td>2681124</td>\n",
       "      <td>1250720</td>\n",
       "      <td>2.681159e+06</td>\n",
       "      <td>1.250828e+06</td>\n",
       "    </tr>\n",
       "    <tr>\n",
       "      <th>8</th>\n",
       "      <td>26745</td>\n",
       "      <td>301.748542</td>\n",
       "      <td>2681117</td>\n",
       "      <td>1250725</td>\n",
       "      <td>2.681071e+06</td>\n",
       "      <td>1.250451e+06</td>\n",
       "    </tr>\n",
       "    <tr>\n",
       "      <th>9</th>\n",
       "      <td>27391</td>\n",
       "      <td>301.748542</td>\n",
       "      <td>2681138</td>\n",
       "      <td>1250725</td>\n",
       "      <td>2.681029e+06</td>\n",
       "      <td>1.250774e+06</td>\n",
       "    </tr>\n",
       "  </tbody>\n",
       "</table>\n",
       "</div>"
      ],
      "text/plain": [
       "      ID    accuracy        x        y         x_sim         y_sim\n",
       "0   2550  439.128951  2681116  1250648  2.681128e+06  1.250530e+06\n",
       "1  10437  301.748542  2681092  1250672  2.681091e+06  1.250536e+06\n",
       "2   9174  301.748542  2681128  1250683  2.681030e+06  1.250760e+06\n",
       "3   8773  301.748542  2681111  1250683  2.681205e+06  1.250775e+06\n",
       "4   2764  301.748529  2681131  1250692  2.681152e+06  1.250658e+06\n",
       "5   2513  301.748529  2681171  1250711  2.681351e+06  1.250645e+06\n",
       "6   9185  301.748542  2681107  1250712  2.681070e+06  1.250455e+06\n",
       "7  28521  301.748542  2681124  1250720  2.681159e+06  1.250828e+06\n",
       "8  26745  301.748542  2681117  1250725  2.681071e+06  1.250451e+06\n",
       "9  27391  301.748542  2681138  1250725  2.681029e+06  1.250774e+06"
      ]
     },
     "execution_count": 10,
     "metadata": {},
     "output_type": "execute_result"
    }
   ],
   "source": [
    "zeckenstiche"
   ]
  },
  {
   "cell_type": "markdown",
   "metadata": {},
   "source": [
    "% : Zusätzliche Parameter\n",
    "(ex-param)=\n",
    "### Übung 8.4\n",
    "\n",
    "In {ref}`ex-apply` haben wir unsere Funktion `offset_coordinate` aufgerufen, ohne den Parameter `distance` zu spezifizieren. Dies war möglich, weil wir für `distance` einen Defaultwert festgelegt hat (100 Meter). Wir können aber auch zusätzliche Parameter kommagetrennt nach der Funktion angeben. Dies sieht folgendermassen aus:"
   ]
  },
  {
   "cell_type": "code",
   "execution_count": 11,
   "metadata": {},
   "outputs": [
    {
     "data": {
      "text/plain": [
       "0    2.680999e+06\n",
       "1    2.680853e+06\n",
       "2    2.680774e+06\n",
       "3    2.681112e+06\n",
       "4    2.681087e+06\n",
       "5    2.681291e+06\n",
       "6    2.681333e+06\n",
       "7    2.680956e+06\n",
       "8    2.680822e+06\n",
       "9    2.681377e+06\n",
       "Name: x, dtype: float64"
      ]
     },
     "execution_count": 11,
     "metadata": {},
     "output_type": "execute_result"
    }
   ],
   "source": [
    "zeckenstiche[\"x\"].apply(offset_coordinate,distance = 200)"
   ]
  },
  {
   "cell_type": "markdown",
   "metadata": {},
   "source": [
    "Nuzte diese Möglichkeit, um die den Offset (`distance`) auf lediglich etwa 10 Meter zu reduzieren."
   ]
  },
  {
   "cell_type": "code",
   "execution_count": 12,
   "metadata": {
    "tags": [
     "remove-cell"
    ]
   },
   "outputs": [],
   "source": [
    "# Musterlösung\n",
    "\n",
    "zeckenstiche[\"x_sim\"] = zeckenstiche[\"x\"].apply(offset_coordinate, distance = 10)\n",
    "zeckenstiche[\"y_sim\"] = zeckenstiche[\"y\"].apply(offset_coordinate, distance = 10)"
   ]
  },
  {
   "cell_type": "markdown",
   "metadata": {},
   "source": [
    "% : Simulation visualisieren\n",
    "### Übung 8.5\n",
    "\n",
    "Um die Original `x`/`y`-Werte sowie die Simulierten Daten im gleichen Plot darzustellen, wird folgendermassen vorgegangen: Der erste Datensatz wird mit `.plot()` visualisiert, wobei der Output einer Variabel  (z.B. `basemap`)  zugewiesen wird. Danach wird der zweite Datensatz ebenfalls mit `.plot()` visualisiert, wobei auf den ersten Plot via dem Argument `ax` verwiesen wird.\n",
    "\n",
    "Bei den roten Punkten handelt es sich um die Original-Zeckenstichen, bei den blauen um die simulierten (leicht verschoben) Zeckenstiche. Visualisiere deine eigenen Zeckenstiche auf diese Weise."
   ]
  },
  {
   "cell_type": "code",
   "execution_count": 13,
   "metadata": {},
   "outputs": [],
   "source": [
    "from matplotlib import pyplot as plt"
   ]
  },
  {
   "cell_type": "code",
   "execution_count": 14,
   "metadata": {},
   "outputs": [
    {
     "data": {
      "image/png": "[encoded data removed]",
      "text/plain": [
       "<Figure size 432x288 with 1 Axes>"
      ]
     },
     "metadata": {
      "filenames": {
       "image/png": "/home/nils/ownCloud/Lehre/Bachelor/AGI/HS2021/JupyterBook/_build/jupyter_execute/B_Coding_in_GIS_2/7_Funktionen_in_DataFrames_22_0.png"
      },
      "needs_background": "light"
     },
     "output_type": "display_data"
    }
   ],
   "source": [
    "basemap = zeckenstiche.plot.scatter(\"x\", \"y\", color = \"red\")\n",
    "zeckenstiche.plot.scatter(\"x_sim\", \"y_sim\", ax = basemap, color = \"blue\")\n",
    "\n",
    "plt.axis(\"scaled\")\n",
    "\n",
    "plt.show()"
   ]
  },
  {
   "cell_type": "markdown",
   "metadata": {},
   "source": [
    "% Genauigkeitsangaben der Punkte mitberücksichtigen.\n",
    "### Übung 8.6\n",
    "\n",
    "In {ref}`ex-param` haben wir alle Punkte um etwa die gleiche Distaz (+/- 10m) verschoben. Wenn wir unsere *DataFrame* \"zeckensiche\" genau anschauen, steht uns eine Genauigkeitsangabe pro Punkt zur Verfügung: Die Spalte `accuracy`. Diese Spalte ist eine Genauigkeitsangabe über den gemeldeten Zeckenstich. Sie sagt etwas darüber aus, wie sicher der/die Nutzer\\*in bei der Standortsangabe war (z.B. \"*Diese Meldung ist etwa auf 300 Meter genau*\"). Wir können diese Genauigkeitsangabe auch nutzen um den offset *pro Punkt* zu bestimmen.\n",
    "\n",
    "Nutze die Spalte `accuracy` als Argument des Parameters `distance` in der Funktion `offset_coordinate` um genau dies zu erreichen. Visualisiere nun die Daten. Was ist hier passiert?"
   ]
  },
  {
   "cell_type": "code",
   "execution_count": 15,
   "metadata": {},
   "outputs": [
    {
     "data": {
      "text/html": [
       "<div>\n",
       "<style scoped>\n",
       "    .dataframe tbody tr th:only-of-type {\n",
       "        vertical-align: middle;\n",
       "    }\n",
       "\n",
       "    .dataframe tbody tr th {\n",
       "        vertical-align: top;\n",
       "    }\n",
       "\n",
       "    .dataframe thead th {\n",
       "        text-align: right;\n",
       "    }\n",
       "</style>\n",
       "<table border=\"1\" class=\"dataframe\">\n",
       "  <thead>\n",
       "    <tr style=\"text-align: right;\">\n",
       "      <th></th>\n",
       "      <th>ID</th>\n",
       "      <th>accuracy</th>\n",
       "      <th>x</th>\n",
       "      <th>y</th>\n",
       "      <th>x_sim</th>\n",
       "      <th>y_sim</th>\n",
       "    </tr>\n",
       "  </thead>\n",
       "  <tbody>\n",
       "    <tr>\n",
       "      <th>0</th>\n",
       "      <td>2550</td>\n",
       "      <td>439.128951</td>\n",
       "      <td>2681116</td>\n",
       "      <td>1250648</td>\n",
       "      <td>2.681103e+06</td>\n",
       "      <td>1.250639e+06</td>\n",
       "    </tr>\n",
       "    <tr>\n",
       "      <th>1</th>\n",
       "      <td>10437</td>\n",
       "      <td>301.748542</td>\n",
       "      <td>2681092</td>\n",
       "      <td>1250672</td>\n",
       "      <td>2.681088e+06</td>\n",
       "      <td>1.250669e+06</td>\n",
       "    </tr>\n",
       "    <tr>\n",
       "      <th>2</th>\n",
       "      <td>9174</td>\n",
       "      <td>301.748542</td>\n",
       "      <td>2681128</td>\n",
       "      <td>1250683</td>\n",
       "      <td>2.681132e+06</td>\n",
       "      <td>1.250694e+06</td>\n",
       "    </tr>\n",
       "    <tr>\n",
       "      <th>3</th>\n",
       "      <td>8773</td>\n",
       "      <td>301.748542</td>\n",
       "      <td>2681111</td>\n",
       "      <td>1250683</td>\n",
       "      <td>2.681114e+06</td>\n",
       "      <td>1.250700e+06</td>\n",
       "    </tr>\n",
       "    <tr>\n",
       "      <th>4</th>\n",
       "      <td>2764</td>\n",
       "      <td>301.748529</td>\n",
       "      <td>2681131</td>\n",
       "      <td>1250692</td>\n",
       "      <td>2.681131e+06</td>\n",
       "      <td>1.250683e+06</td>\n",
       "    </tr>\n",
       "    <tr>\n",
       "      <th>5</th>\n",
       "      <td>2513</td>\n",
       "      <td>301.748529</td>\n",
       "      <td>2681171</td>\n",
       "      <td>1250711</td>\n",
       "      <td>2.681175e+06</td>\n",
       "      <td>1.250719e+06</td>\n",
       "    </tr>\n",
       "    <tr>\n",
       "      <th>6</th>\n",
       "      <td>9185</td>\n",
       "      <td>301.748542</td>\n",
       "      <td>2681107</td>\n",
       "      <td>1250712</td>\n",
       "      <td>2.681102e+06</td>\n",
       "      <td>1.250702e+06</td>\n",
       "    </tr>\n",
       "    <tr>\n",
       "      <th>7</th>\n",
       "      <td>28521</td>\n",
       "      <td>301.748542</td>\n",
       "      <td>2681124</td>\n",
       "      <td>1250720</td>\n",
       "      <td>2.681106e+06</td>\n",
       "      <td>1.250717e+06</td>\n",
       "    </tr>\n",
       "    <tr>\n",
       "      <th>8</th>\n",
       "      <td>26745</td>\n",
       "      <td>301.748542</td>\n",
       "      <td>2681117</td>\n",
       "      <td>1250725</td>\n",
       "      <td>2.681125e+06</td>\n",
       "      <td>1.250715e+06</td>\n",
       "    </tr>\n",
       "    <tr>\n",
       "      <th>9</th>\n",
       "      <td>27391</td>\n",
       "      <td>301.748542</td>\n",
       "      <td>2681138</td>\n",
       "      <td>1250725</td>\n",
       "      <td>2.681129e+06</td>\n",
       "      <td>1.250742e+06</td>\n",
       "    </tr>\n",
       "  </tbody>\n",
       "</table>\n",
       "</div>"
      ],
      "text/plain": [
       "      ID    accuracy        x        y         x_sim         y_sim\n",
       "0   2550  439.128951  2681116  1250648  2.681103e+06  1.250639e+06\n",
       "1  10437  301.748542  2681092  1250672  2.681088e+06  1.250669e+06\n",
       "2   9174  301.748542  2681128  1250683  2.681132e+06  1.250694e+06\n",
       "3   8773  301.748542  2681111  1250683  2.681114e+06  1.250700e+06\n",
       "4   2764  301.748529  2681131  1250692  2.681131e+06  1.250683e+06\n",
       "5   2513  301.748529  2681171  1250711  2.681175e+06  1.250719e+06\n",
       "6   9185  301.748542  2681107  1250712  2.681102e+06  1.250702e+06\n",
       "7  28521  301.748542  2681124  1250720  2.681106e+06  1.250717e+06\n",
       "8  26745  301.748542  2681117  1250725  2.681125e+06  1.250715e+06\n",
       "9  27391  301.748542  2681138  1250725  2.681129e+06  1.250742e+06"
      ]
     },
     "execution_count": 15,
     "metadata": {},
     "output_type": "execute_result"
    }
   ],
   "source": [
    "zeckenstiche"
   ]
  },
  {
   "cell_type": "code",
   "execution_count": 16,
   "metadata": {
    "tags": [
     "remove-cell"
    ]
   },
   "outputs": [
    {
     "ename": "ValueError",
     "evalue": "Columns must be same length as key",
     "output_type": "error",
     "traceback": [
      "\u001b[0;31m---------------------------------------------------------------------------\u001b[0m",
      "\u001b[0;31mValueError\u001b[0m                                Traceback (most recent call last)",
      "\u001b[0;32m/tmp/ipykernel_6706/4265754613.py\u001b[0m in \u001b[0;36m<module>\u001b[0;34m\u001b[0m\n\u001b[1;32m      1\u001b[0m \u001b[0;31m# Musterlösung\u001b[0m\u001b[0;34m\u001b[0m\u001b[0;34m\u001b[0m\u001b[0m\n\u001b[1;32m      2\u001b[0m \u001b[0;34m\u001b[0m\u001b[0m\n\u001b[0;32m----> 3\u001b[0;31m \u001b[0mzeckenstiche\u001b[0m\u001b[0;34m[\u001b[0m\u001b[0;34m\"x_sim\"\u001b[0m\u001b[0;34m]\u001b[0m \u001b[0;34m=\u001b[0m \u001b[0mzeckenstiche\u001b[0m\u001b[0;34m[\u001b[0m\u001b[0;34m\"x\"\u001b[0m\u001b[0;34m]\u001b[0m\u001b[0;34m.\u001b[0m\u001b[0mapply\u001b[0m\u001b[0;34m(\u001b[0m\u001b[0moffset_coordinate\u001b[0m\u001b[0;34m,\u001b[0m \u001b[0mdistance\u001b[0m \u001b[0;34m=\u001b[0m \u001b[0mzeckenstiche\u001b[0m\u001b[0;34m[\u001b[0m\u001b[0;34m\"accuracy\"\u001b[0m\u001b[0;34m]\u001b[0m\u001b[0;34m)\u001b[0m\u001b[0;34m\u001b[0m\u001b[0;34m\u001b[0m\u001b[0m\n\u001b[0m\u001b[1;32m      4\u001b[0m \u001b[0mzeckenstiche\u001b[0m\u001b[0;34m[\u001b[0m\u001b[0;34m\"y_sim\"\u001b[0m\u001b[0;34m]\u001b[0m \u001b[0;34m=\u001b[0m \u001b[0mzeckenstiche\u001b[0m\u001b[0;34m[\u001b[0m\u001b[0;34m\"y\"\u001b[0m\u001b[0;34m]\u001b[0m\u001b[0;34m.\u001b[0m\u001b[0mapply\u001b[0m\u001b[0;34m(\u001b[0m\u001b[0moffset_coordinate\u001b[0m\u001b[0;34m,\u001b[0m \u001b[0mdistance\u001b[0m \u001b[0;34m=\u001b[0m \u001b[0mzeckenstiche\u001b[0m\u001b[0;34m[\u001b[0m\u001b[0;34m\"accuracy\"\u001b[0m\u001b[0;34m]\u001b[0m\u001b[0;34m)\u001b[0m\u001b[0;34m\u001b[0m\u001b[0;34m\u001b[0m\u001b[0m\n\u001b[1;32m      5\u001b[0m \u001b[0;34m\u001b[0m\u001b[0m\n",
      "\u001b[0;32m~/miniconda3/envs/agi-jb/lib/python3.9/site-packages/pandas/core/frame.py\u001b[0m in \u001b[0;36m__setitem__\u001b[0;34m(self, key, value)\u001b[0m\n\u001b[1;32m   3600\u001b[0m             \u001b[0mself\u001b[0m\u001b[0;34m.\u001b[0m\u001b[0m_setitem_array\u001b[0m\u001b[0;34m(\u001b[0m\u001b[0mkey\u001b[0m\u001b[0;34m,\u001b[0m \u001b[0mvalue\u001b[0m\u001b[0;34m)\u001b[0m\u001b[0;34m\u001b[0m\u001b[0;34m\u001b[0m\u001b[0m\n\u001b[1;32m   3601\u001b[0m         \u001b[0;32melif\u001b[0m \u001b[0misinstance\u001b[0m\u001b[0;34m(\u001b[0m\u001b[0mvalue\u001b[0m\u001b[0;34m,\u001b[0m \u001b[0mDataFrame\u001b[0m\u001b[0;34m)\u001b[0m\u001b[0;34m:\u001b[0m\u001b[0;34m\u001b[0m\u001b[0;34m\u001b[0m\u001b[0m\n\u001b[0;32m-> 3602\u001b[0;31m             \u001b[0mself\u001b[0m\u001b[0;34m.\u001b[0m\u001b[0m_set_item_frame_value\u001b[0m\u001b[0;34m(\u001b[0m\u001b[0mkey\u001b[0m\u001b[0;34m,\u001b[0m \u001b[0mvalue\u001b[0m\u001b[0;34m)\u001b[0m\u001b[0;34m\u001b[0m\u001b[0;34m\u001b[0m\u001b[0m\n\u001b[0m\u001b[1;32m   3603\u001b[0m         elif (\n\u001b[1;32m   3604\u001b[0m             \u001b[0mis_list_like\u001b[0m\u001b[0;34m(\u001b[0m\u001b[0mvalue\u001b[0m\u001b[0;34m)\u001b[0m\u001b[0;34m\u001b[0m\u001b[0;34m\u001b[0m\u001b[0m\n",
      "\u001b[0;32m~/miniconda3/envs/agi-jb/lib/python3.9/site-packages/pandas/core/frame.py\u001b[0m in \u001b[0;36m_set_item_frame_value\u001b[0;34m(self, key, value)\u001b[0m\n\u001b[1;32m   3727\u001b[0m             \u001b[0mlen_cols\u001b[0m \u001b[0;34m=\u001b[0m \u001b[0;36m1\u001b[0m \u001b[0;32mif\u001b[0m \u001b[0mis_scalar\u001b[0m\u001b[0;34m(\u001b[0m\u001b[0mcols\u001b[0m\u001b[0;34m)\u001b[0m \u001b[0;32melse\u001b[0m \u001b[0mlen\u001b[0m\u001b[0;34m(\u001b[0m\u001b[0mcols\u001b[0m\u001b[0;34m)\u001b[0m\u001b[0;34m\u001b[0m\u001b[0;34m\u001b[0m\u001b[0m\n\u001b[1;32m   3728\u001b[0m             \u001b[0;32mif\u001b[0m \u001b[0mlen_cols\u001b[0m \u001b[0;34m!=\u001b[0m \u001b[0mlen\u001b[0m\u001b[0;34m(\u001b[0m\u001b[0mvalue\u001b[0m\u001b[0;34m.\u001b[0m\u001b[0mcolumns\u001b[0m\u001b[0;34m)\u001b[0m\u001b[0;34m:\u001b[0m\u001b[0;34m\u001b[0m\u001b[0;34m\u001b[0m\u001b[0m\n\u001b[0;32m-> 3729\u001b[0;31m                 \u001b[0;32mraise\u001b[0m \u001b[0mValueError\u001b[0m\u001b[0;34m(\u001b[0m\u001b[0;34m\"Columns must be same length as key\"\u001b[0m\u001b[0;34m)\u001b[0m\u001b[0;34m\u001b[0m\u001b[0;34m\u001b[0m\u001b[0m\n\u001b[0m\u001b[1;32m   3730\u001b[0m \u001b[0;34m\u001b[0m\u001b[0m\n\u001b[1;32m   3731\u001b[0m             \u001b[0;31m# align right-hand-side columns if self.columns\u001b[0m\u001b[0;34m\u001b[0m\u001b[0;34m\u001b[0m\u001b[0m\n",
      "\u001b[0;31mValueError\u001b[0m: Columns must be same length as key"
     ]
    }
   ],
   "source": [
    "# Musterlösung\n",
    "\n",
    "zeckenstiche[\"x_sim\"] = zeckenstiche[\"x\"].apply(offset_coordinate, distance = zeckenstiche[\"accuracy\"])\n",
    "zeckenstiche[\"y_sim\"] = zeckenstiche[\"y\"].apply(offset_coordinate, distance = zeckenstiche[\"accuracy\"])\n",
    "\n",
    "zeckenstiche"
   ]
  },
  {
   "cell_type": "code",
   "execution_count": 17,
   "metadata": {
    "tags": [
     "remove-cell"
    ]
   },
   "outputs": [
    {
     "data": {
      "image/png": "[encoded data removed]",
      "text/plain": [
       "<Figure size 432x288 with 1 Axes>"
      ]
     },
     "metadata": {
      "filenames": {
       "image/png": "/home/nils/ownCloud/Lehre/Bachelor/AGI/HS2021/JupyterBook/_build/jupyter_execute/B_Coding_in_GIS_2/7_Funktionen_in_DataFrames_26_0.png"
      },
      "needs_background": "light"
     },
     "output_type": "display_data"
    }
   ],
   "source": [
    "# Musterlösung\n",
    "basemap = zeckenstiche.plot.scatter(\"x\", \"y\", color = \"red\")\n",
    "zeckenstiche.plot.scatter(\"x_sim\", \"y_sim\", ax = basemap, color = \"blue\")\n",
    "\n",
    "plt.axis(\"scaled\")\n",
    "\n",
    "plt.show()\n",
    "\n",
    "# Was ist hier passier? \n",
    "# Offensichtlich sind die Zeckenstiche nur wenige Meter voneinander entfernt.\n",
    "# Der offset von mehreren hunder Meter ist viel weiter, als diese Distanz."
   ]
  }
 ],
 "metadata": {
  "kernelspec": {
   "display_name": "Python 3",
   "language": "python",
   "name": "python3"
  },
  "language_info": {
   "codemirror_mode": {
    "name": "ipython",
    "version": 3
   },
   "file_extension": ".py",
   "mimetype": "text/x-python",
   "name": "python",
   "nbconvert_exporter": "python",
   "pygments_lexer": "ipython3",
   "version": "3.9.7"
  }
 },
 "nbformat": 4,
 "nbformat_minor": 4
}