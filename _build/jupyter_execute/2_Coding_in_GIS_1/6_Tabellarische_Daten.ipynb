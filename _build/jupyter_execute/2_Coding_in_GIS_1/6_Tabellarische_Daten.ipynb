{
 "cells": [
  {
   "cell_type": "markdown",
   "metadata": {},
   "source": [
    "(chap-dataframes)=\n",
    "# Aufgabe 4: Tabellarische Daten\n",
    "\n",
    "## Theorie\n",
    "\n",
    "Schauen wir uns nochmals die *Dictionary* `people` aus der letzten Übung an. Diese ist ein Spezialfall einer Dictionary: Jeder Eintrag besteht aus einer Liste von gleich vielen Werten. Wie bereits erwähnt, kann es in einem solchen Fall sinnvoll sein, die Dictionary als Tabelle darzustellen."
   ]
  },
  {
   "cell_type": "code",
   "execution_count": 1,
   "metadata": {},
   "outputs": [],
   "source": [
    "people = {\"vornamen\": [\"Christopher\", \"Henning\", \"Severin\"], \"nachnamen\": [\"Annen\",\"May\", \"Kantereit\"], \"groessen\": [174, 182, 162]}"
   ]
  },
  {
   "cell_type": "code",
   "execution_count": 2,
   "metadata": {},
   "outputs": [
    {
     "data": {
      "text/html": [
       "<div>\n",
       "<style scoped>\n",
       "    .dataframe tbody tr th:only-of-type {\n",
       "        vertical-align: middle;\n",
       "    }\n",
       "\n",
       "    .dataframe tbody tr th {\n",
       "        vertical-align: top;\n",
       "    }\n",
       "\n",
       "    .dataframe thead th {\n",
       "        text-align: right;\n",
       "    }\n",
       "</style>\n",
       "<table border=\"1\" class=\"dataframe\">\n",
       "  <thead>\n",
       "    <tr style=\"text-align: right;\">\n",
       "      <th></th>\n",
       "      <th>vornamen</th>\n",
       "      <th>nachnamen</th>\n",
       "      <th>groessen</th>\n",
       "    </tr>\n",
       "  </thead>\n",
       "  <tbody>\n",
       "    <tr>\n",
       "      <th>0</th>\n",
       "      <td>Christopher</td>\n",
       "      <td>Annen</td>\n",
       "      <td>174</td>\n",
       "    </tr>\n",
       "    <tr>\n",
       "      <th>1</th>\n",
       "      <td>Henning</td>\n",
       "      <td>May</td>\n",
       "      <td>182</td>\n",
       "    </tr>\n",
       "    <tr>\n",
       "      <th>2</th>\n",
       "      <td>Severin</td>\n",
       "      <td>Kantereit</td>\n",
       "      <td>162</td>\n",
       "    </tr>\n",
       "  </tbody>\n",
       "</table>\n",
       "</div>"
      ],
      "text/plain": [
       "      vornamen  nachnamen  groessen\n",
       "0  Christopher      Annen       174\n",
       "1      Henning        May       182\n",
       "2      Severin  Kantereit       162"
      ]
     },
     "execution_count": 2,
     "metadata": {},
     "output_type": "execute_result"
    }
   ],
   "source": [
    "import pandas as pd # Was diese Zeile beudeutet lernen wir später\n",
    "\n",
    "people_df = pd.DataFrame(people)\n",
    "\n",
    "people_df"
   ]
  },
  {
   "cell_type": "code",
   "execution_count": 3,
   "metadata": {
    "tags": [
     "remove-cell"
    ]
   },
   "outputs": [],
   "source": [
    "%matplotlib inline "
   ]
  },
  {
   "cell_type": "markdown",
   "metadata": {},
   "source": [
    "## Übungen\n",
    "\n",
    "% : von einer *Dictionary* zu einer *DataFrame*\n",
    "### Übung 4.1\n",
    "\n",
    "Importiere `pandas` und nutze die Funktion `DataFrame` um `people` in eine DataFrame umzuwandeln (siehe dazu das beispiel oben). Weise den Output der Variable `people_df` zu und schaue es dir im *Variable Explorer* an. \n"
   ]
  },
  {
   "cell_type": "code",
   "execution_count": 4,
   "metadata": {
    "tags": [
     "hide-cell"
    ]
   },
   "outputs": [],
   "source": [
    "# Musterlösung\n",
    "\n",
    "import pandas as pd \n",
    "\n",
    "people_df = pd.DataFrame(people)"
   ]
  },
  {
   "cell_type": "markdown",
   "metadata": {},
   "source": [
    "% : *DataFrame* in csv umwandeln\n",
    "(ex-to-csv)=\n",
    "### Übung 4.2"
   ]
  },
  {
   "cell_type": "markdown",
   "metadata": {},
   "source": [
    "In der Praxis kommen Tabellarische Daten meist als \"csv\" Dateien daher. Wir können aus unserer eben erstellten DataFrame sehr einfach eine csv Datei erstellen. Führe das mit folgendem Code aus und suche anschliessend die erstellte csv-Datei."
   ]
  },
  {
   "cell_type": "code",
   "execution_count": 5,
   "metadata": {},
   "outputs": [],
   "source": [
    "people_df.to_csv(\"people.csv\")"
   ]
  },
  {
   "cell_type": "markdown",
   "metadata": {},
   "source": [
    "% : CSV als *DataFrame* importieren\n",
    "(ex-import-zeckenstiche)=\n",
    "### Übung 4.3\n",
    "\n",
    "Genau so einfach ist es eine csv zu importieren. Lade die Datei \"zeckenstiche.csv\" (siehe {numref}`table-datensaetze`) herunter und speichere es im aktuellen Arbeitsverzeichnis ab. Importiere mit folgendem Code die Datei \"zeckenstiche.csv\". Schau dir `zeckenstiche` nach dem importieren im \"Variable Inspector\" an."
   ]
  },
  {
   "cell_type": "code",
   "execution_count": 6,
   "metadata": {},
   "outputs": [],
   "source": [
    "# ich habe die Daten in einem Unterordner \"data\" abgespeichert\n",
    "zeckenstiche = pd.read_csv(\"data/zeckenstiche.csv\")"
   ]
  },
  {
   "cell_type": "markdown",
   "metadata": {},
   "source": [
    "````{admonition} Achtung!\n",
    ":class: tip\n",
    "- Wenn du auf dem JupyterHub Server arbeitest dann ist dein Arbeitsverzeichnis ebenfalls *auf dem Server*. Das heisst, du musst \"zeckenstiche.csv\" auf den Server hochladen. Dies kannst du mit dem Button \"Upload Files\" im Tab \"File Browser\" bewerkstelligen (s.u.).\n",
    "\n",
    "```{image} figures/upload.jpg\n",
    ":name: label\n",
    "```\n",
    "\n",
    "- Der Code (`pd.read_csv(\"data/zeckenstiche.csv\")`) funktioniert nur, wenn \"zeckenstiche.csv\" in einem Ordner \"data\" im aktuellen Arbeitsverzeichnis (*Current Working Directory*) abgespeichert ist. Wenn du nicht sicher bist, wo dein aktuelles Arbeitsverzeichnis liegt, kannst du dies mit der Funktion `os.getcwd()` (**get** **c**urrent **w**orking **d**irectory) herausfinden (s.u.).\n",
    "``` python\n",
    "import os\n",
    "os.getcwd()\n",
    "```\n",
    "````\n",
    "\n"
   ]
  },
  {
   "cell_type": "markdown",
   "metadata": {},
   "source": [
    "% : Koordinaten räumlich darstellen\n",
    "(ex-scatterplot)=\n",
    "### Übung 4.4\n",
    "\n",
    "Die *DataFrame* `zeckenstiche` beinhaltet x und y Koordinaten für jeden Unfall in den gleichnamigen Spalten. Wir können die Stiche mit einem Scatterplot räumlich visualisieren. Führe dazu folgenden Code aus. Überlege dir, was die zweite Zeile bewirkt und warum dies sinnvoll ist.\n"
   ]
  },
  {
   "cell_type": "code",
   "execution_count": 7,
   "metadata": {},
   "outputs": [
    {
     "data": {
      "text/plain": [
       "(2681088.05, 2681174.95, 1250644.15, 1250728.85)"
      ]
     },
     "execution_count": 7,
     "metadata": {},
     "output_type": "execute_result"
    },
    {
     "data": {
      "image/png": "[encoded data removed]",
      "text/plain": [
       "<Figure size 432x288 with 1 Axes>"
      ]
     },
     "metadata": {
      "filenames": {
       "image/png": "/home/nils/ownCloud/Lehre/Bachelor/AGI/HS2021/JupyterBook/_build/jupyter_execute/2_Coding_in_GIS_1/6_Tabellarische_Daten_13_1.png"
      },
      "needs_background": "light"
     },
     "output_type": "display_data"
    }
   ],
   "source": [
    "fig = zeckenstiche.plot.scatter(\"x\",\"y\")\n",
    "\n",
    "fig.axis(\"equal\")"
   ]
  },
  {
   "cell_type": "code",
   "execution_count": 8,
   "metadata": {
    "tags": [
     "hide-cell"
    ]
   },
   "outputs": [],
   "source": [
    "# Musterlösung\n",
    "\n",
    "# fig.axis(\"equal\") sorgt dafür, dass die Skala der beiden Achsen\n",
    "# (x und y) gleich sind. Dies ist desshalb sinnvoll, da es sich um \n",
    "# räumliche Koordinaten handelt und die Distanzen in Richtung \"Nord-Süd\"\n",
    "# (y-Achse) sowie in \"West-Ost\" (x-Achse) die gleiche Skala haben (Meter)\n",
    "# https://matplotlib.org/3.1.3/api/_as_gen/matplotlib.pyplot.axis.html"
   ]
  },
  {
   "cell_type": "markdown",
   "metadata": {},
   "source": [
    "% : Einzelne Spalte selektieren\n",
    "(ex-sel-col)=\n",
    "### Übung 4.5\n",
    "\n",
    "Um eine einzelne Spalte zu selektieren (z.B. die Spalte \"ID\"), kann man gleich vorgehen wie bei der Selektion eines Eintrags in einer *Dictionary*. Probiere es aus."
   ]
  },
  {
   "cell_type": "code",
   "execution_count": 9,
   "metadata": {
    "tags": [
     "hide-cell"
    ]
   },
   "outputs": [
    {
     "data": {
      "text/plain": [
       "0     2550\n",
       "1    10437\n",
       "2     9174\n",
       "3     8773\n",
       "4     2764\n",
       "5     2513\n",
       "6     9185\n",
       "7    28521\n",
       "8    26745\n",
       "9    27391\n",
       "Name: ID, dtype: int64"
      ]
     },
     "execution_count": 9,
     "metadata": {},
     "output_type": "execute_result"
    }
   ],
   "source": [
    "# Musterlösung\n",
    "\n",
    "zeckenstiche[\"ID\"]"
   ]
  },
  {
   "cell_type": "markdown",
   "metadata": {},
   "source": [
    "% : Neue Spalte erstellen\n",
    "(ex-new-col)=\n",
    "### Übung 4.6\n",
    "\n",
    "Auch das Erstellen einer neuen Spalte ist identisch mit der Erstellung eines neuen *Dictionary* Eintrags. Erstelle eine neue Spalte \"Stichtyp\" mit dem Wert \"Zecke\" auf jeder Zeile (s.u.)."
   ]
  },
  {
   "cell_type": "code",
   "execution_count": 10,
   "metadata": {
    "tags": [
     "hide-cell"
    ]
   },
   "outputs": [],
   "source": [
    "# Musterlösung\n",
    "zeckenstiche[\"Stichtyp\"] = \"Zecke\""
   ]
  },
  {
   "cell_type": "code",
   "execution_count": 11,
   "metadata": {},
   "outputs": [
    {
     "data": {
      "text/html": [
       "<div>\n",
       "<style scoped>\n",
       "    .dataframe tbody tr th:only-of-type {\n",
       "        vertical-align: middle;\n",
       "    }\n",
       "\n",
       "    .dataframe tbody tr th {\n",
       "        vertical-align: top;\n",
       "    }\n",
       "\n",
       "    .dataframe thead th {\n",
       "        text-align: right;\n",
       "    }\n",
       "</style>\n",
       "<table border=\"1\" class=\"dataframe\">\n",
       "  <thead>\n",
       "    <tr style=\"text-align: right;\">\n",
       "      <th></th>\n",
       "      <th>ID</th>\n",
       "      <th>accuracy</th>\n",
       "      <th>x</th>\n",
       "      <th>y</th>\n",
       "      <th>Stichtyp</th>\n",
       "    </tr>\n",
       "  </thead>\n",
       "  <tbody>\n",
       "    <tr>\n",
       "      <th>0</th>\n",
       "      <td>2550</td>\n",
       "      <td>439.128951</td>\n",
       "      <td>2681116</td>\n",
       "      <td>1250648</td>\n",
       "      <td>Zecke</td>\n",
       "    </tr>\n",
       "    <tr>\n",
       "      <th>1</th>\n",
       "      <td>10437</td>\n",
       "      <td>301.748542</td>\n",
       "      <td>2681092</td>\n",
       "      <td>1250672</td>\n",
       "      <td>Zecke</td>\n",
       "    </tr>\n",
       "    <tr>\n",
       "      <th>2</th>\n",
       "      <td>9174</td>\n",
       "      <td>301.748542</td>\n",
       "      <td>2681128</td>\n",
       "      <td>1250683</td>\n",
       "      <td>Zecke</td>\n",
       "    </tr>\n",
       "    <tr>\n",
       "      <th>3</th>\n",
       "      <td>8773</td>\n",
       "      <td>301.748542</td>\n",
       "      <td>2681111</td>\n",
       "      <td>1250683</td>\n",
       "      <td>Zecke</td>\n",
       "    </tr>\n",
       "    <tr>\n",
       "      <th>4</th>\n",
       "      <td>2764</td>\n",
       "      <td>301.748529</td>\n",
       "      <td>2681131</td>\n",
       "      <td>1250692</td>\n",
       "      <td>Zecke</td>\n",
       "    </tr>\n",
       "    <tr>\n",
       "      <th>5</th>\n",
       "      <td>2513</td>\n",
       "      <td>301.748529</td>\n",
       "      <td>2681171</td>\n",
       "      <td>1250711</td>\n",
       "      <td>Zecke</td>\n",
       "    </tr>\n",
       "    <tr>\n",
       "      <th>6</th>\n",
       "      <td>9185</td>\n",
       "      <td>301.748542</td>\n",
       "      <td>2681107</td>\n",
       "      <td>1250712</td>\n",
       "      <td>Zecke</td>\n",
       "    </tr>\n",
       "    <tr>\n",
       "      <th>7</th>\n",
       "      <td>28521</td>\n",
       "      <td>301.748542</td>\n",
       "      <td>2681124</td>\n",
       "      <td>1250720</td>\n",
       "      <td>Zecke</td>\n",
       "    </tr>\n",
       "    <tr>\n",
       "      <th>8</th>\n",
       "      <td>26745</td>\n",
       "      <td>301.748542</td>\n",
       "      <td>2681117</td>\n",
       "      <td>1250725</td>\n",
       "      <td>Zecke</td>\n",
       "    </tr>\n",
       "    <tr>\n",
       "      <th>9</th>\n",
       "      <td>27391</td>\n",
       "      <td>301.748542</td>\n",
       "      <td>2681138</td>\n",
       "      <td>1250725</td>\n",
       "      <td>Zecke</td>\n",
       "    </tr>\n",
       "  </tbody>\n",
       "</table>\n",
       "</div>"
      ],
      "text/plain": [
       "      ID    accuracy        x        y Stichtyp\n",
       "0   2550  439.128951  2681116  1250648    Zecke\n",
       "1  10437  301.748542  2681092  1250672    Zecke\n",
       "2   9174  301.748542  2681128  1250683    Zecke\n",
       "3   8773  301.748542  2681111  1250683    Zecke\n",
       "4   2764  301.748529  2681131  1250692    Zecke\n",
       "5   2513  301.748529  2681171  1250711    Zecke\n",
       "6   9185  301.748542  2681107  1250712    Zecke\n",
       "7  28521  301.748542  2681124  1250720    Zecke\n",
       "8  26745  301.748542  2681117  1250725    Zecke\n",
       "9  27391  301.748542  2681138  1250725    Zecke"
      ]
     },
     "execution_count": 11,
     "metadata": {},
     "output_type": "execute_result"
    }
   ],
   "source": [
    "zeckenstiche"
   ]
  }
 ],
 "metadata": {
  "kernelspec": {
   "display_name": "Python 3",
   "language": "python",
   "name": "python3"
  },
  "language_info": {
   "codemirror_mode": {
    "name": "ipython",
    "version": 3
   },
   "file_extension": ".py",
   "mimetype": "text/x-python",
   "name": "python",
   "nbconvert_exporter": "python",
   "pygments_lexer": "ipython3",
   "version": "3.8.10"
  }
 },
 "nbformat": 4,
 "nbformat_minor": 4
}