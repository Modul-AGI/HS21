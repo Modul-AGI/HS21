{
 "cells": [
  {
   "cell_type": "code",
   "execution_count": 1,
   "id": "0108fb2d-e3e7-4098-9d30-29f2e878937d",
   "metadata": {},
   "outputs": [],
   "source": [
    "insdf = \"lkjsdf\""
   ]
  },
  {
   "cell_type": "code",
   "execution_count": 2,
   "id": "e5ef1575-a724-4991-b26d-ac6a89333a03",
   "metadata": {},
   "outputs": [],
   "source": [
    "meinname = \"nils\""
   ]
  },
  {
   "cell_type": "markdown",
   "id": "a54846ea-10c6-4710-ae1b-dbb7bd601364",
   "metadata": {},
   "source": [
    "## Aufgabe 5.1\n",
    "\n",
    "# Titel stufe 1\n",
    "## Unterkapiel\n",
    "###\n",
    "\n",
    "**fett** *kursiv*\n",
    "\n",
    "ich werde hier eine funktion erstellen:"
   ]
  },
  {
   "cell_type": "code",
   "execution_count": 3,
   "id": "f5db7149-3be1-48c9-936f-f8a9882f9114",
   "metadata": {},
   "outputs": [],
   "source": [
    "def sag_hallo():\n",
    "    print(\"hallo!\")"
   ]
  },
  {
   "cell_type": "code",
   "execution_count": null,
   "id": "5ccb9d4f-fcee-4390-b4eb-09b2fcaf2680",
   "metadata": {},
   "outputs": [],
   "source": []
  }
 ],
 "metadata": {
  "kernelspec": {
   "display_name": "Python 3 (ipykernel)",
   "language": "python",
   "name": "python3"
  },
  "language_info": {
   "codemirror_mode": {
    "name": "ipython",
    "version": 3
   },
   "file_extension": ".py",
   "mimetype": "text/x-python",
   "name": "python",
   "nbconvert_exporter": "python",
   "pygments_lexer": "ipython3",
   "version": "3.8.10"
  }
 },
 "nbformat": 4,
 "nbformat_minor": 5
}
