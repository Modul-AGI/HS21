{
 "cells": [
  {
   "cell_type": "markdown",
   "source": [
    "(forloops-2)=\n",
    "# Aufgabe 11: *for loop* Basics"
   ],
   "metadata": {}
  },
  {
   "cell_type": "markdown",
   "source": [
    "## Theorie\n",
    "\n",
    "Bis jetzt haben wir lediglich Sachen in die Konsole herausgeben lassen, doch wie schon bei Functions ist der Zweck einer *for loop* meist, dass nach Durchführung etwas davon zurückbleibt. Aber `return()` gibt es wie bereits erwähnt bei *for loops* nicht. Nehmen wir folgendes Beispiel:"
   ],
   "metadata": {}
  },
  {
   "cell_type": "code",
   "execution_count": 1,
   "source": [
    "for rolle in [\"bitch\",\"lover\",\"child\",\"mother\",\"sinner\",\"saint\"]:\n",
    "    liedzeile = \"I'm a \"+ rolle \n",
    "    print(liedzeile)"
   ],
   "outputs": [
    {
     "output_type": "stream",
     "name": "stdout",
     "text": [
      "I'm a bitch\n",
      "I'm a lover\n",
      "I'm a child\n",
      "I'm a mother\n",
      "I'm a sinner\n",
      "I'm a saint\n",
      "I do not feel ashamed\n"
     ]
    }
   ],
   "metadata": {}
  },
  {
   "cell_type": "markdown",
   "source": [
    "Der Output von dieser For-Loop sind zwar sechs Liederzeilen, wenn wir die Variabel `liedzeile` aber jetzt anschauen ist dort nur das Resultat aus der letzten Durchführung gespeichert. Das gleiche gilt auch für die Variabel `rolle`."
   ],
   "metadata": {}
  },
  {
   "cell_type": "code",
   "execution_count": 8,
   "source": [
    "liedzeile"
   ],
   "outputs": [
    {
     "output_type": "execute_result",
     "data": {
      "text/plain": [
       "\"I'm a saint\""
      ]
     },
     "metadata": {},
     "execution_count": 8
    }
   ],
   "metadata": {}
  },
  {
   "cell_type": "code",
   "execution_count": 9,
   "source": [
    "rolle"
   ],
   "outputs": [
    {
     "output_type": "execute_result",
     "data": {
      "text/plain": [
       "'saint'"
      ]
     },
     "metadata": {},
     "execution_count": 9
    }
   ],
   "metadata": {}
  },
  {
   "cell_type": "markdown",
   "source": [
    "Das verrät uns etwas über die Funktionsweise des *for loops*: Bei jedem Durchgang werden die Variablen immer wieder überschrieben. Wenn wir also den Output des ganzen For-Loops abspeichern wollen, müssen wir dies etwas vorbereiten.\n",
    "\n",
    "Dafür erstellen wir unmittelbar for dem *for loops* einen leeren Behälter, zum Beispiel eine leere Liste:"
   ],
   "metadata": {}
  },
  {
   "cell_type": "code",
   "execution_count": 1,
   "source": [
    "refrain = []"
   ],
   "outputs": [],
   "metadata": {}
  },
  {
   "cell_type": "markdown",
   "source": [
    "Nun können wir innerhalb des *Loops* `append()` nutzen, um den Output von einem Durchgang dieser Liste hinzuzufügen."
   ],
   "metadata": {}
  },
  {
   "cell_type": "code",
   "execution_count": 2,
   "source": [
    "for rolle in [\"bitch\",\"lover\",\"child\",\"mother\",\"sinner\",\"saint\"]:\n",
    "    liedzeile = \"I'm a \"+ rolle \n",
    "    refrain.append(liedzeile)"
   ],
   "outputs": [],
   "metadata": {}
  },
  {
   "cell_type": "markdown",
   "source": [
    "In unserer Liste `refrain` ist nun der Wert *jeder* Iteration gespeichert."
   ],
   "metadata": {}
  },
  {
   "cell_type": "code",
   "execution_count": 2,
   "source": [
    "refrain"
   ],
   "outputs": [
    {
     "output_type": "execute_result",
     "data": {
      "text/plain": [
       "[\"I'm a bitch\",\n",
       " \"I'm a lover\",\n",
       " \"I'm a child\",\n",
       " \"I'm a mother\",\n",
       " \"I'm a sinner\",\n",
       " \"I'm a saint\"]"
      ]
     },
     "metadata": {},
     "execution_count": 2
    }
   ],
   "metadata": {}
  },
  {
   "cell_type": "markdown",
   "source": [
    "## Übungen\n",
    "\n",
    "% : Grüsse speichern\n",
    "### Übung 11.1\n",
    "\n",
    "Nehmen wir nochmals das Beispiel aus {ref}`for-gruss`. Erstelle nochmal ein Loop, wo drei Personen aus einer Liste gegrüsst werden. Diesmal sollen aber die drei Grüsse in einer Liste (z.B. `mylist`) gespeichert werden."
   ],
   "metadata": {}
  },
  {
   "cell_type": "code",
   "execution_count": 6,
   "source": [
    "# Musterlösung\n",
    "\n",
    "mylist = []\n",
    "\n",
    "for name in [\"Il Buono\", \"Il Brutto\", \"Il Cattivo\"]:\n",
    "    mylist.append(\"Ciao \"+name)"
   ],
   "outputs": [],
   "metadata": {
    "tags": [
     "remove-cell"
    ]
   }
  },
  {
   "cell_type": "code",
   "execution_count": 8,
   "source": [
    "# Das Resultat sieht dann so aus:\n",
    "mylist"
   ],
   "outputs": [
    {
     "output_type": "execute_result",
     "data": {
      "text/plain": [
       "['Ciao Il Buono', 'Ciao Il Brutto', 'Ciao Il Cattivo']"
      ]
     },
     "metadata": {},
     "execution_count": 8
    }
   ],
   "metadata": {}
  },
  {
   "cell_type": "markdown",
   "source": [
    "% : Ganze Strophe speichern\n",
    "(ex-loopoutput)=\n",
    "### Übung 11.2\n",
    "    \n",
    "Der im Beispiel verwendete Refrain aus [dem Lied \"Bitch\" von Meredith Brooks](https://www.metrolyrics.com/bitch-lyrics-meredith-brooks.html) besteht bis auf zwei Zeilen aus Wiederholungen. Versuche mit **zwei verschiedenen**, aneinander gereihten *for loops* den ganzen Refrain in einer Liste zu speichern. Die beiden Teile die vom Muster Abweichen (\"*I do not feel ashamed*\" und \"*You know you wouldn't want it any other way*\") kannst du auch ausserhalb der Loops in die Listen einfügen (`append`)."
   ],
   "metadata": {}
  },
  {
   "cell_type": "code",
   "execution_count": 9,
   "source": [
    "# Musterlösung\n",
    "\n",
    "refrain = []\n",
    "\n",
    "for rolle in [\"bitch\",\"lover\",\"child\",\"mother\",\"sinner\",\"saint\"]:\n",
    "    liedzeile = \"I'm a \"+ rolle \n",
    "    refrain.append(liedzeile)\n",
    "refrain.append(\"I do not feel ashamed\")\n",
    "for rolle in [\"your hell\",\"your dream\",\"nothing in between\"]:\n",
    "    liedzeile = \"I'm \"+ rolle \n",
    "    refrain.append(liedzeile)\n",
    "refrain.append(\"You know you wouldn't want it any other way\") "
   ],
   "outputs": [],
   "metadata": {
    "tags": [
     "remove-cell"
    ]
   }
  },
  {
   "cell_type": "code",
   "execution_count": null,
   "source": [
    "# Das Resultat sieht dann so aus:\n",
    "refrain"
   ],
   "outputs": [],
   "metadata": {}
  }
 ],
 "metadata": {
  "kernelspec": {
   "display_name": "Python 3 (ipykernel)",
   "language": "python",
   "name": "python3"
  },
  "language_info": {
   "codemirror_mode": {
    "name": "ipython",
    "version": 3
   },
   "file_extension": ".py",
   "mimetype": "text/x-python",
   "name": "python",
   "nbconvert_exporter": "python",
   "pygments_lexer": "ipython3",
   "version": "3.8.10"
  }
 },
 "nbformat": 4,
 "nbformat_minor": 4
}