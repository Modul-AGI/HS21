{
 "cells": [
  {
   "cell_type": "markdown",
   "source": [
    "(forloops-3)=\n",
    "# Aufgabe 12: *for loops* Advanced\n",
    "\n",
    "## Theorie\n",
    "\n",
    "In diesem Kapitel kommen noch zwei Aspekte von *for loops*, die als \"*Advanced*\" eingestuft werden können aber in der Praxis sehr nützlich sind. Dabei geht es einerseits um verschachtelte *for loops* und zum andere um eine verkürzte Schreibweise von *for loops*. \n",
    "\n",
    "### Verschachtelte *for loops*\n",
    "\n",
    "Wir können verschiedene *for loops* auch ineinander verschachteln (englisch: *nested loops*). Das ist vor allem dann nützlich, wenn alle Kombinationen aus zwei Datensätzen miteinander verrechnet werden müssen. Angenommen du willst die drei Mitglieder deiner Band (bestehend aus *Il Buono*, *Il Brutto*, *Il Cattivo*) deinen Eltern vorstellen und auch umgekehrt deine Eltern deiner Band vorstellen. Für so was eignen sich zwei verschachtelte *for Loops* hervorragend:\n",
    "\n",
    "```{tip}\n",
    ":class: dropdown\n",
    "Als Platzhaltervariabel nutze ich wenn immer möglich das Singulär und für den Iterator das Plural von dem Objekt, über das ich iteriere. `for bandmitglied in band`, `for vogel in voegel` usw, dies hilft mir den Überblick im *loop* zu bewahren.\n",
    "```"
   ],
   "metadata": {}
  },
  {
   "cell_type": "code",
   "execution_count": 30,
   "source": [
    "eltern = [\"Papa\", \"Mama\"]\n",
    "band = [\"Il Buono\", \"Il Brutto\", \"Il Cattivo\"]\n",
    "\n",
    "for bandmitglied in band:\n",
    "    for elternteil in eltern:\n",
    "        print(elternteil, \"das ist\",bandmitglied)\n",
    "        print(bandmitglied, \"das ist\",elternteil)\n",
    "        print(\"---\")"
   ],
   "outputs": [
    {
     "output_type": "stream",
     "name": "stdout",
     "text": [
      "Papa das ist Il Buono\n",
      "Il Buono das ist Papa\n",
      "---\n",
      "Mama das ist Il Buono\n",
      "Il Buono das ist Mama\n",
      "---\n",
      "Papa das ist Il Brutto\n",
      "Il Brutto das ist Papa\n",
      "---\n",
      "Mama das ist Il Brutto\n",
      "Il Brutto das ist Mama\n",
      "---\n",
      "Papa das ist Il Cattivo\n",
      "Il Cattivo das ist Papa\n",
      "---\n",
      "Mama das ist Il Cattivo\n",
      "Il Cattivo das ist Mama\n",
      "---\n"
     ]
    }
   ],
   "metadata": {}
  },
  {
   "cell_type": "markdown",
   "source": [
    "````{admonition} Ein weiteres fakultatives Beispiel\n",
    ":class: dropdown\n",
    "Ein anderes Beispiel:  In {ref}`chap-forloops-ex-party` haben wir die beiden Zeilen `\"Who likes to party?\"`, \"We like to party?\" 5x wiederholt. Dabei werden die Wörter `to party` für jede Wiederholung zwei mal wiederholt:\n",
    "\n",
    "```\n",
    "Who likes to party?\n",
    "We like to party!\n",
    "Who likes to party?\n",
    "We like to party!\n",
    "...\n",
    "```\n",
    "\n",
    "Dies kann man in zwei verschachtelte *For Loops* umschreiben:\n",
    "\n",
    "```python\n",
    "\n",
    "for i in range(5):\n",
    "    inner = [\"Who likes\", \"We like\"]\n",
    "    for j in inner:\n",
    "        print(j+\" to party\")\n",
    "\n",
    "Who likes to party\n",
    "We like to party\n",
    "Who likes to party\n",
    "We like to party\n",
    "```\n",
    "\n",
    "````"
   ],
   "metadata": {
    "tags": []
   }
  },
  {
   "cell_type": "markdown",
   "source": [
    "### Verkürzte Schreibweise\n",
    "\n",
    "Es ist äusserst häufig der Fall, dass wir den Output aus einem Loop in einer Liste abspeichern wollen. Wie das geht haben wir ja bereits in {ref}`forloops-2` gelernt:"
   ],
   "metadata": {}
  },
  {
   "cell_type": "code",
   "execution_count": 20,
   "source": [
    "rollen = [\"bitch\",\"lover\",\"child\",\"mother\",\"sinner\",\"saint\"]\n",
    "\n",
    "refrain = []\n",
    "for rolle in rollen:\n",
    "    liedzeile = \"I'm a \"+ rolle \n",
    "    refrain.append(liedzeile)"
   ],
   "outputs": [],
   "metadata": {}
  },
  {
   "cell_type": "markdown",
   "source": [
    "Nur ist das ein *bisschen* umständlich, weil wir dafür viele Zeilen Code brauchen, um etwas eigentlich ganz simples zu bewerkstelligen. Es gibt deshalb dafür auch eine verkürzte Schreibweise, welche ich in der letzten Woche bereits einmal verwendet habe (siehe {ref}`offset-vis`). Der obige Loop hat in der verkürzten Schreibweise die folgende Form:"
   ],
   "metadata": {}
  },
  {
   "cell_type": "code",
   "execution_count": 19,
   "source": [
    "refrain = [\"I'm a \"+ rolle for rolle in rollen]"
   ],
   "outputs": [],
   "metadata": {}
  },
  {
   "cell_type": "markdown",
   "source": [
    "Diese verkürzte Schreibweise heisst in Python *list comprehension* und sie ist äusserst praktisch, wenn man sie beherrscht. Das Beherrschen ist aber nicht zentral, es reicht schon wenn ihr eine solche Schreibweise wieder erkennt und richtig interpretieren könnt (im Sinne von \"*Aha, hier wird also in einem Loop eine Liste erstellt*\"). In der folgenden Darstellung seht ihr farblich, welche Elemente sich in der verkürzten Schreibweise wo wiederfinden und welche Elemente gar nicht wiederverwendet werden."
   ],
   "metadata": {}
  },
  {
   "cell_type": "markdown",
   "source": [
    "\n",
    "<pre>rollen = [\"bitch\",\"lover\",\"child\",\"mother\",\"sinner\",\"saint\"]</pre>\n",
    "\n",
    "````{panels}\n",
    "Herkömmlicher For-Loop:\n",
    "^^^\n",
    "<pre class = \"showcol\">\n",
    "<span class = \"grp1\">refrain =</span> <span class = \"grp2\">[]</span>\n",
    "<span class = \"grp3\">for</span> <span class = \"grp4\">ro in rollen</span>:\n",
    "    <del>liedzeile =</del> <span class = \"grp5\">\"I'm a \"+ ro</span>\n",
    "    <del>refrain.append(liedzeile)</del>\n",
    "</pre>\n",
    "---\n",
    "Verkürzte Schreibweise:\n",
    "^^^\n",
    "<pre class = \"showcol\">\n",
    "<span class = \"grp1\">refrain =</span> <span class = \"grp2\">[</span><span class = \"grp5\">\"I'm a \"+ ro</span> <span class = \"grp3\">for</span> <span class = \"grp4\">ro in rollen</span><span class = \"grp2\">]</span>\n",
    "</pre>\n",
    "````"
   ],
   "metadata": {}
  },
  {
   "cell_type": "markdown",
   "source": [
    "## Übungen"
   ],
   "metadata": {}
  },
  {
   "cell_type": "markdown",
   "source": [
    "% : Nested Loop: Bellen und Fauchen\n",
    "### Übung 12.1\n",
    "\n",
    "Erstelle zwei Listen bestehend aus 3 Hundenamen (`hunde`) und 3 Katzennamen (`katzen`). Erstelle einen verschachtelten *For Loop*, wo jeder Hund jede Katze anbellt und jede Katze jeden Hund anfaucht.\n",
    "\n",
    "```python\n",
    "Bruno bellt Greta an\n",
    "Greta faucht Bruno an\n",
    "Berta bellt Greta an\n",
    "....\n",
    "```"
   ],
   "metadata": {}
  },
  {
   "cell_type": "code",
   "execution_count": 35,
   "source": [
    "# Musterlösung\n",
    "\n",
    "hunde = [\"Bruno\", \"Berta\",\"Helmi\"]\n",
    "katzen = [\"Greta\", \"Xavier\", \"Zachy\"]\n",
    "\n",
    "for katze in katzen:\n",
    "    for hund in hunde:\n",
    "        print(hund, \"bellt\", katze, \"an\")\n",
    "        print(katze, \"faucht\", hund,\"an\")"
   ],
   "outputs": [
    {
     "output_type": "stream",
     "name": "stdout",
     "text": [
      "Bruno bellt Greta an\n",
      "Greta faucht Bruno an\n",
      "Berta bellt Greta an\n",
      "Greta faucht Berta an\n",
      "Helmi bellt Greta an\n",
      "Greta faucht Helmi an\n",
      "Bruno bellt Xavier an\n",
      "Xavier faucht Bruno an\n",
      "Berta bellt Xavier an\n",
      "Xavier faucht Berta an\n",
      "Helmi bellt Xavier an\n",
      "Xavier faucht Helmi an\n",
      "Bruno bellt Zachy an\n",
      "Zachy faucht Bruno an\n",
      "Berta bellt Zachy an\n",
      "Zachy faucht Berta an\n",
      "Helmi bellt Zachy an\n",
      "Zachy faucht Helmi an\n"
     ]
    }
   ],
   "metadata": {
    "tags": [
     "remove-cell"
    ]
   }
  },
  {
   "cell_type": "markdown",
   "source": [
    "% !!ENTFERNT!\n",
    "\n",
    "% Nested Loop: Multiplikation\n",
    "### Übung 12.2 (Optional)\n",
    "\n",
    "Erstelle einen verschachtelten Loop, wo alle Kombinationen von 0 bis 9 miteinander addiert werden:\n",
    "\n",
    "```python\n",
    "# Musterlösung\n",
    "\n",
    "addition = []\n",
    "werte = range(10)\n",
    "for i in werte:\n",
    "    for j in werte:\n",
    "        resultat = i+j\n",
    "        addition.append(resultat)\n",
    "```"
   ],
   "metadata": {
    "tags": [
     "remove-cell"
    ]
   }
  },
  {
   "cell_type": "markdown",
   "source": [
    "% : Loops mit functions kombinieren\n",
    "### Übung 12.2 (fakultativ, für Fortgeschrittene!)\n",
    "\n",
    "Versuche die Monte Carlo Simulation für die Annäherung an Pi (aus der ersten Übung \"Datenqualität und Unsicherheit) mit einer Funktion und einem For Loop zu lösen.\n",
    "\n",
    "Zur Erinnerung, die Vorgehensweise für die Annäherung an Pi geht folgendermassen:\n",
    "\n",
    "1. Zufallskoordinaten (`x`, `y`) zwischen 0 und 1 erstellen\n",
    "2. Distanz zum Ursprung (0) mit der Formel $\\sqrt(x^2+y^2)$ berechnen\n",
    "3. Bestimmen ob sich der Punkt innerhalb des Kreisviertels befindet ($d < 1$)\n",
    "4. Schritte 1 & 2 mehrfach wiederholen\n",
    "5. Anteil der Punkte *innerhalb* des Kreisviertels mit 4 Multiplizieren\n",
    "\n",
    "Tipps:\n",
    "\n",
    "- Für die Erstellung der Zufallspunkte brauchst du die Funktion `random()` aus dem modul `random`\n",
    "- Schritte 1 - 3 werden am sinnvollsten ein eine Funktion verpakt, welche keine Argumente benötigt\n",
    "- Schritt 4 löst du am besten mit einer `For loop` mit `range(100)` (für 100 Wiederholungen)\n",
    "\n"
   ],
   "metadata": {}
  },
  {
   "cell_type": "code",
   "execution_count": null,
   "source": [
    "# Musterlösung\n",
    "\n",
    "import random\n",
    "def get_pi(): \n",
    "    x = random.random()\n",
    "    y = random.random()\n",
    "    pythagoras = (x**2+y**2)**0.5\n",
    "    return pythagoras>1\n",
    "\n",
    "get_pi()\n",
    "\n",
    "res = [get_pi() for x in range(1000000)]\n",
    "\n",
    "(len(res)-sum(res))/len(res)*4"
   ],
   "outputs": [],
   "metadata": {
    "tags": [
     "remove-cell"
    ]
   }
  }
 ],
 "metadata": {
  "kernelspec": {
   "display_name": "Python 3 (ipykernel)",
   "language": "python",
   "name": "python3"
  },
  "language_info": {
   "codemirror_mode": {
    "name": "ipython",
    "version": 3
   },
   "file_extension": ".py",
   "mimetype": "text/x-python",
   "name": "python",
   "nbconvert_exporter": "python",
   "pygments_lexer": "ipython3",
   "version": "3.8.10"
  }
 },
 "nbformat": 4,
 "nbformat_minor": 4
}