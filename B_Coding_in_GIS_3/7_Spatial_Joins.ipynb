{
 "cells": [
  {
   "cell_type": "markdown",
   "metadata": {},
   "source": [
    "(chap-spatialjoin)=\n",
    "# Aufgabe 15: Spatial Join\n",
    "\n",
    "## Theorie\n",
    "\n",
    "In dieser Aufgabe wollen wir für jeden Zeckenstich ermitteln, ob er sich im Wald befindet oder nicht. Den Wald Layer kennt ihr bereits aus dem Block \"Datenqualität und Unsicherheit\" und wir haben ihn in {ref}`chap-pythongis-formate` kurz angeschaut. Nutzen wir hier nochmal die Gelegenheit, um den Wald und die Zeckenstiche (siehe {numref}`table-datensaetze`) als Geodaten einzulesen und in einer grossem Plot zu visualisieren."
   ]
  },
  {
   "cell_type": "code",
   "execution_count": 20,
   "metadata": {},
   "outputs": [
    {
     "data": {
      "text/plain": [
       "(1250638.0, 1250735.0)"
      ]
     },
     "execution_count": 20,
     "metadata": {},
     "output_type": "execute_result"
    },
    {
     "data": {
      "image/png": "[encoded data removed]",
      "text/plain": [
       "<Figure size 864x864 with 1 Axes>"
      ]
     },
     "metadata": {
      "needs_background": "light"
     },
     "output_type": "display_data"
    }
   ],
   "source": [
    "import geopandas as gpd\n",
    "\n",
    "zeckenstiche_gpd = gpd.read_file(\"data/zeckenstiche.gpkg\")\n",
    "wald = gpd.read_file(\"data/wald.gpkg\")\n",
    "\n",
    "minx, miny, maxx, maxy = zeckenstiche_gpd.geometry.total_bounds  # holt die x und y min bzw. max werte und speichert diese in 4 variabeln\n",
    "\n",
    "from matplotlib.colors import ListedColormap\n",
    "\n",
    "base = wald.plot(column = \"Wald_text\", legend = True, cmap = ListedColormap([\"green\",\"lightgrey\"]), figsize = (12,12))\n",
    "zeckenstiche_gpd.plot(color = \"Red\", ax = base)\n",
    "\n",
    "base.set_xlim(minx - 10, maxx + 10) \n",
    "base.set_ylim(miny - 10, maxy + 10)\n"
   ]
  },
  {
   "cell_type": "markdown",
   "metadata": {},
   "source": [
    "### Wie funktioniert ein *Spatial Join*?\n",
    "\n",
    "In {ref}`chap-pythongis` habt ihr euch mit den GIS-Funktionalitäten von `geopandas` vertraut gemacht. Eine ganz zentrale Funktion in GIS sind die sogenannten \"Spatial Joins\". Dabei werden Attribute von einem Geodatensatz auf einen anderen Geodatensatz aufgrund einer räumlichen Beziehung der beiden Datensätze übertragen. Konkret auf unsere Zeckenstiche bedeutet dies: Jedem Zeckenstich sollte die Eigenschaft \"Wald: ja\" / \"Wald: nein\" aus `wald` zugewiesen werden. Am einfachsten lässt sich dies in einer Darstellung erklären:\n",
    "\n",
    "```{figure} figures/spatialjoin.jpg\n",
    ":name: spatialjoin\n",
    "\n",
    "\"Spatial Join\" zwischen `zeckenstiche` und `wald`. In diesem Spatial Join wurde die Geometrie von `zeckenstiche` übernommen, das heisst das Resultat des Joins ist ein Punkt-Layer.\n",
    "```"
   ]
  },
  {
   "cell_type": "markdown",
   "metadata": {},
   "source": [
    "In Python wird ein *Spatial Join* zwischen `zeckenstiche` und `wald` wie folgt durchgeführt (wichtig ist dabei auch die Reihenfolge der Argumente: `left_df` bestimmt den Geometrietyp des Outputs):"
   ]
  },
  {
   "cell_type": "code",
   "execution_count": 3,
   "metadata": {},
   "outputs": [
    {
     "data": {
      "text/html": [
       "<div>\n",
       "<style scoped>\n",
       "    .dataframe tbody tr th:only-of-type {\n",
       "        vertical-align: middle;\n",
       "    }\n",
       "\n",
       "    .dataframe tbody tr th {\n",
       "        vertical-align: top;\n",
       "    }\n",
       "\n",
       "    .dataframe thead th {\n",
       "        text-align: right;\n",
       "    }\n",
       "</style>\n",
       "<table border=\"1\" class=\"dataframe\">\n",
       "  <thead>\n",
       "    <tr style=\"text-align: right;\">\n",
       "      <th></th>\n",
       "      <th>ID</th>\n",
       "      <th>accuracy</th>\n",
       "      <th>x</th>\n",
       "      <th>y</th>\n",
       "      <th>geometry</th>\n",
       "      <th>index_right</th>\n",
       "      <th>Shape_Area</th>\n",
       "      <th>Wald_text</th>\n",
       "    </tr>\n",
       "  </thead>\n",
       "  <tbody>\n",
       "    <tr>\n",
       "      <th>0</th>\n",
       "      <td>2550</td>\n",
       "      <td>439.128951</td>\n",
       "      <td>2681116</td>\n",
       "      <td>1250648</td>\n",
       "      <td>POINT (2681116.000 1250648.000)</td>\n",
       "      <td>0</td>\n",
       "      <td>2.380876e+08</td>\n",
       "      <td>nein</td>\n",
       "    </tr>\n",
       "    <tr>\n",
       "      <th>1</th>\n",
       "      <td>10437</td>\n",
       "      <td>301.748542</td>\n",
       "      <td>2681092</td>\n",
       "      <td>1250672</td>\n",
       "      <td>POINT (2681092.000 1250672.000)</td>\n",
       "      <td>0</td>\n",
       "      <td>2.380876e+08</td>\n",
       "      <td>nein</td>\n",
       "    </tr>\n",
       "    <tr>\n",
       "      <th>2</th>\n",
       "      <td>9174</td>\n",
       "      <td>301.748542</td>\n",
       "      <td>2681128</td>\n",
       "      <td>1250683</td>\n",
       "      <td>POINT (2681128.000 1250683.000)</td>\n",
       "      <td>0</td>\n",
       "      <td>2.380876e+08</td>\n",
       "      <td>nein</td>\n",
       "    </tr>\n",
       "    <tr>\n",
       "      <th>3</th>\n",
       "      <td>8773</td>\n",
       "      <td>301.748542</td>\n",
       "      <td>2681111</td>\n",
       "      <td>1250683</td>\n",
       "      <td>POINT (2681111.000 1250683.000)</td>\n",
       "      <td>0</td>\n",
       "      <td>2.380876e+08</td>\n",
       "      <td>nein</td>\n",
       "    </tr>\n",
       "    <tr>\n",
       "      <th>4</th>\n",
       "      <td>2764</td>\n",
       "      <td>301.748529</td>\n",
       "      <td>2681131</td>\n",
       "      <td>1250692</td>\n",
       "      <td>POINT (2681131.000 1250692.000)</td>\n",
       "      <td>0</td>\n",
       "      <td>2.380876e+08</td>\n",
       "      <td>nein</td>\n",
       "    </tr>\n",
       "    <tr>\n",
       "      <th>5</th>\n",
       "      <td>2513</td>\n",
       "      <td>301.748529</td>\n",
       "      <td>2681171</td>\n",
       "      <td>1250711</td>\n",
       "      <td>POINT (2681171.000 1250711.000)</td>\n",
       "      <td>1</td>\n",
       "      <td>7.963237e+07</td>\n",
       "      <td>ja</td>\n",
       "    </tr>\n",
       "    <tr>\n",
       "      <th>6</th>\n",
       "      <td>9185</td>\n",
       "      <td>301.748542</td>\n",
       "      <td>2681107</td>\n",
       "      <td>1250712</td>\n",
       "      <td>POINT (2681107.000 1250712.000)</td>\n",
       "      <td>1</td>\n",
       "      <td>7.963237e+07</td>\n",
       "      <td>ja</td>\n",
       "    </tr>\n",
       "    <tr>\n",
       "      <th>7</th>\n",
       "      <td>28521</td>\n",
       "      <td>301.748542</td>\n",
       "      <td>2681124</td>\n",
       "      <td>1250720</td>\n",
       "      <td>POINT (2681124.000 1250720.000)</td>\n",
       "      <td>1</td>\n",
       "      <td>7.963237e+07</td>\n",
       "      <td>ja</td>\n",
       "    </tr>\n",
       "    <tr>\n",
       "      <th>8</th>\n",
       "      <td>26745</td>\n",
       "      <td>301.748542</td>\n",
       "      <td>2681117</td>\n",
       "      <td>1250725</td>\n",
       "      <td>POINT (2681117.000 1250725.000)</td>\n",
       "      <td>1</td>\n",
       "      <td>7.963237e+07</td>\n",
       "      <td>ja</td>\n",
       "    </tr>\n",
       "    <tr>\n",
       "      <th>9</th>\n",
       "      <td>27391</td>\n",
       "      <td>301.748542</td>\n",
       "      <td>2681138</td>\n",
       "      <td>1250725</td>\n",
       "      <td>POINT (2681138.000 1250725.000)</td>\n",
       "      <td>1</td>\n",
       "      <td>7.963237e+07</td>\n",
       "      <td>ja</td>\n",
       "    </tr>\n",
       "  </tbody>\n",
       "</table>\n",
       "</div>"
      ],
      "text/plain": [
       "      ID    accuracy        x        y                         geometry  \\\n",
       "0   2550  439.128951  2681116  1250648  POINT (2681116.000 1250648.000)   \n",
       "1  10437  301.748542  2681092  1250672  POINT (2681092.000 1250672.000)   \n",
       "2   9174  301.748542  2681128  1250683  POINT (2681128.000 1250683.000)   \n",
       "3   8773  301.748542  2681111  1250683  POINT (2681111.000 1250683.000)   \n",
       "4   2764  301.748529  2681131  1250692  POINT (2681131.000 1250692.000)   \n",
       "5   2513  301.748529  2681171  1250711  POINT (2681171.000 1250711.000)   \n",
       "6   9185  301.748542  2681107  1250712  POINT (2681107.000 1250712.000)   \n",
       "7  28521  301.748542  2681124  1250720  POINT (2681124.000 1250720.000)   \n",
       "8  26745  301.748542  2681117  1250725  POINT (2681117.000 1250725.000)   \n",
       "9  27391  301.748542  2681138  1250725  POINT (2681138.000 1250725.000)   \n",
       "\n",
       "   index_right    Shape_Area Wald_text  \n",
       "0            0  2.380876e+08      nein  \n",
       "1            0  2.380876e+08      nein  \n",
       "2            0  2.380876e+08      nein  \n",
       "3            0  2.380876e+08      nein  \n",
       "4            0  2.380876e+08      nein  \n",
       "5            1  7.963237e+07        ja  \n",
       "6            1  7.963237e+07        ja  \n",
       "7            1  7.963237e+07        ja  \n",
       "8            1  7.963237e+07        ja  \n",
       "9            1  7.963237e+07        ja  "
      ]
     },
     "execution_count": 3,
     "metadata": {},
     "output_type": "execute_result"
    }
   ],
   "source": [
    "gpd.sjoin(left_df = zeckenstiche_gpd, right_df = wald)"
   ]
  },
  {
   "cell_type": "markdown",
   "metadata": {},
   "source": [
    "## Übungen\n",
    "\n",
    "(ex-import-wald)=\n",
    "### Übung 15.1\n",
    "\n",
    "Lade das File \"wald.gpgk\" (siehe {numref}`table-datensaetze`) herunter und speichere es in deiner Workings Directory. Importiere den Datensatz und speichere ihn in der Variable `wald`. \n",
    "\n",
    "Schau dir `wald` an (mit `type`, `.plot()` etc.)"
   ]
  },
  {
   "cell_type": "code",
   "execution_count": 4,
   "metadata": {
    "tags": [
     "remove-cell"
    ]
   },
   "outputs": [
    {
     "data": {
      "text/plain": [
       "<AxesSubplot:>"
      ]
     },
     "execution_count": 4,
     "metadata": {},
     "output_type": "execute_result"
    },
    {
     "data": {
      "image/png": "[encoded data removed]",
      "text/plain": [
       "<Figure size 432x288 with 1 Axes>"
      ]
     },
     "metadata": {
      "needs_background": "light"
     },
     "output_type": "display_data"
    }
   ],
   "source": [
    "# Musterlösung\n",
    "\n",
    "wald = gpd.read_file(\"data/wald.gpkg\")\n",
    "\n",
    "wald\n",
    "type(wald)\n",
    "wald.plot()"
   ]
  },
  {
   "cell_type": "markdown",
   "metadata": {},
   "source": [
    "(ex-spatialjoin)=\n",
    "### Übung 15.2\n",
    "\n",
    "Führe einen SpatialJoin zwischen `wald` und `zeckenstiche` durch. Vertausche die Reihenfolge (`left_df`, `right_df`) und schaue dir den Output an. Wodurch unterscheiden sich die beiden outputs? Was sagt dir das über die Funktionsweise von `sjoin`?\n",
    "\n",
    "\n",
    "```{admonition} Wichtig!\n",
    ":class: attention\n",
    "Melde dich bei den Betreuern wenn der *SpatialJoin* bei dir nicht funktioniert und du eine Fehlermeldung bekommst.\n",
    "```\n"
   ]
  },
  {
   "cell_type": "code",
   "execution_count": 5,
   "metadata": {
    "tags": [
     "remove-cell"
    ]
   },
   "outputs": [
    {
     "data": {
      "text/html": [
       "<div>\n",
       "<style scoped>\n",
       "    .dataframe tbody tr th:only-of-type {\n",
       "        vertical-align: middle;\n",
       "    }\n",
       "\n",
       "    .dataframe tbody tr th {\n",
       "        vertical-align: top;\n",
       "    }\n",
       "\n",
       "    .dataframe thead th {\n",
       "        text-align: right;\n",
       "    }\n",
       "</style>\n",
       "<table border=\"1\" class=\"dataframe\">\n",
       "  <thead>\n",
       "    <tr style=\"text-align: right;\">\n",
       "      <th></th>\n",
       "      <th>Shape_Area</th>\n",
       "      <th>Wald_text</th>\n",
       "      <th>geometry</th>\n",
       "      <th>index_right</th>\n",
       "      <th>ID</th>\n",
       "      <th>accuracy</th>\n",
       "      <th>x</th>\n",
       "      <th>y</th>\n",
       "    </tr>\n",
       "  </thead>\n",
       "  <tbody>\n",
       "    <tr>\n",
       "      <th>0</th>\n",
       "      <td>2.380876e+08</td>\n",
       "      <td>nein</td>\n",
       "      <td>MULTIPOLYGON Z (((2692100.000 1256542.253 276....</td>\n",
       "      <td>0</td>\n",
       "      <td>2550</td>\n",
       "      <td>439.128951</td>\n",
       "      <td>2681116</td>\n",
       "      <td>1250648</td>\n",
       "    </tr>\n",
       "    <tr>\n",
       "      <th>0</th>\n",
       "      <td>2.380876e+08</td>\n",
       "      <td>nein</td>\n",
       "      <td>MULTIPOLYGON Z (((2692100.000 1256542.253 276....</td>\n",
       "      <td>1</td>\n",
       "      <td>10437</td>\n",
       "      <td>301.748542</td>\n",
       "      <td>2681092</td>\n",
       "      <td>1250672</td>\n",
       "    </tr>\n",
       "    <tr>\n",
       "      <th>0</th>\n",
       "      <td>2.380876e+08</td>\n",
       "      <td>nein</td>\n",
       "      <td>MULTIPOLYGON Z (((2692100.000 1256542.253 276....</td>\n",
       "      <td>3</td>\n",
       "      <td>8773</td>\n",
       "      <td>301.748542</td>\n",
       "      <td>2681111</td>\n",
       "      <td>1250683</td>\n",
       "    </tr>\n",
       "    <tr>\n",
       "      <th>0</th>\n",
       "      <td>2.380876e+08</td>\n",
       "      <td>nein</td>\n",
       "      <td>MULTIPOLYGON Z (((2692100.000 1256542.253 276....</td>\n",
       "      <td>2</td>\n",
       "      <td>9174</td>\n",
       "      <td>301.748542</td>\n",
       "      <td>2681128</td>\n",
       "      <td>1250683</td>\n",
       "    </tr>\n",
       "    <tr>\n",
       "      <th>0</th>\n",
       "      <td>2.380876e+08</td>\n",
       "      <td>nein</td>\n",
       "      <td>MULTIPOLYGON Z (((2692100.000 1256542.253 276....</td>\n",
       "      <td>4</td>\n",
       "      <td>2764</td>\n",
       "      <td>301.748529</td>\n",
       "      <td>2681131</td>\n",
       "      <td>1250692</td>\n",
       "    </tr>\n",
       "    <tr>\n",
       "      <th>1</th>\n",
       "      <td>7.963237e+07</td>\n",
       "      <td>ja</td>\n",
       "      <td>MULTIPOLYGON Z (((2689962.355 1245335.250 644....</td>\n",
       "      <td>5</td>\n",
       "      <td>2513</td>\n",
       "      <td>301.748529</td>\n",
       "      <td>2681171</td>\n",
       "      <td>1250711</td>\n",
       "    </tr>\n",
       "    <tr>\n",
       "      <th>1</th>\n",
       "      <td>7.963237e+07</td>\n",
       "      <td>ja</td>\n",
       "      <td>MULTIPOLYGON Z (((2689962.355 1245335.250 644....</td>\n",
       "      <td>6</td>\n",
       "      <td>9185</td>\n",
       "      <td>301.748542</td>\n",
       "      <td>2681107</td>\n",
       "      <td>1250712</td>\n",
       "    </tr>\n",
       "    <tr>\n",
       "      <th>1</th>\n",
       "      <td>7.963237e+07</td>\n",
       "      <td>ja</td>\n",
       "      <td>MULTIPOLYGON Z (((2689962.355 1245335.250 644....</td>\n",
       "      <td>7</td>\n",
       "      <td>28521</td>\n",
       "      <td>301.748542</td>\n",
       "      <td>2681124</td>\n",
       "      <td>1250720</td>\n",
       "    </tr>\n",
       "    <tr>\n",
       "      <th>1</th>\n",
       "      <td>7.963237e+07</td>\n",
       "      <td>ja</td>\n",
       "      <td>MULTIPOLYGON Z (((2689962.355 1245335.250 644....</td>\n",
       "      <td>8</td>\n",
       "      <td>26745</td>\n",
       "      <td>301.748542</td>\n",
       "      <td>2681117</td>\n",
       "      <td>1250725</td>\n",
       "    </tr>\n",
       "    <tr>\n",
       "      <th>1</th>\n",
       "      <td>7.963237e+07</td>\n",
       "      <td>ja</td>\n",
       "      <td>MULTIPOLYGON Z (((2689962.355 1245335.250 644....</td>\n",
       "      <td>9</td>\n",
       "      <td>27391</td>\n",
       "      <td>301.748542</td>\n",
       "      <td>2681138</td>\n",
       "      <td>1250725</td>\n",
       "    </tr>\n",
       "  </tbody>\n",
       "</table>\n",
       "</div>"
      ],
      "text/plain": [
       "     Shape_Area Wald_text                                           geometry  \\\n",
       "0  2.380876e+08      nein  MULTIPOLYGON Z (((2692100.000 1256542.253 276....   \n",
       "0  2.380876e+08      nein  MULTIPOLYGON Z (((2692100.000 1256542.253 276....   \n",
       "0  2.380876e+08      nein  MULTIPOLYGON Z (((2692100.000 1256542.253 276....   \n",
       "0  2.380876e+08      nein  MULTIPOLYGON Z (((2692100.000 1256542.253 276....   \n",
       "0  2.380876e+08      nein  MULTIPOLYGON Z (((2692100.000 1256542.253 276....   \n",
       "1  7.963237e+07        ja  MULTIPOLYGON Z (((2689962.355 1245335.250 644....   \n",
       "1  7.963237e+07        ja  MULTIPOLYGON Z (((2689962.355 1245335.250 644....   \n",
       "1  7.963237e+07        ja  MULTIPOLYGON Z (((2689962.355 1245335.250 644....   \n",
       "1  7.963237e+07        ja  MULTIPOLYGON Z (((2689962.355 1245335.250 644....   \n",
       "1  7.963237e+07        ja  MULTIPOLYGON Z (((2689962.355 1245335.250 644....   \n",
       "\n",
       "   index_right     ID    accuracy        x        y  \n",
       "0            0   2550  439.128951  2681116  1250648  \n",
       "0            1  10437  301.748542  2681092  1250672  \n",
       "0            3   8773  301.748542  2681111  1250683  \n",
       "0            2   9174  301.748542  2681128  1250683  \n",
       "0            4   2764  301.748529  2681131  1250692  \n",
       "1            5   2513  301.748529  2681171  1250711  \n",
       "1            6   9185  301.748542  2681107  1250712  \n",
       "1            7  28521  301.748542  2681124  1250720  \n",
       "1            8  26745  301.748542  2681117  1250725  \n",
       "1            9  27391  301.748542  2681138  1250725  "
      ]
     },
     "execution_count": 5,
     "metadata": {},
     "output_type": "execute_result"
    }
   ],
   "source": [
    "# Musterlösung\n",
    "\n",
    "gpd.sjoin(left_df = zeckenstiche_gpd, right_df = wald)\n",
    "gpd.sjoin(left_df = wald, right_df = zeckenstiche_gpd) \n",
    "\n",
    "# in beiden Fällen hat der Output geich viele Zeilen. In der ersten Variante ist die Geometrie\n",
    "# des Outputs \"Point\", im zweiten Fall \"Multipolygon\""
   ]
  },
  {
   "cell_type": "markdown",
   "metadata": {},
   "source": [
    "### Übung 15.3\n",
    "\n",
    "Führe nun den SpatialJoin aus {ref}`ex-spatialjoin` in der Reihenfolge aus, der dir am sinnvollsten erscheint. Weise den Output dieser Operation der Variabel `zeckenstiche_join` zu.\n",
    "\n",
    "Nutze nun die dazugewonnene Spalte `Wald_text` um die Anzahl Zeckenstich-Meldungen *im Wald* zu zählen. Dazu musst du wie folgt vorgehen: \n",
    "\n",
    "1. Entsprechende Spalte selektieren (siehe {ref}`ex-sel-col`)\n",
    "2. Werte in der Spalte mit \"ja\" vergleichen\n",
    "3. Anzahl `True` mit `sum()` zählen (`True` entspricht immer `1`, `False` entspricht immer `0`)\n"
   ]
  },
  {
   "cell_type": "code",
   "execution_count": 19,
   "metadata": {
    "tags": [
     "remove-cell"
    ]
   },
   "outputs": [
    {
     "data": {
      "text/plain": [
       "5"
      ]
     },
     "execution_count": 19,
     "metadata": {},
     "output_type": "execute_result"
    }
   ],
   "source": [
    "# Musterlösung\n",
    "\n",
    "zeckenstiche_join = gpd.sjoin(left_df = zeckenstiche_gpd, right_df = wald)\n",
    "\n",
    "sum(zeckenstiche_join[\"Wald_text\"] == \"ja\")"
   ]
  },
  {
   "cell_type": "markdown",
   "metadata": {},
   "source": [
    "### Übung 15.4\n",
    "\n",
    "Berechne nun *Anteil* der Zeckenstiche im Wald (gemessen an der Anzahl Zeckenstich-Meldungen total). Weise den Output der Variabel `anteil_wald` zu."
   ]
  },
  {
   "cell_type": "code",
   "execution_count": 24,
   "metadata": {
    "tags": [
     "remove-cell"
    ]
   },
   "outputs": [],
   "source": [
    "# Musterlösung\n",
    "\n",
    "anteil_wald = sum(zeckenstiche_join[\"Wald_text\"] == \"ja\")/len(zeckenstiche_join[\"Wald_text\"])"
   ]
  },
  {
   "cell_type": "markdown",
   "metadata": {},
   "source": []
  }
 ],
 "metadata": {
  "interpreter": {
   "hash": "974bc037da23142e3da8dd71e6a31270f5fb46810417657b3d21c33da5a7e714"
  },
  "kernelspec": {
   "display_name": "Python 3.9.7 64-bit ('agi-jb': conda)",
   "name": "python3"
  },
  "language_info": {
   "codemirror_mode": {
    "name": "ipython",
    "version": 3
   },
   "file_extension": ".py",
   "mimetype": "text/x-python",
   "name": "python",
   "nbconvert_exporter": "python",
   "pygments_lexer": "ipython3",
   "version": "3.9.7"
  }
 },
 "nbformat": 4,
 "nbformat_minor": 4
}
