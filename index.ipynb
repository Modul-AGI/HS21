{
 "cells": [
  {
   "cell_type": "markdown",
   "metadata": {},
   "source": [
    "# Einleitung\n",
    "\n",
    "Willkommen im Kurs *[Angewandte Geoinformatik](https://studienplaner.lsfm.zhaw.ch/module/angewandte-geoinformatik)* der Zürcher Hochschule für Angewandte Wissenschaften (ZHAW). \n",
    "\n",
    "\n",
    "```{admonition} Dieses Buch auch als PDF-Version verfügbar\n",
    ":class: tip\n",
    "Wir empfehlen, dass ihr im Unterricht die Online Version dieser Übungsunterlagen nutzt. Diese spiegeln immer den neusten Stand, sind responsive (passen sich an Endgeräte wie Tablets usw. an) und können die Musterlösungen interaktiv darstellen (sobald diese freigeschaltet sind). \n",
    "\n",
    "Als Doku für euch ist aber auch eine PDF-Version der Unterlagen verfügbar. Speichert euch die erst am Ende vom Kurs ab, damit ihr die neuste Version inkl. allen Musterlösungen habt.\n",
    "\n",
    "- online (**empfohlen**): [https://modul-agi.github.io/HS20/](https://modul-agi.github.io/HS20/)\n",
    "- PDF (nur für Doku / Notizen): [https://github.com/Modul-AGI/HS20/raw/master/codingingis.pdf](https://github.com/Modul-AGI/HS20/raw/master/codingingis.pdf)\n",
    "```\n",
    "\n",
    "Noch ein paar Hinweise zur Handhabung dieses Dokumentes:\n",
    "\n",
    "- Die Musterlösungen zu allen Aufgaben stehen bereit. Wir werden diese bald einblenden\n",
    "- Wenn sich im Fliesstext Programmiercode befindet, wird er in `dieser Festschriftart` dargestellt\n",
    "- Englische Begriffe, deren Übersetzung eher verwirrend als nützlich wären, werden *in dieser Weise* hervorgehoben\n",
    "- Da viele von euch bereits Erfahrung in R haben, stelle ich immer wieder den Bezug zu dieser Programmiersprache her.\n",
    "- Alleinstehende Codezeilen werden folgendermassen dargestellt:\n",
    "- ```python\n",
    "  print(\"Coding in GIS!\")\n",
    "  ```\n",
    "- Der gesamte Quellcode um dieses Buch zu erstellen ist in dem folgenden github-repo verfügbar: [github.com/Modul-AGI](https://github.com/Modul-AGI/)."
   ]
  }
 ],
 "metadata": {
  "kernelspec": {
   "display_name": "Python 3",
   "language": "python",
   "name": "python3"
  },
  "language_info": {
   "codemirror_mode": {
    "name": "ipython",
    "version": 3
   },
   "file_extension": ".py",
   "mimetype": "text/x-python",
   "name": "python",
   "nbconvert_exporter": "python",
   "pygments_lexer": "ipython3",
   "version": "3.7.8"
  }
 },
 "nbformat": 4,
 "nbformat_minor": 4
}
