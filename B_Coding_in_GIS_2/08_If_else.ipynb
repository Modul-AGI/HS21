{
 "cells": [
  {
   "cell_type": "markdown",
   "metadata": {},
   "source": [
    "# Aufgabe 7: If / Else\n",
    "\n",
    "Eich wichtiger Bestandteil von Programmieren ist sind Fallunterscheidungen. Mit Fallunterscheidungen können wir mit unterschiedlichen Situationen verschieden umgehen.\n",
    "\n",
    "Die einfache Fallunterscheidung ist die bedingte Verzweigung. Die Syntax der einfachen `if`-Anweisung lautet folgendermassen:\n",
    "\n",
    "```python \n",
    "if Bedingung:\n",
    "    # Anweisungen 1\n",
    "else:\n",
    "    # Anweisungen 2\n",
    "```\n",
    "\n",
    "Zum Beispiel:"
   ]
  },
  {
   "cell_type": "code",
   "execution_count": 6,
   "metadata": {},
   "outputs": [],
   "source": [
    "# hier alter eingeben:\n",
    "alter = 35\n",
    "\n",
    "if alter < 40:\n",
    "    print(\"Backstreet Boys: 'I want it that way'\")\n",
    "else:\n",
    "    print(\"The Jackson 5: 'I want you back'\")"
   ]
  },
  {
   "cell_type": "markdown",
   "metadata": {},
   "source": [
    "\n",
    "Wenn wir mehr als zwei verschiedene Fälle haben, können diese mit `elif` dazwischen geschaltet werden. \n",
    "\n",
    "\n",
    "```python\n",
    "if Bedingung1:\n",
    "    # Anweisungen 1\n",
    "elif Bedingung2:\n",
    "    # Anweisungen 2\n",
    "elif Bedingung3:\n",
    "    # Anweisungen 3\n",
    "else:\n",
    "    # Anweisungen 4\n",
    "```\n",
    "\n",
    "Zum Beispiel:"
   ]
  },
  {
   "cell_type": "code",
   "execution_count": 2,
   "metadata": {},
   "outputs": [
    {
     "name": "stdout",
     "output_type": "stream",
     "text": [
      "Mariah Carey: 'Vision of love'\n"
     ]
    }
   ],
   "source": [
    "# hier alter eingeben:\n",
    "alter = 35\n",
    "\n",
    "if alter < 20:\n",
    "    print(\"Kesha: 'Tik Tok'\")\n",
    "elif alter < 30:\n",
    "    print(\"Destiny's Child: 'Say My Name'\")\n",
    "elif alter < 40:\n",
    "    print(\"Mariah Carey: 'Vision of love'\")\n",
    "else:\n",
    "    print(\"Blondie: 'Call me'\")"
   ]
  },
  {
   "cell_type": "markdown",
   "metadata": {},
   "source": [
    "Solche Fallunterscheidungen sind vor allem in Funktionen sehr praktisch. Aus dem obigen Beispiel können wir beispielsweiese eine Funktion erstellen, die uns ein Lied in Abhängigkeit von unserem Alter vorschlägt:"
   ]
  },
  {
   "cell_type": "markdown",
   "metadata": {},
   "source": []
  },
  {
   "cell_type": "code",
   "execution_count": 11,
   "metadata": {},
   "outputs": [
    {
     "data": {
      "text/plain": [
       "\"I suggest the song Destiny's Child: 'Say My Name'. Enjoy!\""
      ]
     },
     "execution_count": 11,
     "metadata": {},
     "output_type": "execute_result"
    }
   ],
   "source": [
    "def suggest_song(alter):\n",
    "    if alter < 20:\n",
    "        song = \"Kesha: 'Tik Tok'\"\n",
    "    elif alter < 30:\n",
    "        song = \"Destiny's Child: 'Say My Name'\"\n",
    "    elif alter < 40:\n",
    "        song = \"Mariah Carey: 'Vision of love'\"\n",
    "    else:\n",
    "        song = \"Blondie: 'Call me'\"\n",
    "    return \"I suggest the song \"+song+\". Enjoy!\"\n",
    "\n",
    "\n",
    "suggest_song(24)"
   ]
  },
  {
   "cell_type": "markdown",
   "metadata": {},
   "source": [
    "Dabei ist wichtig, dass man sich jeweils die Ausführungslogik vor Augen führt.\n",
    "\n",
    "[![](https://mermaid.ink/img/eyJjb2RlIjoiZ3JhcGggTFJcbiAgICBBW2FsdGVyIDwgMjBdIFxuICAgIEEtLT58eWVzfCBCW0tlc2hhOiAnVGlrIFRvayddXG4gICAgQS0tPnxub3wgQ1tBbHRlciA8IDMwXVxuICAgIEMtLT58eWVzfCBEW0Rlc3RpbnkncyBDaGlsZDogJ1NheSBNeSBOYW1lJ11cbiAgICBDLS0-fG5vfCBFW2FsdGVyIDwgNDBdXG4gICAgRS0tPnx5ZXN8IEZbTWFyaWFoIENhcmV5OiAnVmlzaW9uIG9mIGxvdmUnXVxuICAgIEUtLT58bm98IEdbQmxvbmRpZTogJ0NhbGwgbWUnXVxuICAiLCJtZXJtYWlkIjp7InRoZW1lIjoiZGVmYXVsdCJ9LCJ1cGRhdGVFZGl0b3IiOmZhbHNlLCJhdXRvU3luYyI6dHJ1ZSwidXBkYXRlRGlhZ3JhbSI6ZmFsc2V9)](https://mermaid.live/edit#eyJjb2RlIjoiZ3JhcGggTFJcbiAgICBBW2FsdGVyIDwgMjBdIFxuICAgIEEtLT58eWVzfCBCW0tlc2hhOiAnVGlrIFRvayddXG4gICAgQS0tPnxub3wgQ1tBbHRlciA8IDMwXVxuICAgIEMtLT58eWVzfCBEW0Rlc3RpbnkncyBDaGlsZDogJ1NheSBNeSBOYW1lJ11cbiAgICBDLS0-fG5vfCBFW2FsdGVyIDwgNDBdXG4gICAgRS0tPnx5ZXN8IEZbTWFyaWFoIENhcmV5OiAnVmlzaW9uIG9mIGxvdmUnXVxuICAgIEUtLT58bm98IEdbQmxvbmRpZTogJ0NhbGwgbWUnXVxuICAiLCJtZXJtYWlkIjoie1xuICBcInRoZW1lXCI6IFwiZGVmYXVsdFwiXG59IiwidXBkYXRlRWRpdG9yIjpmYWxzZSwiYXV0b1N5bmMiOnRydWUsInVwZGF0ZURpYWdyYW0iOmZhbHNlfQ)"
   ]
  },
  {
   "cell_type": "markdown",
   "metadata": {},
   "source": [
    "(ex-ifelse-gruezi2)=\n",
    "### Übung 7.1\n",
    "\n",
    "Erstelle eine neue Funktion `gruezi3` die `gruezi` (aus {ref}`chap-functions1-ex-gruezi`) um einem weiteren Parameter `uhrzeit` erweitert. Die Funktion soll vor 18 Uhr (`uhrzeit < 18`) mit \"Guten Tag\" und sonst mit \"Guten Abend\" grüssen. Um es einfach zu halten: Die Zeitangbe muss in Dezimalzahlen erfolgen (also nicht `20:15 Uhr` sondern `20.25`).\n"
   ]
  },
  {
   "cell_type": "code",
   "execution_count": 5,
   "metadata": {
    "tags": [
     "remove-cell"
    ]
   },
   "outputs": [],
   "source": [
    "# Musterlösung\n",
    "\n",
    "def gruezi3(nachname, uhrzeit):\n",
    "    if(uhrzeit < 18):\n",
    "        grussform = \"Tag\"\n",
    "    else:\n",
    "        grussform = \"Abend\"\n",
    "\n",
    "    return \"Guten \"+grussform + \" \" +nachname\n",
    "\n"
   ]
  },
  {
   "cell_type": "code",
   "execution_count": 7,
   "metadata": {},
   "outputs": [
    {
     "data": {
      "text/plain": [
       "'Guten Abend Guido'"
      ]
     },
     "execution_count": 7,
     "metadata": {},
     "output_type": "execute_result"
    }
   ],
   "source": [
    "# die Lösung sollte etwa folgendermasssen funktionieren:\n",
    "\n",
    "gruezi3(\"Guido\", uhrzeit = 21)"
   ]
  },
  {
   "cell_type": "markdown",
   "metadata": {},
   "source": [
    "### Übung 7.2\n",
    "\n",
    "Erweitere die Funktion `gruezi2` so, dass zwischen folgende Uhrzeiten berücksichtigt werden:\n",
    "\n",
    "```{list-table} Uhrzeiten und ihre Begrüssungsformen\n",
    ":header-rows: 1\n",
    ":name: who-bmi\n",
    "\n",
    "* - Uhrzeit\n",
    "  - Begrüssungsform\n",
    "* - 5 bis 11 Uhr\n",
    "  - Guten Morgen\n",
    "* - 11 - 18 Uhr\n",
    "  - Guten Tag\n",
    "* - 18 - 22 Uhr\n",
    "  - Guten Abend\n",
    "* - 22 - 5 Uhr\n",
    "  - Gute Nacht\n",
    "```"
   ]
  },
  {
   "cell_type": "markdown",
   "metadata": {},
   "source": [
    "Das Problem ist etwas schwierig zu Packen weil wir die \"von - bis\" Uhrzeiten in eine Ja/Nein Logik überführen müssen. Überlege dir zuerst eine Ausführungslogik und schreibe danach die `if`, `elif`und `else` Operationen. Im Dropdown unten ist unser Vorschlag.\n",
    "\n",
    "```{tip}\n",
    ":class: dropdown\n",
    "[![](https://mermaid.ink/img/eyJjb2RlIjoiZ3JhcGggTFJcbiAgICBBW3VocnplaXQgPCA1XSBcbiAgICBBLS0-fHllc3wgQltHdXRlIE5hY2h0XVxuICAgIEEtLT58bm98IENbVWhyemVpdCA8IDExXVxuICAgIEMtLT58eWVzfCBEW0d1dGVuIE1vcmdlbl1cbiAgICBDLS0-fG5vfCBFW1VocnplaXQgPCAxOF1cbiAgICBFLS0-fHllc3wgRltHdXRlbiBUYWddXG4gICAgRS0tPnxub3wgR1tVaHJ6ZWl0IDwgMjJdXG4gICAgRy0tPnx5ZXN8IEhbR3V0ZW4gQWJlbmRdXG4gICAgRy0tPnxub3wgSVtHdXRlIE5hY2h0XVxuICAiLCJtZXJtYWlkIjp7InRoZW1lIjoiZGVmYXVsdCJ9LCJ1cGRhdGVFZGl0b3IiOmZhbHNlLCJhdXRvU3luYyI6dHJ1ZSwidXBkYXRlRGlhZ3JhbSI6ZmFsc2V9)](https://mermaid.live/edit#eyJjb2RlIjoiZ3JhcGggTFJcbiAgICBBW3VocnplaXQgPCA1XSBcbiAgICBBLS0-fHllc3wgQltHdXRlIE5hY2h0XVxuICAgIEEtLT58bm98IENbVWhyemVpdCA8IDExXVxuICAgIEMtLT58eWVzfCBEW0d1dGVuIE1vcmdlbl1cbiAgICBDLS0-fG5vfCBFW1VocnplaXQgPCAxOF1cbiAgICBFLS0-fHllc3wgRltHdXRlbiBUYWddXG4gICAgRS0tPnxub3wgR1tVaHJ6ZWl0IDwgMjJdXG4gICAgRy0tPnx5ZXN8IEhbR3V0ZW4gQWJlbmRdXG4gICAgRy0tPnxub3wgSVtHdXRlIE5hY2h0XVxuICAiLCJtZXJtYWlkIjoie1xuICBcInRoZW1lXCI6IFwiZGVmYXVsdFwiXG59IiwidXBkYXRlRWRpdG9yIjpmYWxzZSwiYXV0b1N5bmMiOnRydWUsInVwZGF0ZURpYWdyYW0iOmZhbHNlfQ)\n",
    "\n",
    "```"
   ]
  },
  {
   "cell_type": "code",
   "execution_count": 52,
   "metadata": {
    "tags": [
     "remove-cell"
    ]
   },
   "outputs": [
    {
     "data": {
      "text/plain": [
       "'Gute Nacht, Herr Van Rossum'"
      ]
     },
     "execution_count": 52,
     "metadata": {},
     "output_type": "execute_result"
    }
   ],
   "source": [
    "# Musterlösung\n",
    "\n",
    "def gruezi2(nachname, anrede, uhrzeit):\n",
    "    if(uhrzeit < 5):\n",
    "        was = \"Gute Nacht\"\n",
    "    elif(uhrzeit < 11):\n",
    "        was = \"Guten Morgen\"\n",
    "    elif(uhrzeit < 18):\n",
    "        was = \"Guten Tag\"\n",
    "    elif(uhrzeit < 22):\n",
    "        was = \"Guten Abend\"\n",
    "    else:\n",
    "        was = \"Gute Nacht\"\n",
    "\n",
    "    return was +\", \"+ anrede + \" \"+nachname\n",
    "\n"
   ]
  },
  {
   "cell_type": "markdown",
   "metadata": {},
   "source": [
    "Teste die funktion mit verschiedenen Optionen um sicher zu stellen, dass sie richtig funktioniert."
   ]
  },
  {
   "cell_type": "markdown",
   "metadata": {},
   "source": [
    "### Übung 7.2\n",
    "\n",
    "Erweitere die Funktion `bmi` aus {ref}`ex-functions-bmi` so, dass statt dem berechneten BMI der \"Nutritional status\" aufgrund der [WHO Klassifizierung](https://www.euro.who.int/en/health-topics/disease-prevention/nutrition/a-healthy-lifestyle/body-mass-index-bmi) ausgegeben wird:\n",
    "\n",
    "\n",
    "\n",
    "```{list-table} WHO Nutritional status\n",
    ":header-rows: 1\n",
    ":name: who-bmi\n",
    "\n",
    "* - BMI\n",
    "  - Nutritional status\n",
    "* - Below 18.5\n",
    "  - Underweight\n",
    "* - 18.5–24.9\n",
    "  - Normal weight\n",
    "* - 25.0–29.9\n",
    "  - Pre-obesity\n",
    "* - 30.0–34.9\n",
    "  - Obesity class I\n",
    "* - 35.0–39.9\n",
    "  - Obesity class II\n",
    "* - Above 40\n",
    "  - Obesity class III\n",
    "```\n"
   ]
  },
  {
   "cell_type": "code",
   "execution_count": 29,
   "metadata": {
    "tags": [
     "remove-cell"
    ]
   },
   "outputs": [],
   "source": [
    "# Musterlösung\n",
    "\n",
    "def bmi2(groesse_m, gewicht_kg):\n",
    "    bmi = gewicht_kg / (groesse_m*groesse_m)\n",
    "    if(bmi < 18.5):\n",
    "        cat = \"Underweight\"\n",
    "    elif(bmi <= 24.9):\n",
    "        cat = \"Normal weight\"\n",
    "    elif(bmi <= 29.9):\n",
    "        cat = \"Pre-obesity\"\n",
    "    elif(bmi <= 34.9):\n",
    "        cat = \"Obesity class I\"\n",
    "    elif(bmi <= 39.9):\n",
    "        cat = \"Obesity class II\"\n",
    "    else:\n",
    "        cat = \"Obesity class III\"\n",
    "    return \"Who classification: \"+cat"
   ]
  },
  {
   "cell_type": "code",
   "execution_count": 30,
   "metadata": {},
   "outputs": [
    {
     "data": {
      "text/plain": [
       "'Who classification: Normal weight'"
      ]
     },
     "execution_count": 30,
     "metadata": {},
     "output_type": "execute_result"
    }
   ],
   "source": [
    "# Der Output sollte etwa folgedermassen aussehen\n",
    "bmi2(1.7, 70)"
   ]
  }
 ],
 "metadata": {
  "interpreter": {
   "hash": "916dbcbb3f70747c44a77c7bcd40155683ae19c65e1c03b4aa3499c5328201f1"
  },
  "kernelspec": {
   "display_name": "Python 3.8.10 64-bit",
   "name": "python3"
  },
  "language_info": {
   "codemirror_mode": {
    "name": "ipython",
    "version": 3
   },
   "file_extension": ".py",
   "mimetype": "text/x-python",
   "name": "python",
   "nbconvert_exporter": "python",
   "pygments_lexer": "ipython3",
   "version": "3.8.10"
  }
 },
 "nbformat": 4,
 "nbformat_minor": 2
}
