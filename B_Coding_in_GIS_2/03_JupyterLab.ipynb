{
 "cells": [
  {
   "cell_type": "markdown",
   "metadata": {},
   "source": [
    "# JupyterLab\n",
    "\n",
    "Wie bereits erwähnt ist JupyterLab der Nachfolger von Jupyter Notebook. Idealerweise hätten wir bereits letzte Woche JupyterLab verwendet, leider ist dieses Modul aber in der Standart Environment von ArcGIS (`arcgispro-py3`) nicht verfügbar.\n",
    "\n",
    "In der Handhabung ist JupyterLab sehr ähnlich wie Jupyter Notebook. Tatsächlich heissen die Dateien, die mit JupyterLab erstellt werden ebenfalls *Jupyter Notebook*: Ihr könnt also die \\*.ipynb Files von letzter Woche auch mit JuypterLab öffnen. Optisch gesehen ist der Hauptunterschied, dass JupyterLabs über eine *Sidebar* verfügt, wo verschiedene Tabs zur Verfügung stehen:\n",
    "\n",
    "- File browser\n",
    "- Running Terminals and Kernels\n",
    "- Table of Content\n",
    "- Extension Manager\n",
    "\n",
    "Eine praktische Funktionalität ist der Extension Manager. Hiermit kann JupyterLabs mit *Extensions* erweitert werden. Beispielsweise empfehle ich die Extension \"jupyterlab-variableinspector\" (`@lckr/jupyterlab_variableinspector`). \n",
    "\n",
    "Um ein neues Notebook zu erstellen klickt ihr auf File > New > Notebook oder auf den entsprechenden Button im Launcher.\n",
    "\n",
    "\n",
    "```{figure} figures/jupyterbook-lab.png\n",
    ":name: jupyterbook-lab\n",
    "\n",
    "Unterschiede bzw. Features von JuypterLab (Quelle: [stackoverflow.com](https://stackoverflow.com/a/63321100/4139249))\n",
    "```\n"
   ]
  }
 ],
 "metadata": {
  "language_info": {
   "name": "python"
  }
 },
 "nbformat": 4,
 "nbformat_minor": 2
}
