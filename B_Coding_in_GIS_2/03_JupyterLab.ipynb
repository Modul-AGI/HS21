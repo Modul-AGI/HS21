{
 "cells": [
  {
   "cell_type": "markdown",
   "source": [
    "# JupyterLab\n",
    "\n",
    "Installiert zuerst JupyterLab nach der Anleitung in Kapitel \"{ref}`chap-conda`\" und startet die IDE mit dem Befehl `jupyter lab`. Wie dort bereits erwähnt ist JupyterLab der Nachfolger von Jupyter Notebook. Idealerweise hätten wir bereits letzte Woche JupyterLab verwendet, leider ist dieses Modul aber in der Standart Environment von ArcGIS (`arcgispro-py3`) nicht verfügbar.\n",
    "\n",
    "In der Handhabung ist JupyterLab sehr ähnlich wie Jupyter Notebook. Tatsächlich bleibt das Dateiformat genau das gleiche: Auch mit JuypterLab erstellt man \\*.ipynb Files die nach wie vor \"Jupyter Notebooks\" heissen. Optisch gesehen ist der Hauptunterschied, dass JupyterLabs über eine *Sidebar* verfügt, wo verschiedene Tabs zur Verfügung stehen (File browser, Running Terminals and Kernels, Table of Content, Extension Manager).\n",
    "\n",
    "Eine praktische Funktionalität ist der Extension Manager. Hiermit kann JupyterLabs mit *Extensions* erweitert werden. Beispielsweise empfehle ich die Extension \"jupyterlab-variableinspector\" (`@lckr/jupyterlab_variableinspector`). Details zu dieser Extension findet ihr auf dessen [Github Repository](https://github.com/lckr/jupyterlab-variableInspector).\n",
    "\n",
    "Um ein neues Notebook zu erstellen klickt ihr auf File > New > Notebook oder auf den entsprechenden Button im Launcher.\n",
    "\n",
    "\n",
    "```{figure} figures/jupyterbook-lab.png\n",
    ":name: jupyterbook-lab\n",
    "\n",
    "Unterschiede bzw. Features von JuypterLab (Quelle: [stackoverflow.com](https://stackoverflow.com/a/63321100/4139249))\n",
    "```\n"
   ],
   "metadata": {}
  }
 ],
 "metadata": {
  "language_info": {
   "name": "python"
  }
 },
 "nbformat": 4,
 "nbformat_minor": 2
}