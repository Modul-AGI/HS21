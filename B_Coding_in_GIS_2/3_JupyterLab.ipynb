{
 "cells": [
  {
   "cell_type": "markdown",
   "metadata": {},
   "source": [
    "# JupyterLab\n",
    "\n",
    "Installiert zuerst JupyterLab nach der Anleitung in Kapitel \"{ref}`chap-conda`\" und startet die IDE mit dem Befehl `jupyter lab`. Wie dort bereits erwähnt ist JupyterLab der Nachfolger von Jupyter Notebook. Idealerweise hätten wir bereits letzte Woche JupyterLab verwendet, leider ist dieses Modul aber in der Standart Environment von ArcGIS (`arcgispro-py3`) nicht verfügbar.\n",
    "\n",
    "In der Handhabung ist JupyterLab sehr ähnlich wie Jupyter Notebook. Tatsächlich bleibt das Dateiformat genau das gleiche: Auch mit JuypterLab erstellt man \\*.ipynb Files die nach wie vor \"Jupyter Notebooks\" heissen. Optisch gesehen ist der Hauptunterschied, dass JupyterLabs über eine *Sidebar* verfügt, wo verschiedene Tabs zur Verfügung stehen (File browser, Running Terminals and Kernels, Table of Content, Extension Manager).\n",
    "\n",
    "Eine praktische Funktionalität ist der Extension Manager. Hiermit kann JupyterLabs mit *Extensions* erweitert werden. Beispielsweise empfehle ich die Extension \"jupyterlab-variableinspector\" (`@lckr/jupyterlab_variableinspector`). Details zu dieser Extension findet ihr auf dessen [Github Repository](https://github.com/lckr/jupyterlab-variableInspector).\n",
    "\n",
    "Um ein neues Notebook zu erstellen klickt ihr auf File > New > Notebook oder auf den entsprechenden Button im Launcher.\n",
    "\n",
    "\n",
    "```{figure} figures/jupyterbook-lab.png\n",
    ":name: jupyterbook-lab\n",
    "\n",
    "Unterschiede bzw. Features von JuypterLab (Quelle: [stackoverflow.com](https://stackoverflow.com/a/63321100/4139249))\n",
    "```\n"
   ]
  }
 ],
 "metadata": {
  "kernelspec": {
   "display_name": "Python 3 (ipykernel)",
   "language": "python",
   "name": "python3"
  },
  "language_info": {
   "codemirror_mode": {
    "name": "ipython",
    "version": 3
   },
   "file_extension": ".py",
   "mimetype": "text/x-python",
   "name": "python",
   "nbconvert_exporter": "python",
   "pygments_lexer": "ipython3",
   "version": "3.8.10"
  }
 },
 "nbformat": 4,
 "nbformat_minor": 4
}
