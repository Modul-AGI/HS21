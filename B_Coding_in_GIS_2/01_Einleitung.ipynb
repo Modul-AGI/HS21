{
 "cells": [
  {
   "cell_type": "markdown",
   "source": [
    "# Einleitung\n",
    "\n",
    "Letzte Woche habt ihr die wichtigsten Datentypen in Python kennen gelernt und sowohl den Command Prompt wie auch Juypter Notebook verwendet. Diese Woche werden wir Python Module genauer beleuchten und dabei *conda* kennenlernen. Zudem widmen wir uns dem erstellen von Funktionen (*Functions*), Fallunterscheidungen (`if` und `else`) sowie dem erstellen von Zufallszahlen.\n",
    "\n"
   ],
   "metadata": {}
  },
  {
   "cell_type": "markdown",
   "source": [
    "```{admonition} Übungsziele\n",
    ":class: attention\n",
    "- Conda verstehen und beherrschen\n",
    "- Python Module verstehen\n",
    "- *Functions* kennenlernen und beherrschen\n",
    "- *Function* auf eine ganze Spalte einer DataFrame anwenden können.\n",
    "```"
   ],
   "metadata": {}
  },
  {
   "cell_type": "markdown",
   "source": [
    "Die Slides zur heutigen Vorlesung findet ihr hier: \n",
    "\n",
    "<iframe src=\"https://modul-agi.github.io/slides/Coding_in_GIS_II\" style=\"border:0px #ffffff none;\" name=\"myiFrame\" scrolling=\"no\" frameborder=\"1\" marginheight=\"0px\" marginwidth=\"0px\" height=\"400px\" width=\"100%\" allowfullscreen></iframe>\n",
    "\n",
    "In einem neuen Fenster öffnen: [modul-agi.github.io/slides](https://modul-agi.github.io/slides)"
   ],
   "metadata": {}
  }
 ],
 "metadata": {
  "kernelspec": {
   "display_name": "Python 3",
   "language": "python",
   "name": "python3"
  },
  "language_info": {
   "codemirror_mode": {
    "name": "ipython",
    "version": 3
   },
   "file_extension": ".py",
   "mimetype": "text/x-python",
   "name": "python",
   "nbconvert_exporter": "python",
   "pygments_lexer": "ipython3",
   "version": "3.7.8"
  }
 },
 "nbformat": 4,
 "nbformat_minor": 4
}