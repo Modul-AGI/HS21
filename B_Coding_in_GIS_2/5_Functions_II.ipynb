{
 "cells": [
  {
   "cell_type": "markdown",
   "source": [
    "(function-advanced)=\n",
    "# Aufgabe 6: *Function* Advanced\n",
    "\n",
    "## Theorie\n",
    "\n",
    "### Standart-Werte\n",
    "\n",
    "Man kann für einzelne (oder alle) Parameter auch Standardwerte festlegen. Das sind Werte die dann zum Zug kommen, wenn der Nutzer der Funktion das entsprechende Parameter leer lässt. Schauen wir dazu nochmals `sag_hallo()` an."
   ],
   "metadata": {}
  },
  {
   "cell_type": "code",
   "execution_count": 17,
   "source": [
    "def sag_hallo(vorname):\n",
    "    return \"Hallo \" + vorname + \"!\" "
   ],
   "outputs": [],
   "metadata": {}
  },
  {
   "cell_type": "markdown",
   "source": [
    "Um diese Funktion zu nutzen müssen dem Parameter `vorname` ein Argument übergeben, sonst erhalten wir eine Fehlermeldung. "
   ],
   "metadata": {}
  },
  {
   "cell_type": "code",
   "execution_count": null,
   "source": [
    "sag_hallo()"
   ],
   "outputs": [],
   "metadata": {
    "tags": [
     "raises-exception"
    ]
   }
  },
  {
   "cell_type": "markdown",
   "source": [
    "Wenn wir möchten, dass gewisse Parameter auch ohne Argument auskommen, dann könnnen wir einen Standartwert festlegen. So wird der Parameter optional. Bespielsweise könnte `sag_hallo()` einfach *Hallo Du!* zurück geben, wenn kein Vorname angegeben wird. Um dies zu erreichen, definieren wird den Standartwert bereits innerhalb der Klammer, und zwar folgendermassen:"
   ],
   "metadata": {}
  },
  {
   "cell_type": "code",
   "execution_count": 18,
   "source": [
    "def sag_hallo(vorname = \"Du\"):\n",
    "    return \"Hallo \" + vorname + \"!\" \n",
    "\n",
    "# Wenn \"vorname\" nicht angegeben wird:\n",
    "sag_hallo()"
   ],
   "outputs": [
    {
     "output_type": "execute_result",
     "data": {
      "text/plain": [
       "'Hallo Du!'"
      ]
     },
     "metadata": {},
     "execution_count": 18
    }
   ],
   "metadata": {}
  },
  {
   "cell_type": "markdown",
   "source": [
    "```{admonition} Wichtig\n",
    ":class: attention\n",
    "Wenn mehrere Parameter in einer Funktion definiert werden, dann kommen die optionalen Parameter **immer zum Schluss**.\n",
    "```"
   ],
   "metadata": {}
  },
  {
   "cell_type": "markdown",
   "source": [
    "### Reihenfolge der Argumente\n",
    "\n",
    "Wenn die Argumente in der gleichen Reihenfolge eingegeben werden, wie sie in der *Function*-Definiert sind, müssen die Parameter **nicht** spezifiziert werden (z.B: `anrede=`, `nachname=`)."
   ],
   "metadata": {}
  },
  {
   "cell_type": "code",
   "execution_count": 19,
   "source": [
    "def gruezi2(nachname, anrede):\n",
    "    return \"Guten Tag, \" + anrede + \" \"+nachname\n",
    "\n",
    "gruezi2(\"van Rossum\", \"Herr\")"
   ],
   "outputs": [
    {
     "output_type": "execute_result",
     "data": {
      "text/plain": [
       "'Guten Tag, Herr van Rossum'"
      ]
     },
     "metadata": {},
     "execution_count": 19
    }
   ],
   "metadata": {}
  },
  {
   "cell_type": "markdown",
   "source": [
    "Wenn wir die Reihenfolge missachten, ist der Output unserer Funktion fehlerhaft:"
   ],
   "metadata": {}
  },
  {
   "cell_type": "code",
   "execution_count": 20,
   "source": [
    "gruezi2(\"Herr\",\"van Rossum\")"
   ],
   "outputs": [
    {
     "output_type": "execute_result",
     "data": {
      "text/plain": [
       "'Guten Tag, van Rossum Herr'"
      ]
     },
     "metadata": {},
     "execution_count": 20
    }
   ],
   "metadata": {}
  },
  {
   "cell_type": "markdown",
   "source": [
    "Aber wenn die Parameter der Argumente spezifiziert werden, können wir sie in jeder beliebigen Reihenfolge auflisten:"
   ],
   "metadata": {}
  },
  {
   "cell_type": "code",
   "execution_count": 2,
   "source": [
    "gruezi2(anrede = \"Herr\", nachname = \"van Rossum\")"
   ],
   "outputs": [
    {
     "output_type": "error",
     "ename": "NameError",
     "evalue": "name 'gruezi2' is not defined",
     "traceback": [
      "\u001b[0;31m---------------------------------------------------------------------------\u001b[0m",
      "\u001b[0;31mNameError\u001b[0m                                 Traceback (most recent call last)",
      "\u001b[0;32m<ipython-input-2-3e36560db053>\u001b[0m in \u001b[0;36m<module>\u001b[0;34m()\u001b[0m\n\u001b[0;32m----> 1\u001b[0;31m \u001b[0mgruezi2\u001b[0m\u001b[0;34m(\u001b[0m\u001b[0manrede\u001b[0m \u001b[0;34m=\u001b[0m \u001b[0;34m\"Herr\"\u001b[0m\u001b[0;34m,\u001b[0m \u001b[0mnachname\u001b[0m \u001b[0;34m=\u001b[0m \u001b[0;34m\"van Rossum\"\u001b[0m\u001b[0;34m)\u001b[0m\u001b[0;34m\u001b[0m\u001b[0;34m\u001b[0m\u001b[0m\n\u001b[0m",
      "\u001b[0;31mNameError\u001b[0m: name 'gruezi2' is not defined"
     ]
    }
   ],
   "metadata": {}
  },
  {
   "cell_type": "markdown",
   "source": [
    "### Funktionen auf mehreren Zeilen\n",
    "\n",
    "Bisher waren unsere Funktionen sehr kurz und einfach und wir benötigten dafür immer nur zwei Zeilen: Die erste Zeile begann die *Function*-Definition (`def..`) und die zweite Zeile retournierte bereits die Lösung `return(...)`. \n",
    "\n",
    "Zwischen diesen beiden Komponenten haben wir aber viel Platz, den wir uns zu Nutze machen können. Wir können hier Kommentare hinzufügen wie auch unsere Funktion in Einzelschritte aufteilen um den Code lesbarer zu machen."
   ],
   "metadata": {}
  },
  {
   "cell_type": "code",
   "execution_count": null,
   "source": [
    "def gruezi2(nachname, anrede):\n",
    "    \"\"\" \n",
    "    Meine coole Grüezi funktion\n",
    "    Diese Funktion soll Menschen freundlich grüssen. \n",
    "    Sie nimmt zwei Inputs: nachname und andrede, beides \"strings\"\n",
    "    \"\"\"\n",
    "    gruss = \"Guten Tag, \" + anrede + \" \"+nachname\n",
    "    return gruss"
   ],
   "outputs": [],
   "metadata": {}
  },
  {
   "cell_type": "markdown",
   "source": [
    "Allgemeine Kommentare werden in Python mit `#` hinzugefügt, Funktionen werden aber mit drei Anführungs- und Schlusszeichen eingefügt. Diese Kommentare erscheinen eleganterweise wenn man die Hilfe zu dieser Funktion mit `help()` aufruft:"
   ],
   "metadata": {}
  },
  {
   "cell_type": "code",
   "execution_count": null,
   "source": [
    "help(gruezi2)"
   ],
   "outputs": [],
   "metadata": {}
  },
  {
   "cell_type": "markdown",
   "source": [
    "### Globale und Lokale Variabeln\n",
    "\n",
    "Innerhalb einer *Function* können nur die Variabeln verwendet werden, die der *Function* als Argumente übergeben (oder innerhalb der Funktion erstellt) werden. Diese nennt man \"lokale\" Variabeln, sie sind lokal in der *Function* vorhanden. Im Gegensatz dazu stehen \"globale\" Variabeln, diese sind Teil der aktuellen Session. \n",
    "\n",
    "Versuchen wir das mit einem Beispiel zu verdeutlichen. Angenommen wir definieren gobal die Variabeln `nachname` und `anrede`:"
   ],
   "metadata": {}
  },
  {
   "cell_type": "code",
   "execution_count": 1,
   "source": [
    "# Wir definieren globale Variabeln\n",
    "vorname = \"Guido\"\n",
    "\n",
    "# Nun erstellen wir eine Function, welche diese Variabel (\"vorname\") nutzen soll:\n",
    "def sag_hallo(vorname):\n",
    "    return \"Hallo \" + vorname\n",
    "\n",
    "# Wenn wir jetzt aber die Function ausführen wollen, entsteht die Fehlermeldung,\n",
    "# dass \"vorname\" fehlt (obwohl wir vorname ja schon definiert haben)\n",
    "sag_hallo()\n"
   ],
   "outputs": [
    {
     "output_type": "error",
     "ename": "TypeError",
     "evalue": "sag_hallo() missing 1 required positional argument: 'vorname'",
     "traceback": [
      "\u001b[0;31m---------------------------------------------------------------------------\u001b[0m",
      "\u001b[0;31mTypeError\u001b[0m                                 Traceback (most recent call last)",
      "\u001b[0;32m<ipython-input-1-cf00497e2e54>\u001b[0m in \u001b[0;36m<module>\u001b[0;34m()\u001b[0m\n\u001b[1;32m      7\u001b[0m \u001b[0;34m\u001b[0m\u001b[0m\n\u001b[1;32m      8\u001b[0m \u001b[0;31m# Wenn wir jetzt aber die Function ausführen wollen, entsteht eine Fehlermeldung.\u001b[0m\u001b[0;34m\u001b[0m\u001b[0;34m\u001b[0m\u001b[0;34m\u001b[0m\u001b[0m\n\u001b[0;32m----> 9\u001b[0;31m \u001b[0msag_hallo\u001b[0m\u001b[0;34m(\u001b[0m\u001b[0;34m)\u001b[0m\u001b[0;34m\u001b[0m\u001b[0;34m\u001b[0m\u001b[0m\n\u001b[0m",
      "\u001b[0;31mTypeError\u001b[0m: sag_hallo() missing 1 required positional argument: 'vorname'"
     ]
    }
   ],
   "metadata": {
    "tags": [
     "raises-exception"
    ]
   }
  },
  {
   "cell_type": "markdown",
   "source": [
    "(chap-functions-lambda)=\n",
    "### Lambda-Function\n",
    "\n",
    "Mit dem Begriff `lambda` kann eine *Function* verkürzt geschrieben werden. Wir werden dies im Unterricht kaum verwenden, es ist aber doch gut davon gehört zu haben. Nachstehend wird die Funktion `sag_hallo()` in der bekannten, wie auch in der verkürzten Form definiert. \n",
    "\n",
    "````{panels}\n",
    "Herkömmliche Weise:\n",
    "```python\n",
    "def sag_hallo(vorname):\n",
    "    return \"Hallo \"+vorname\n",
    "```\n",
    "---\n",
    "Verkürzt mit `lambda`:\n",
    "```python\n",
    "sag_hallo = lambda vorname: \"Hallo \"+vorname\n",
    "```\n",
    "````\n"
   ],
   "metadata": {}
  },
  {
   "cell_type": "markdown",
   "source": [
    "## Übungen"
   ],
   "metadata": {}
  },
  {
   "cell_type": "markdown",
   "source": [
    "%: Multiplizieren\n",
    "### Übung 6.1\n",
    "\n",
    "Erstelle eine Funktion namens `times`, die zwei Zahlen miteinander multipliziert. "
   ],
   "metadata": {}
  },
  {
   "cell_type": "code",
   "execution_count": 22,
   "source": [
    "# Musterlösung\n",
    "\n",
    "def times(x,y):\n",
    "    return x*y"
   ],
   "outputs": [],
   "metadata": {
    "tags": [
     "remove-cell"
    ]
   }
  },
  {
   "cell_type": "code",
   "execution_count": 1,
   "source": [
    "times(2,2)"
   ],
   "outputs": [
    {
     "output_type": "error",
     "ename": "NameError",
     "evalue": "name 'times' is not defined",
     "traceback": [
      "\u001b[0;31m---------------------------------------------------------------------------\u001b[0m",
      "\u001b[0;31mNameError\u001b[0m                                 Traceback (most recent call last)",
      "\u001b[0;32m<ipython-input-1-0b8132d26b76>\u001b[0m in \u001b[0;36m<module>\u001b[0;34m()\u001b[0m\n\u001b[0;32m----> 1\u001b[0;31m \u001b[0mtimes\u001b[0m\u001b[0;34m(\u001b[0m\u001b[0;36m2\u001b[0m\u001b[0;34m,\u001b[0m\u001b[0;36m2\u001b[0m\u001b[0;34m)\u001b[0m\u001b[0;34m\u001b[0m\u001b[0;34m\u001b[0m\u001b[0m\n\u001b[0m",
      "\u001b[0;31mNameError\u001b[0m: name 'times' is not defined"
     ]
    }
   ],
   "metadata": {}
  },
  {
   "cell_type": "markdown",
   "source": [
    "% : Optionale Parameter\n",
    "### Übung 6.2\n",
    "\n",
    "Die eben erstellte Funktion `times` benötigt 2 Argumente (die miteinander multipliziert werden). Wandle den einen in Parameter einen optionalen Parameter um (mit dem Defaultwert `1`). \n",
    "\n",
    "**Zusatzaufgabe**: Was passiert, wenn du den ersten Parameter in einen optionalen Parameter umwandelst?"
   ],
   "metadata": {}
  },
  {
   "cell_type": "code",
   "execution_count": null,
   "source": [
    "# Musterlösung\n",
    "\n",
    "def times(x,y = 1):\n",
    "    return x*y"
   ],
   "outputs": [],
   "metadata": {
    "tags": [
     "remove-cell"
    ]
   }
  },
  {
   "cell_type": "code",
   "execution_count": 15,
   "source": [
    "times(3)"
   ],
   "outputs": [
    {
     "output_type": "error",
     "ename": "NameError",
     "evalue": "name 'times' is not defined",
     "traceback": [
      "\u001b[0;31m---------------------------------------------------------------------------\u001b[0m",
      "\u001b[0;31mNameError\u001b[0m                                 Traceback (most recent call last)",
      "\u001b[0;32m<ipython-input-15-36e1bc65f308>\u001b[0m in \u001b[0;36m<module>\u001b[0;34m\u001b[0m\n\u001b[0;32m----> 1\u001b[0;31m \u001b[0mtimes\u001b[0m\u001b[0;34m(\u001b[0m\u001b[0;36m3\u001b[0m\u001b[0;34m)\u001b[0m\u001b[0;34m\u001b[0m\u001b[0;34m\u001b[0m\u001b[0m\n\u001b[0m",
      "\u001b[0;31mNameError\u001b[0m: name 'times' is not defined"
     ]
    }
   ],
   "metadata": {}
  },
  {
   "cell_type": "markdown",
   "source": [
    "``` python\n",
    "# Musterlösung\n",
    "# (Zusatzaufgabe)\n",
    "\n",
    "def times(x  = 1 ,y):\n",
    "    return x*y\n",
    "\n",
    "  File \"<ipython-input-10-e0d2091c9b0f>\", line 1\n",
    "    def times(x  = 1 ,y):\n",
    "              ^\n",
    "SyntaxError: non-default argument follows default argument\n",
    "```"
   ],
   "metadata": {
    "tags": [
     "remove-cell"
    ]
   }
  },
  {
   "cell_type": "markdown",
   "source": [
    "% : BMI\n",
    "### Übung 6.3\n",
    "\n",
    "Erstelle eine Funktion namens `bmi`, die aus Grösse und Gewicht einen BodyMassIndex berechnet ($BMI=\\frac{m}{l^2}$, $m$: Körpermasse in Kilogramm, $l$: Körpergrösse in Meter). Das Resultat soll etwa folgendermassen aussehen:"
   ],
   "metadata": {}
  },
  {
   "cell_type": "code",
   "execution_count": 25,
   "source": [
    "# Musterlösung\n",
    "\n",
    "def bmi(groesse_m, gewicht_kg):\n",
    "    return gewicht_kg / (groesse_m*groesse_m)"
   ],
   "outputs": [],
   "metadata": {
    "tags": [
     "remove-cell"
    ]
   }
  },
  {
   "cell_type": "code",
   "execution_count": 1,
   "source": [
    "bmi(groesse_m=1.8, gewicht_kg=88)"
   ],
   "outputs": [
    {
     "output_type": "error",
     "ename": "NameError",
     "evalue": "name 'bmi' is not defined",
     "traceback": [
      "\u001b[0;31m---------------------------------------------------------------------------\u001b[0m",
      "\u001b[0;31mNameError\u001b[0m                                 Traceback (most recent call last)",
      "\u001b[0;32m<ipython-input-1-3089cbaedbee>\u001b[0m in \u001b[0;36m<module>\u001b[0;34m\u001b[0m\n\u001b[0;32m----> 1\u001b[0;31m \u001b[0mbmi\u001b[0m\u001b[0;34m(\u001b[0m\u001b[0mgroesse_m\u001b[0m\u001b[0;34m=\u001b[0m\u001b[0;36m1.8\u001b[0m\u001b[0;34m,\u001b[0m \u001b[0mgewicht_kg\u001b[0m\u001b[0;34m=\u001b[0m\u001b[0;36m88\u001b[0m\u001b[0;34m)\u001b[0m\u001b[0;34m\u001b[0m\u001b[0;34m\u001b[0m\u001b[0m\n\u001b[0m",
      "\u001b[0;31mNameError\u001b[0m: name 'bmi' is not defined"
     ]
    }
   ],
   "metadata": {}
  },
  {
   "cell_type": "markdown",
   "source": [
    "%  Mittelwert\n",
    "### Übung 6.4\n",
    "\n",
    "Erstelle eine Funktion `mean()`, welche den Mittelwert aus einer Liste (`List`) von Zahlen berechnet. Das Resultat sollte folgendermassen aussehen:\n",
    "\n",
    "\n",
    "```{tip}\n",
    ":class: dropdown\n",
    "Nutze dazu `sum()` und `len()` analog {ref}`mittelwert`.\n",
    "```"
   ],
   "metadata": {}
  },
  {
   "cell_type": "code",
   "execution_count": 2,
   "source": [
    "# Musterlösung\n",
    "\n",
    "def mean(zahlen):\n",
    "    return sum(zahlen)/len(zahlen)"
   ],
   "outputs": [],
   "metadata": {
    "tags": [
     "remove-cell"
    ]
   }
  },
  {
   "cell_type": "code",
   "execution_count": 4,
   "source": [
    "meine_zahlen = [50, 100,550,1000]\n",
    "mean(meine_zahlen)"
   ],
   "outputs": [
    {
     "output_type": "execute_result",
     "data": {
      "text/plain": [
       "425.0"
      ]
     },
     "metadata": {},
     "execution_count": 4
    }
   ],
   "metadata": {}
  },
  {
   "cell_type": "markdown",
   "source": [
    "%  Grad Celsius in Farenheit\n",
    "### Übung 6.5\n",
    "\n",
    "Erstelle eine Funktion `celsius_zu_farenheit`, welche eine beliebige Zahl von Grad Celsius in Grad Kelvin konvertiert. Zur Erinnerung: *Temperatur in °F = Temperatur in °C x 1,8 + 32*. "
   ],
   "metadata": {}
  },
  {
   "cell_type": "code",
   "execution_count": 7,
   "source": [
    "# Musterlösung\n",
    "\n",
    "def celsius_in_farenheit(celsius):\n",
    "    return celsius*1.8+32"
   ],
   "outputs": [],
   "metadata": {
    "tags": [
     "remove-cell"
    ]
   }
  },
  {
   "cell_type": "markdown",
   "source": [
    "Das Resultat sollte folgendermassen aussehen:"
   ],
   "metadata": {}
  },
  {
   "cell_type": "code",
   "execution_count": 8,
   "source": [
    "celsius_in_farenheit(celsius = 25)"
   ],
   "outputs": [
    {
     "output_type": "execute_result",
     "data": {
      "text/plain": [
       "77.0"
      ]
     },
     "metadata": {},
     "execution_count": 8
    }
   ],
   "metadata": {}
  },
  {
   "cell_type": "markdown",
   "source": [
    "% Lambda Function\n",
    "### Übung 6.6\n",
    "\n",
    "Schreibe die letzte Funktion `celsius_zu_farenheit` in der *lambda* Notation."
   ],
   "metadata": {}
  },
  {
   "cell_type": "code",
   "execution_count": 14,
   "source": [
    "# Musterlösung\n",
    "\n",
    "celsius_in_farenheit2 = lambda celsius: celsius*1.8+32"
   ],
   "outputs": [],
   "metadata": {
    "tags": [
     "remove-cell"
    ]
   }
  }
 ],
 "metadata": {
  "kernelspec": {
   "display_name": "Python 3",
   "language": "python",
   "name": "python3"
  },
  "language_info": {
   "codemirror_mode": {
    "name": "ipython",
    "version": 3
   },
   "file_extension": ".py",
   "mimetype": "text/x-python",
   "name": "python",
   "nbconvert_exporter": "python",
   "pygments_lexer": "ipython3",
   "version": "3.7.8"
  }
 },
 "nbformat": 4,
 "nbformat_minor": 4
}