{
 "cells": [
  {
   "cell_type": "markdown",
   "metadata": {},
   "source": [
    "# Entwicklungsumgebung: Jupyter Notebook\n",
    "\n",
    "Bisher haben wir ohne Enwicklungsumgebung (IDE) gearbeitet, was auf die Dauer sehr mühsam sein kann. Erstens wird unser Code nirgens gespeichert und zweitens haben wir auch keine Autovervollständigung.\n",
    "\n",
    "Deshalb arbeiten wir von nun an in einer ordentlichen Entwicklungsumgebung, und zwar in Jupyter Notebook. Jupyter Notebook ist eine unter *Data Scientists* sehr beliebte Entwicklungsumgebung. Sie hat zwei Eigenheiten, die anfänglich zu etwas verwirrung sorgen können. Jupyter Notebook:\n",
    "\n",
    "1. ist ein Python Modul (und wird also über den \"Command Prompt\" gestartet)\n",
    "2. wird über den Webbrowser bedient\n",
    "\n",
    "Um Jupyter Notebook zu starten verlässt ihr Python im Command Prompt in dem ihr `exit()` oder `quit()` eintippt und mit Enter bestätigt. Danach könnt ihr mit dem Befehl `jupyter notebook` eben diesen starten.\n",
    "\n"
   ]
  },
  {
   "cell_type": "code",
   "execution_count": null,
   "metadata": {},
   "outputs": [],
   "source": []
  },
  {
   "cell_type": "markdown",
   "metadata": {},
   "source": [
    "Wie wir sehen können, ist unser aktuelles Arbeitsverzeichnis `C:\\\\Users\\\\bako\\\\AppData\\\\Local\\\\ESRI\\\\conda\\\\envs\\\\arcgispro-py3-clone2`nicht ideal.\n",
    "\n",
    "```{figure} figures/chdir.jpg\n",
    ":name: cwd\n",
    "\n",
    "Aktuelles Arbeitsverzeichnis\n",
    "```\n",
    "\n",
    "Um in ein geeigneteres Verzeichnis zu wechseln, können wir den Befehl `cd` *(change directory)* verwenden, gefolgt von dem Pfad zu dem von uns gewünschten Verzeichnis. In meinem Fall werde ich auf den Desktop wechseln `cd C:\\Users\\bako\\Desktop`. Ihr könnt etwas Ähnliches tun und das Verzeichnis an den von euch bevorzugten Ort ändern. Jetzt sind wir bereit, das Jupyter Notebook zu starten.\n",
    "\n",
    "```{figure} figures/notebook.jpg\n",
    ":name: notebook\n",
    "\n",
    "Jupyter notebook öffnen\n",
    "```"
   ]
  },
  {
   "cell_type": "markdown",
   "metadata": {},
   "source": [
    "Nachdem wir auf der Startseite von Jupyter gelandet sind, können wir nun eine neue Python Datei öffnen.\n",
    "\n",
    "```{figure} figures/newFile.png\n",
    ":name: newfile\n",
    "\n",
    "Öffnen einer neuen Python Datei\n",
    "```"
   ]
  }
 ],
 "metadata": {
  "kernelspec": {
   "display_name": "Python 3",
   "language": "python",
   "name": "python3"
  },
  "language_info": {
   "codemirror_mode": {
    "name": "ipython",
    "version": 3
   },
   "file_extension": ".py",
   "mimetype": "text/x-python",
   "name": "python",
   "nbconvert_exporter": "python",
   "pygments_lexer": "ipython3",
   "version": "3.7.7"
  }
 },
 "nbformat": 4,
 "nbformat_minor": 2
}
