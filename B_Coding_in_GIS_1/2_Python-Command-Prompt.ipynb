{
 "cells": [
  {
   "cell_type": "markdown",
   "metadata": {},
   "source": [
    "# Python Command Prompt\n",
    "\n",
    "Um mit `R` zu Programmieren habt ihr bisher vermutlich in RStudio gearbeitet. RStudio ist eine sogenannte \"Integrierte Entwicklungsumgebung\" (i.e. IDE), wo ihr eure R-Scripts entwicklen konntet. Zu Beginn werden wir in diesem Kurs *ohne* Entwicklungsumgebung arbeiten und Python von der Konsole aus bedienen. \n",
    "\n",
    "Startet dazu den *Python Command Prompt* indem ihr `Windowstaste` drückt und nach dieser Applikation sucht (einfach den Namen eingeben). Nach dem öffnen der Applikation sollte sich ein schwarzes Fenster öffnen und auf eure Eingabe warten (siehe {ref}`python-cmd`).\n",
    "\n",
    "```{figure} figures/python-command-prompt.PNG\n",
    ":name: python-cmd\n",
    "\n",
    "Python Command Prompt (i.e. \"Eingabeaufforderung\")\n",
    "```\n",
    "\n",
    "Dieses Fenster ermöglicht es uns, auf sehr einfache (aber auch etwas trockene) Weise mit Python zu interagieren. Dazu müssen wir aber zuerst noch in das Python Programm einsteigen, indem wir `python` eintippen und `Enter` drücken. \n",
    "\n",
    "```{figure} figures/python-command-prompt2.PNG\n",
    ":name: python-cmd2\n",
    "\n",
    "Python Command Prompt im Python Programm (beachte die drei `>>>`)\n",
    "```"
   ]
  }
 ],
 "metadata": {
  "kernelspec": {
   "display_name": "Python 3",
   "language": "python",
   "name": "python3"
  },
  "language_info": {
   "codemirror_mode": {
    "name": "ipython",
    "version": 3
   },
   "file_extension": ".py",
   "mimetype": "text/x-python",
   "name": "python",
   "nbconvert_exporter": "python",
   "pygments_lexer": "ipython3",
   "version": "3.7.7"
  }
 },
 "nbformat": 4,
 "nbformat_minor": 2
}
