{
 "cells": [
  {
   "cell_type": "markdown",
   "source": [
    "(chap-random-numbers)=\n",
    "# Aufgabe 8: Zufallszahlen generieren\n",
    "\n",
    "## Theorie\n",
    "\n",
    "Im Block \"*Datenqualität und Unsicherheit*\" hattet ihr auch mit Zufallszahlen und Simulationen auseinandergesetzt. Programmiersprachen sind für eine solche Anwendung sehr gut geeignet, und deshalb werden wir in diesem Abschnitt eine Erweiterung zur Erstellung von Zufallszahlen kennenlernen. Diese Erweiterung lautet `random` und ist teil der [\"Python Standard Library\"](https://en.wikibooks.org/wiki/Python_Programming/Standard_Library), was bedeutet das wir dieses Erweiterung bereits installiert ist, und wir sie nicht installieren müssen um sie zu nutzen. "
   ],
   "metadata": {}
  },
  {
   "cell_type": "code",
   "execution_count": 59,
   "source": [
    "import random"
   ],
   "outputs": [],
   "metadata": {}
  },
  {
   "cell_type": "code",
   "execution_count": 60,
   "source": [
    "random.seed(2)"
   ],
   "outputs": [],
   "metadata": {
    "tags": [
     "remove-cell"
    ]
   }
  },
  {
   "cell_type": "markdown",
   "source": [
    "Innerhalb vom `random` gibt es zahlreiche Funktionen um Zufallszahlen zu generieren, je nach dem was unsere Anforderungen an die Zufallszahl ist. Zum Beispiel könnte eine Anforderung sein, dass die Zahl innerhalb von einem bestimmten Bereich liegt (z.B. \"*generiere eine Zufallszahl zwischen 1 und 9*\"). Oder aber, dass sie eine ganze Zahl sein muss. Weiter könnte die Anforderung sein, dass sie aus einer bestimmten Verteilung kommen sollte, zum Beispiel einer Normalverteilung. In diesem letzten Fall müssen wir den Mittlwert sowie die Standartabweichung unserer Verteilung angeben.\n",
    "\n",
    "Um eine ganzzahlige Zufallszahl zwischen 1 und 9 zu generieren, können wir die Funktion `randrange()` nutzen:"
   ],
   "metadata": {}
  },
  {
   "cell_type": "code",
   "execution_count": 61,
   "source": [
    "random.randrange(start = 1, stop = 11)"
   ],
   "outputs": [
    {
     "output_type": "execute_result",
     "data": {
      "text/plain": [
       "1"
      ]
     },
     "metadata": {},
     "execution_count": 61
    }
   ],
   "metadata": {}
  },
  {
   "cell_type": "markdown",
   "source": [
    "Wenn wir auf diese Weise mit `randrange()` immer wieder neue Zufallszahlen generieren fällt auf, dass die Verteilung der Zahlen ziemlich gleichmässig ist. Es ist also gleich wahrscheinlich eine 9 zu bekommen eine eine 1 oder eine 5. Die Zahlen kommen also aus einer \"uniformen\" Verteilung. Um dies zu verdeutlichen generiere ich in den folgenden Codezeilen 100 Zufallszahlen zwischen 1 und 9 mit der Funktion `randrange` und visualisiere die Häufigkeit der einzelnen Zahlen in einem Histogramm. "
   ],
   "metadata": {}
  },
  {
   "cell_type": "code",
   "execution_count": 62,
   "source": [
    "from matplotlib import pyplot as plt\n",
    "\n",
    "fig, ax = plt.subplots() \n",
    "a = [random.randrange(1, 10) for x in range(0,100)]\n",
    "\n",
    "plt.hist(a, bins = range(1, 11), edgecolor = \"black\", align = \"left\")\n",
    "plt.xticks(range(1, 10))\n",
    "plt.yticks(range(0, 20, 2))\n",
    "plt.xlabel(\"Zufallszahl\")\n",
    "plt.ylabel(\"Häufigkeit\")\n",
    "plt.show()\n",
    "\n"
   ],
   "outputs": [
    {
     "output_type": "display_data",
     "data": {
      "image/png": "[encoded data removed]",
      "text/plain": [
       "<Figure size 432x288 with 1 Axes>"
      ]
     },
     "metadata": {
      "needs_background": "light"
     }
    }
   ],
   "metadata": {}
  },
  {
   "cell_type": "markdown",
   "source": [
    "Die Funktion `randrange()` generiert nur ganzzahlige Zufallszahlen. Wenn wir aber eine Zufallszahl mit Nachkommastellen braucen, verwenden wir die Funktion `uniform()`. \n",
    "\n",
    "Um Zufallszahlen aus einer \"Normalverteilung\" zu erhalten, verwenden wir die Funktion `normalvariate`. Hier müssen wir den Mittelwert und die Standartabweichung dieser Verteilung angeben. Tatsächlich können wir bei dieser Variante keine Minimum- und Maximumwerte festlegen: Theoretisch könnte der Generator jeden erdenklichen Zahlenwert rausspucken, am wahrscheinlichsten ist jedoch eine Zahl nahe am angegebenen Mittelwert."
   ],
   "metadata": {}
  },
  {
   "cell_type": "code",
   "execution_count": 63,
   "source": [
    "# mu = Mittelwert, sigma = Standartabweichung\n",
    "random.normalvariate(mu = 5, sigma = 2)"
   ],
   "outputs": [
    {
     "output_type": "execute_result",
     "data": {
      "text/plain": [
       "2.6231634045105694"
      ]
     },
     "metadata": {},
     "execution_count": 63
    }
   ],
   "metadata": {}
  },
  {
   "cell_type": "markdown",
   "source": [
    "Wenn wir die obige Funktion 10'000x laufen lassen und uns das Histogramm der generierten Zahlen anschauen, dann zeichnet sich folgendes Bild ab. "
   ],
   "metadata": {}
  },
  {
   "cell_type": "code",
   "execution_count": 64,
   "source": [
    "fig, ax = plt.subplots() \n",
    "a = [random.normalvariate(5,2) for x in range(10000)]\n",
    "\n",
    "plt.hist(a, bins = 30)\n",
    "plt.xlabel(\"Zufallszahl\")\n",
    "plt.ylabel(\"Häufigkeit\")\n",
    "plt.show()"
   ],
   "outputs": [
    {
     "output_type": "display_data",
     "data": {
      "image/png": "[encoded data removed]",
      "text/plain": [
       "<Figure size 432x288 with 1 Axes>"
      ]
     },
     "metadata": {
      "needs_background": "light"
     }
    }
   ],
   "metadata": {
    "tags": [
     "remove-input"
    ]
   }
  },
  {
   "cell_type": "markdown",
   "source": [
    "## Übungen\n",
    "\n",
    "Nun wollen wir diesen Zufallszahlengenerator `random` nutzen um eine Funktion zu entwickeln, welche einen beliebigen Punkt (mit einer x-/y-Koordinate) zufällig in einem definierten Umkreis verschiebt. Unser Fernziel ist es, den simulierten Datensatz aus  \"Datenqualität und Unsicherheit\" zu rekonstruieren (siehe unten). Der erste Schritt dorthin ist es, einen gemeldeten Punkt (rot in {numref}`arcgiszecken`) in einem definierten Umkreis zu verschieben.\n",
    "\n",
    "(arcgiszecken)=\n",
    "```{figure} figures/arcgiszecken.jpg\n",
    "Ausschnitt der simulierten Zeckenstiche. Der rote Punkt stellt jeweils der gemeldete Zeckenstich dar, die blaue Punktwolke drum herum sind simulierte Punkte welche die Ungenauigkeit der Daten wiederspiegelt.\n",
    "```\n",
    "\n",
    "Das Ziel dieser Übung ist es also, dass wir eine Funktion entwickeln, die uns einen zufälligen Punkt in der Nähe eines Ursprungspunktes vorschlägt. Unser Vorgehen: Wir addieren jedem Koordinatenwert (`x`/`y`) des Ursprungspunktes einen Zufallswert, zum Beispiel zwischen -100 bis +100.\n"
   ],
   "metadata": {}
  },
  {
   "cell_type": "markdown",
   "source": [
    "% Zufallszahlen aus Uniformverteilung\n",
    "### Übung 8.1\n",
    "\n",
    "Bevor wir mit Koordinaten arbeiten wollt ihr euch zuerst mit dem Modul `random` vertraut machen. Importiere das Modul `random` und generiere eine Zufallszahl zwischen -100 und +100 aus einer uniformen Verteilung sowie aus einer Normalverteilung mit Mittelwert 100 und Standartabweichung 20."
   ],
   "metadata": {}
  },
  {
   "cell_type": "code",
   "execution_count": 65,
   "source": [
    "# Musterlösung\n",
    "\n",
    "import random\n",
    "\n",
    "random.uniform(-100,100)\n",
    "\n",
    "random.normalvariate(100,20)"
   ],
   "outputs": [
    {
     "output_type": "execute_result",
     "data": {
      "text/plain": [
       "105.15246738773395"
      ]
     },
     "metadata": {},
     "execution_count": 65
    }
   ],
   "metadata": {
    "tags": [
     "remove-cell"
    ]
   }
  },
  {
   "cell_type": "markdown",
   "source": [
    "% Dummykoordinaten erstellen\n",
    "### Übung 8.2\n",
    "\n",
    "Nun wollen wir uns den Koordinaten zuwenden. Erstelle als erstes zwei Dummykoordinaten `x_start` und `y_start` mit jeweils dem Wert `0`. Diese sollen als \"Ursprungskoordinaten\" dienen.\n"
   ],
   "metadata": {}
  },
  {
   "cell_type": "code",
   "execution_count": 66,
   "source": [
    "# Musterlösung\n",
    "\n",
    "x_start = 0\n",
    "y_start = 0"
   ],
   "outputs": [],
   "metadata": {
    "tags": [
     "remove-cell"
    ]
   }
  },
  {
   "cell_type": "markdown",
   "source": [
    "% : Zufallswerte generieren\n",
    "### Übung 8.3\n",
    "\n",
    "Generiere nun eine Zufallszahl, die aus einer Normalverteilung stammt und die *in etwa* zwischen -100 und +100 liegt. Weise diese Zahl der Variabel `x_offset` zu.\n",
    "Generiere danach eine zweite Zufallszahl (auf die gleiche Art) und weise diese `y_offset` zu.\n",
    "\n",
    "\n",
    "````{tip}\n",
    ":class: dropdown\n",
    "Überlege dir, welcher *Mittelwert* Sinn macht um Werte zwischen -100 und +100 zu bekommen. Welche Zahl liegt zwischen -100 und +100?\n",
    "\n",
    "Überlege dir als nächstes, welche Standartabweichung sinnvoll wäre. Zur Erinnerung: Etwa 68% der Werte liegen inerhalb von +/- 1 Standartabweichung (SD), 95% innerhalb von +/- 2 SD, 99% innerhalb von 3 SD (siehe unten):\n",
    "\n",
    "\n",
    "```{figure} figures/normalverteilung.jpg\n",
    "Normalverteilung und die Anteile innerhalb von 1 Standartabweichung (Mittelwert $\\mu$ minus Standartabweichung $\\sigma$), 2 Standartabweichungen ($\\mu - 2\\times\\sigma)$ und 2 Standartabweichungen ($\\mu - 3\\times\\sigma)$. Quelle: [cobocards](https://www.cobocards.com/)\n",
    "```\n",
    "````"
   ],
   "metadata": {}
  },
  {
   "cell_type": "code",
   "execution_count": 67,
   "source": [
    "# Musterlösung\n",
    "\n",
    "# Normalverteilte Werte mit Mittelwert 0 und Standartabweichung 100  \n",
    "# Achtung: bei dieser Standartabweichung sind ca 30% der Werte > 100!\n",
    "x_offset = random.normalvariate(0,100)\n",
    "y_offset = random.normalvariate(0,100)\n",
    "\n",
    "x_offset\n",
    "y_offset"
   ],
   "outputs": [
    {
     "output_type": "execute_result",
     "data": {
      "text/plain": [
       "-49.84550284501804"
      ]
     },
     "metadata": {},
     "execution_count": 67
    }
   ],
   "metadata": {
    "tags": [
     "remove-cell"
    ]
   }
  },
  {
   "cell_type": "markdown",
   "source": [
    "% : Zufallswerte addieren\n",
    "### Übung 8.4\n",
    "\n",
    "Addiere nun die Zufallszahlen `x_offset` und `y_offset` **jeweils** zu den Dummykoordinaten `x_start` und `y_start` und weise diese neuen Koordinaten `x_neu` und `y_neu` zu. Die neuen Werte stellen die leicht verschobenen Ursprungskoordinaten dar. In meinem Fall sind diese um 10.2 Meter nach Osten (positiver Wert) bzw. 4.4 Meter nach Süden (negativer Wert) verschoben worden."
   ],
   "metadata": {}
  },
  {
   "cell_type": "code",
   "execution_count": 68,
   "source": [
    "x_offset = 10.246170309600945\n",
    "y_offset = -4.443904000288846"
   ],
   "outputs": [],
   "metadata": {
    "tags": [
     "remove-cell"
    ]
   }
  },
  {
   "cell_type": "code",
   "execution_count": 69,
   "source": [
    "# Musterlösung\n",
    "\n",
    "x_neu = x_start+x_offset\n",
    "y_neu = y_start+y_offset"
   ],
   "outputs": [],
   "metadata": {
    "tags": [
     "remove-cell"
    ]
   }
  },
  {
   "cell_type": "code",
   "execution_count": 70,
   "source": [
    "x_neu"
   ],
   "outputs": [
    {
     "output_type": "execute_result",
     "data": {
      "text/plain": [
       "10.246170309600945"
      ]
     },
     "metadata": {},
     "execution_count": 70
    }
   ],
   "metadata": {}
  },
  {
   "cell_type": "code",
   "execution_count": 71,
   "source": [
    "y_neu"
   ],
   "outputs": [
    {
     "output_type": "execute_result",
     "data": {
      "text/plain": [
       "-4.443904000288846"
      ]
     },
     "metadata": {},
     "execution_count": 71
    }
   ],
   "metadata": {}
  },
  {
   "cell_type": "markdown",
   "source": [
    "Visuell betrachtet sieht das folgendermassen aus:"
   ],
   "metadata": {}
  },
  {
   "cell_type": "code",
   "execution_count": 72,
   "source": [
    "from matplotlib import pyplot as plt \n",
    "import pandas as pd\n",
    "\n",
    "\n",
    "plt.scatter(x_start,y_start, color = \"red\") # ursprung\n",
    "plt.scatter(x_neu,y_neu, color = \"blue\")    # neu\n",
    "\n",
    "plt.axis(\"scaled\")\n",
    "plt.gca().set_xlim([-100,100])\n",
    "plt.gca().set_ylim([-100,100])\n",
    "\n"
   ],
   "outputs": [
    {
     "output_type": "execute_result",
     "data": {
      "text/plain": [
       "(-100.0, 100.0)"
      ]
     },
     "metadata": {},
     "execution_count": 72
    },
    {
     "output_type": "display_data",
     "data": {
      "image/png": "[encoded data removed]",
      "text/plain": [
       "<Figure size 432x288 with 1 Axes>"
      ]
     },
     "metadata": {
      "needs_background": "light"
     }
    }
   ],
   "metadata": {}
  },
  {
   "cell_type": "markdown",
   "source": [
    "% : Arbeitsschritte in eine *Function* verwandeln\n",
    "(ex-offset-function)=\n",
    "### Übung 8.5\n",
    "\n",
    "Nun haben wir das zufällige Verschieben eines Einzelpunktes am Beispiel einer Dummykoordinaten (`0`/`0`) durchgespielt. In der nächsten Aufgabe ({ref}`chap-offset-dataframe`) werden wir *alle* unsere Zeckenstichkoordinaten auf diese Weise zufällig verschieben um einen Simulierten Zeckenstichdatensatz ähnlich wie {numref}`arcgiszecken` zu erhalten. \n",
    "\n",
    "Dafür brauchen wir die eben erarbeiteten Einzelschritte als Funktion, um diese auf alle Zeckenstiche anwenden zu können. **Erstelle jetzt eine Funktion namens `offset_coordinate` welche als Input eine `x` oder `y`-Achsenwert annimmt und eine leicht verschobene Wert zurück gibt.** Integriere die Standartabweichung der Verteilung als optionalen Parameter mit einem Standartwert von 100."
   ],
   "metadata": {}
  },
  {
   "cell_type": "code",
   "execution_count": 73,
   "source": [
    "# Musterlösung\n",
    "\n",
    "def offset_coordinate(old, distance = 100):\n",
    "    new = old + random.normalvariate(0,distance)\n",
    "\n",
    "    return new\n",
    "\n",
    "\n",
    "offset_coordinate(x_start, 100)"
   ],
   "outputs": [
    {
     "output_type": "execute_result",
     "data": {
      "text/plain": [
       "16.79159802370436"
      ]
     },
     "metadata": {},
     "execution_count": 73
    }
   ],
   "metadata": {
    "tags": [
     "remove-cell"
    ]
   }
  },
  {
   "cell_type": "markdown",
   "source": [
    "% : Output visualisieren\n",
    "(offset-vis)=\n",
    "### Übung 8.6\n",
    "\n",
    "Nun ist es wichtig, dass wir unser Resultat visuell überprüfen. Im Beispiel unten wende ich die in der letzten Übung erstellte Funktion `offset_coordinate()` 1'000x auf die Dummykoordinate an. Nutze *deine* Funktion `offset_coordinate` um eine Visualisierung gemäss unten stehendem beispiel zu machen."
   ],
   "metadata": {}
  },
  {
   "cell_type": "code",
   "execution_count": 76,
   "source": [
    "from matplotlib import pyplot as plt \n",
    "\n",
    "x_neu_list = [offset_coordinate(x_start, 100) for i in range(1,1000)]\n",
    "y_neu_list = [offset_coordinate(y_start, 100) for i in range(1,1000)]\n",
    "\n",
    "fig = plt.scatter(x_neu_list,y_neu_list)\n",
    "\n",
    "plt.axis(\"scaled\")\n",
    "\n",
    "plt.show()"
   ],
   "outputs": [
    {
     "output_type": "display_data",
     "data": {
      "image/png": "[encoded data removed]",
      "text/plain": [
       "<Figure size 432x288 with 1 Axes>"
      ]
     },
     "metadata": {
      "needs_background": "light"
     }
    }
   ],
   "metadata": {}
  }
 ],
 "metadata": {
  "kernelspec": {
   "name": "python3",
   "display_name": "Python 3.8.10 64-bit"
  },
  "language_info": {
   "codemirror_mode": {
    "name": "ipython",
    "version": 3
   },
   "file_extension": ".py",
   "mimetype": "text/x-python",
   "name": "python",
   "nbconvert_exporter": "python",
   "pygments_lexer": "ipython3",
   "version": "3.8.10"
  },
  "interpreter": {
   "hash": "916dbcbb3f70747c44a77c7bcd40155683ae19c65e1c03b4aa3499c5328201f1"
  }
 },
 "nbformat": 4,
 "nbformat_minor": 4
}