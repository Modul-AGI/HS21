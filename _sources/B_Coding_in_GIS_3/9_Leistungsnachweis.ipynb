{
 "cells": [
  {
   "cell_type": "markdown",
   "metadata": {},
   "source": [
    "# Leistungsnachweis\n",
    "\n",
    "Für den Leistungsnachweis von *Coding in GIS* werden wir der Anteil der Zeckenstiche im Wald unter der Berücksichtigung der Unsicherheit mit einer Monte Carlo Simulation ermitteln. Verbinde dafür dein Wissen über das Simulieren von Zeckensichmeldungen ({ref}`chap-offset-dataframe`) mit deinem Wissen über `for loops` ({ref}`forloops-2`\n",
    " und {ref}`forloops-3`) um den Anteil der Zeckenstiche im Wald für diese Simulierten Punkte zu berechnen. \n",
    " \n",
    "\n",
    "\n",
    "## Ziel\n",
    "\n",
    "Beantwortung der Frage \"*Welcher Anteil der Zeckenstiche befinden sich im Wald*\" unter besonderer Berücksichtigung der Datenungenauigkeit.\n",
    "\n",
    "## Inhalt\n",
    "\n",
    "Führe die Analyse folgendermassen durch:\n",
    "\n",
    "- mit dem **ganzen** Datensatz `zeckenstiche_full.csv` (1'076 Meldungen, siehe {numref}`table-datensaetze`)\n",
    "- mit mindestens 50 Iterationen\n",
    "- mit drei verschiedenen Distanz-Werten (`distance =` in {ref}`ex-offset-function`). \n",
    "\n",
    "Visualisiere für jeden Distanzwert die Verteilung der Anteile (z.B: mittels einem Boxplot)\n",
    "\n",
    "## Struktur\n",
    "\n",
    "Führe die Datenanalyse durch, indem du Python Code mit Markdown Text ergänzt. \n",
    "\n",
    "Strukturiere den Bericht **mithilfe von Markdown** in folgende Unterkapitel\n",
    "\n",
    "- Einleitung\n",
    "- Material & Methoden\n",
    "- Resultate\n",
    "- Diskussion\"\n",
    "\n",
    "Sorge dafür, dass der Bericht sauber und ordentlich daher kommt (vermeide zum Beispiel lange Python Messages im Bericht).\n",
    "\n",
    "## Abgabeformat\n",
    "\n",
    "Ein html Export des Jupyter-Notebook Files (via *File > Export Notebook as > Export Notebook to html*). **Wichtig:** Zuerst alle Zellen ausführen (*Run > Run all cells*)\n",
    "\n",
    " "
   ]
  },
  {
   "cell_type": "markdown",
   "metadata": {
    "tags": [
     "remove-cell"
    ]
   },
   "source": [
    "- **Ziel**: Beantwortung der Frage \"*Welcher Anteil der Zeckenstiche befinden sich im Wald*\" unter besonderer Berücksichtigung der Datenungenauigkeit.\n",
    "- **Inhalt**: Inhalt ist gegeben durch sowie der [Zusatzaufträge](chap-abgabe-zusatz)\n",
    "- **Struktur**: Führt die Datenanlyse durch, indem ihr den Python Code mit Markdown Text unterstützt. Beschreibt und begründet eure Analyseschritte und wie die Resultate zu interpetieren sind. Der Fokus soll auf der technischen Umsetzung liegen, nicht auf der Interpretation der Resultate.\n",
    "- **Abgabe**: \n",
    "  - Ein Jupyter-Notebook-File (\\*.ipynb) **und**\n",
    "  - Ein html-Export des Jupyter-Notebook Files:\n",
    "      - **Wichtig:** Zuerst alle Zellen ausführen (*Run > Run all cells*)\n",
    "      - Export via *File > Export Notebook as > Export Notebook to html*\n",
    "\n",
    "Um diese Komplexe Aufgabe lösen zu können müssen wir sie in Teilaufgaben zerlegen. Wir haben in den drei Blöcken (*Coding in GIS I - III*) darauf hingearbeitet, alle Voraussetzungen zur Lösung dieser Teilaufgaben zu erfüllen. Siehe dazu die nachstehende Tabelle:\n",
    "\n",
    "```{list-table} Teilaufgaben für das Lösen der Monte Carlo Simulation\n",
    ":header-rows: 1\n",
    ":name: monte-carlo-workflow\n",
    "\n",
    "* - Teilaufgabe\n",
    "  - Status\n",
    "  - Voraussetzung\n",
    "* - Einen Einzelpunkt zufällig verschieben\n",
    "  - ✓ haben wir in {ref}`ex-offset-function` gelöst \n",
    "  - {ref}`function-basics` und {ref}`function-advanced`\n",
    "* - Alle Punkte einer DataFrame zufällig verschieben\n",
    "  - ✓ haben wir in {ref}`ex-apply` gelöst\n",
    "  - {ref}`chap-random-numbers` und {ref}`chap-offset-dataframe`\n",
    "* - Wiederholung von Schritt 2 (zum Beispiel 50-mal)\n",
    "  - ✓ haben wir in {ref}`chap-simulation` gelöst\n",
    "  - {ref}`forloops-1` und {ref}`forloops-2`\n",
    "* - Für jeden simulierten Punkt ermitteln, ob er sich im Wald / ausserhalb des Waldes befindet\n",
    "  - ✓ haben wir in {ref}`ex-spatialjoin` gelöst\n",
    "  - {ref}`chap-pythongis`\n",
    "* - Anteil der Punkte im Wald pro Run ermitteln\n",
    "  - werden wir in {ref}`ex-groupby` lösen\n",
    "  - Coding in GIS I - III\n",
    "```\n",
    "\n",
    "\n",
    "```{tip}\n",
    ":class: dropdown\n",
    "\n",
    "**Für Profis**: Statt das ihr den *For Loop* 3x kopiert könnt ihr auch einen verschachtelten *For Loop* konstuieren, wo der äussere *Loop* über die Radien iteriert, der innere besteht aus dem bisherigen *For Loop*. Wichtig dabei ist, dass die Liste `monte_carlo` vor dem äusseren Loop kontruiert wird und im DataFrame jeweils gespeichert wird, was für ein Radius verwendet wurde. Diese Spalte kann danach in `groupby` wie auch bei `.boxplot()` verwendet werden (siehe unten).\n",
    "```"
   ]
  },
  {
   "cell_type": "markdown",
   "metadata": {
    "tags": []
   },
   "source": []
  }
 ],
 "metadata": {
  "kernelspec": {
   "display_name": "Python 3 (ipykernel)",
   "language": "python",
   "name": "python3"
  },
  "language_info": {
   "codemirror_mode": {
    "name": "ipython",
    "version": 3
   },
   "file_extension": ".py",
   "mimetype": "text/x-python",
   "name": "python",
   "nbconvert_exporter": "python",
   "pygments_lexer": "ipython3",
   "version": "3.8.10"
  }
 },
 "nbformat": 4,
 "nbformat_minor": 4
}
