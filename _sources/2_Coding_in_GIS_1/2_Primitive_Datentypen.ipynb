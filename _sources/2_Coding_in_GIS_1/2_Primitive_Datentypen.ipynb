{
 "cells": [
  {
   "cell_type": "markdown",
   "source": [
    "# Aufgabe 1: Primitive Datentypen\n",
    "\n",
    "## Theorie\n",
    "\n",
    "Bei primitiven Datentypen handelt es sich um die kleinste Einheit der Programmiersprache, sie werden deshalb auch \"atomare Datentypen\" genannt. Alle komplexeren Datentypen (Tabellarische Daten, Bilder, Geodaten) basieren auf diesen einfachen Strukturen. Die für uns wichtigsten Datentypen lauten: *Boolean*, *String*, *Integer* und *Float*. Das sind ähnliche Datentypen wie ihr bereits aus R kennt:\n",
    "\n",
    "````{list-table}\n",
    ":header-rows: 1\n",
    "\n",
    "* - Python\n",
    "  - R\n",
    "  - Beschreibung\n",
    "  - Beispiel\n",
    "  - in Python\n",
    "* - Boolean\n",
    "  - Logical\n",
    "  - Logische Werte ja / nein\n",
    "  - Wahr / Falsch\n",
    "  - ```python\n",
    "    regen = True\n",
    "    ```\n",
    "* - String\n",
    "  - Character\n",
    "  - Textinformation\n",
    "  - Bern, Luzern\n",
    "  - ```python\n",
    "    stadt = \"Bern\"\n",
    "    ```\n",
    "* - Integer\n",
    "  - Integer\n",
    "  - Zahl ohne Nachkommastelle\n",
    "  - Anzahl Einwohner\n",
    "  - ```python\n",
    "    bern = 133115\n",
    "    ```\n",
    "* - Float\n",
    "  - Double\n",
    "  - Zahl mit Nachkommastelle\n",
    "  - Temperatur\n",
    "  - ```python\n",
    "    temp = 22.5\n",
    "    ```\n",
    "````"
   ],
   "metadata": {}
  },
  {
   "cell_type": "markdown",
   "source": [
    "### Boolean\n",
    "\n",
    "Hierbei handelt es sich um den einfachsten Datentyp. Er beinhaltet nur zwei Zustände: Wahr oder Falsch. In Python werden diese mit `True` oder `False` definiert (diese Schreibweise muss genau beachtet werden). Beispielsweise sind das Antworten auf geschlossene Fragen.\n"
   ],
   "metadata": {}
  },
  {
   "cell_type": "code",
   "execution_count": 2,
   "source": [
    "regen = True # \"es regnet\"\n",
    "\n",
    "sonne = False # \"die Sonne scheint nicht\"\n",
    "\n",
    "type(sonne)"
   ],
   "outputs": [
    {
     "output_type": "execute_result",
     "data": {
      "text/plain": [
       "bool"
      ]
     },
     "metadata": {},
     "execution_count": 2
    }
   ],
   "metadata": {}
  },
  {
   "cell_type": "markdown",
   "source": [
    "Um zu prüfen, ob ein bestimmter Wert `True` oder `False` ist verwendet man `is True`. Will man also fragen ob es regnet, wir dies folgendermassen formuliert:"
   ],
   "metadata": {}
  },
  {
   "cell_type": "code",
   "execution_count": 21,
   "source": [
    "# regnet es?\n",
    "regen is True"
   ],
   "outputs": [
    {
     "output_type": "execute_result",
     "data": {
      "text/plain": [
       "True"
      ]
     },
     "metadata": {},
     "execution_count": 21
    }
   ],
   "metadata": {}
  },
  {
   "cell_type": "markdown",
   "source": [
    "Ob die Sonne scheint, lautet folgendermassen (natürlich müssen dazu die Variabel `sonne` bereits existieren):"
   ],
   "metadata": {}
  },
  {
   "cell_type": "code",
   "execution_count": 4,
   "source": [
    "# scheint die Sonne?\n",
    "sonne is True"
   ],
   "outputs": [
    {
     "output_type": "execute_result",
     "data": {
      "text/plain": [
       "False"
      ]
     },
     "metadata": {},
     "execution_count": 4
    }
   ],
   "metadata": {}
  },
  {
   "cell_type": "markdown",
   "source": [
    "### String\n",
    "\n",
    "In sogenannten *Strings* werden Textinformationen gespeichert. Beispielsweise können das die Namen von Ortschaften sein."
   ],
   "metadata": {}
  },
  {
   "cell_type": "code",
   "execution_count": 5,
   "source": [
    "stadt = \"Bern\"\n",
    "land = \"Schweiz\"\n",
    "\n",
    "type(stadt)"
   ],
   "outputs": [],
   "metadata": {}
  },
  {
   "cell_type": "markdown",
   "source": [
    "Strings können mit `+` miteinander verbunden werden"
   ],
   "metadata": {}
  },
  {
   "cell_type": "code",
   "execution_count": 7,
   "source": [
    "stadt + \" ist die Hauptstadt der \" + land"
   ],
   "outputs": [
    {
     "output_type": "execute_result",
     "data": {
      "text/plain": [
       "'Bern ist die Hauptstadt der Schweiz'"
      ]
     },
     "metadata": {},
     "execution_count": 7
    }
   ],
   "metadata": {}
  },
  {
   "cell_type": "markdown",
   "source": [
    "### Integer\n",
    "\n",
    "In *Integer* werden ganzzahlige Werte gespeichert, beispielsweise die Anzahl Einwohner einer Stadt. "
   ],
   "metadata": {}
  },
  {
   "cell_type": "code",
   "execution_count": 8,
   "source": [
    "bern_einwohner = 133115\n",
    "\n",
    "type(bern_einwohner)"
   ],
   "outputs": [],
   "metadata": {}
  },
  {
   "cell_type": "markdown",
   "source": [
    "### Float\n",
    "\n",
    "Als `Float` werden Zahlen mit Nachkommastellen gespeichert, wie zum Beispiel die Temperatur in Grad Celsius."
   ],
   "metadata": {}
  },
  {
   "cell_type": "code",
   "execution_count": 10,
   "source": [
    "bern_flaeche = 51.62\n",
    "\n",
    "type(bern_flaeche)"
   ],
   "outputs": [],
   "metadata": {}
  },
  {
   "cell_type": "markdown",
   "source": [
    "## Übungen\n",
    "\n",
    "Bei primitiven Datentypen handelt es sich um die kleinste Einheit der Programmiersprache, sie werden deshalb auch \"atomare Datentypen\" genannt. Alle komplexeren Datentypen (Tabellarische Daten, Bilder, Geodaten) basieren auf diesen einfachen Strukturen. Die für uns wichtigsten Datentypen lauten: *Boolean*, *String*, *Integer* und *Float*. Das sind ähnliche Datentypen wie ihr bereits aus R kennt:\n",
    "\n",
    "````{list-table}\n",
    ":header-rows: 1\n",
    "\n",
    "* - Python\n",
    "  - R\n",
    "  - Beschreibung\n",
    "  - Beispiel\n",
    "  - in Python\n",
    "* - Boolean\n",
    "  - Logical\n",
    "  - Logische Werte ja / nein\n",
    "  - Wahr / Falsch\n",
    "  - ```python\n",
    "    regen = True\n",
    "    ```\n",
    "* - String\n",
    "  - Character\n",
    "  - Textinformation\n",
    "  - Bern, Luzern\n",
    "  - ```python\n",
    "    stadt = \"Bern\"\n",
    "    ```\n",
    "* - Integer\n",
    "  - Integer\n",
    "  - Zahl ohne Nachkommastelle\n",
    "  - Anzahl Einwohner\n",
    "  - ```python\n",
    "    bern = 133115\n",
    "    ```\n",
    "* - Float\n",
    "  - Double\n",
    "  - Zahl mit Nachkommastelle\n",
    "  - Temperatur\n",
    "  - ```python\n",
    "    temp = 22.5\n",
    "    ```\n",
    "````"
   ],
   "metadata": {}
  },
  {
   "cell_type": "markdown",
   "source": [
    "### Boolean\n",
    "\n",
    "Hierbei handelt es sich um den einfachsten Datentyp. Er beinhaltet nur zwei Zustände: Wahr oder Falsch. In Python werden diese mit `True` oder `False` definiert (diese Schreibweise muss genau beachtet werden). Beispielsweise sind das Antworten auf geschlossene Fragen.\n"
   ],
   "metadata": {}
  },
  {
   "cell_type": "code",
   "execution_count": 2,
   "source": [
    "regen = True # \"es regnet\"\n",
    "\n",
    "sonne = False # \"die Sonne scheint nicht\"\n",
    "\n",
    "type(sonne)"
   ],
   "outputs": [
    {
     "output_type": "execute_result",
     "data": {
      "text/plain": [
       "bool"
      ]
     },
     "metadata": {},
     "execution_count": 2
    }
   ],
   "metadata": {}
  },
  {
   "cell_type": "markdown",
   "source": [
    "Um zu prüfen, ob ein bestimmter Wert `True` oder `False` ist verwendet man `is True`. Will man also fragen ob es regnet, wir dies folgendermassen formuliert:"
   ],
   "metadata": {}
  },
  {
   "cell_type": "code",
   "execution_count": 21,
   "source": [
    "# regnet es?\n",
    "regen is True"
   ],
   "outputs": [
    {
     "output_type": "execute_result",
     "data": {
      "text/plain": [
       "True"
      ]
     },
     "metadata": {},
     "execution_count": 21
    }
   ],
   "metadata": {}
  },
  {
   "cell_type": "markdown",
   "source": [
    "Ob die Sonne scheint, lautet folgendermassen (natürlich müssen dazu die Variabel `sonne` bereits existieren):"
   ],
   "metadata": {}
  },
  {
   "cell_type": "code",
   "execution_count": 4,
   "source": [
    "# scheint die Sonne?\n",
    "sonne is True"
   ],
   "outputs": [
    {
     "output_type": "execute_result",
     "data": {
      "text/plain": [
       "False"
      ]
     },
     "metadata": {},
     "execution_count": 4
    }
   ],
   "metadata": {}
  },
  {
   "cell_type": "markdown",
   "source": [
    "### String\n",
    "\n",
    "In sogenannten *Strings* werden Textinformationen gespeichert. Beispielsweise können das die Namen von Ortschaften sein."
   ],
   "metadata": {}
  },
  {
   "cell_type": "code",
   "execution_count": 5,
   "source": [
    "stadt = \"Bern\"\n",
    "land = \"Schweiz\"\n",
    "\n",
    "type(stadt)"
   ],
   "outputs": [],
   "metadata": {}
  },
  {
   "cell_type": "markdown",
   "source": [
    "Strings können mit `+` miteinander verbunden werden"
   ],
   "metadata": {}
  },
  {
   "cell_type": "code",
   "execution_count": 7,
   "source": [
    "stadt + \" ist die Hauptstadt der \" + land"
   ],
   "outputs": [
    {
     "output_type": "execute_result",
     "data": {
      "text/plain": [
       "'Bern ist die Hauptstadt der Schweiz'"
      ]
     },
     "metadata": {},
     "execution_count": 7
    }
   ],
   "metadata": {}
  },
  {
   "cell_type": "markdown",
   "source": [
    "### Integer\n",
    "\n",
    "In *Integer* werden ganzzahlige Werte gespeichert, beispielsweise die Anzahl Einwohner einer Stadt. "
   ],
   "metadata": {}
  },
  {
   "cell_type": "code",
   "execution_count": 8,
   "source": [
    "bern_einwohner = 133115\n",
    "\n",
    "type(bern_einwohner)"
   ],
   "outputs": [],
   "metadata": {}
  },
  {
   "cell_type": "markdown",
   "source": [
    "### Float\n",
    "\n",
    "Als `Float` werden Zahlen mit Nachkommastellen gespeichert, wie zum Beispiel die Temperatur in Grad Celsius."
   ],
   "metadata": {}
  },
  {
   "cell_type": "code",
   "execution_count": 10,
   "source": [
    "bern_flaeche = 51.62\n",
    "\n",
    "type(bern_flaeche)"
   ],
   "outputs": [],
   "metadata": {}
  },
  {
   "cell_type": "markdown",
   "source": [
    "## Übungen\n",
    "\n",
    "% Variablen erstellen\n",
    "### Übung 1.1\n",
    "\n",
    "Erstelle eine Variabel `vorname` mit deinem Vornamen und eine zweite Variabel `nachname` mit deinem Nachnamen.  Was sind `vorname` und `nachname` für Datentypen?\n",
    "\n"
   ],
   "metadata": {}
  },
  {
   "cell_type": "code",
   "execution_count": 12,
   "source": [
    "# Musterlösung\n",
    "\n",
    "vorname = \"Guido\"\n",
    "nachname = \"van Rossum\"\n",
    "\n",
    "type(vorname) # es handelt sich um den Datentyp \"str\", also String (Text)\n"
   ],
   "outputs": [
    {
     "output_type": "execute_result",
     "data": {
      "text/plain": [
       "str"
      ]
     },
     "metadata": {},
     "execution_count": 12
    }
   ],
   "metadata": {
    "tags": [
     "hide-cell"
    ]
   }
  },
  {
   "cell_type": "markdown",
   "source": [
    "% : String verbinden\n",
    "### Übung 1.2\n",
    "\n",
    "\"Klebe\" Vor- und Nachname mit einem Leerschlag dazwischen zusammen."
   ],
   "metadata": {}
  },
  {
   "cell_type": "code",
   "execution_count": 13,
   "source": [
    "# Musterlösung\n",
    "\n",
    "vorname+\" \"+nachname"
   ],
   "outputs": [
    {
     "output_type": "execute_result",
     "data": {
      "text/plain": [
       "'Guido van Rossum'"
      ]
     },
     "metadata": {},
     "execution_count": 13
    }
   ],
   "metadata": {
    "tags": [
     "hide-cell"
    ]
   }
  },
  {
   "cell_type": "markdown",
   "source": [
    "% : Zahl ohne Nachkommastelle\n",
    "### Übung 1.3\n",
    "\n",
    "Erstelle eine Variabel `groesse_cm` mit deiner Körpergrösse in Zentimeter. Was ist das für ein Datentyp?"
   ],
   "metadata": {}
  },
  {
   "cell_type": "code",
   "execution_count": 14,
   "source": [
    "# Musterlösung\n",
    "\n",
    "groesse_cm = 184\n",
    "type(groesse_cm) # es handelt sich hierbei um den Datentyp \"integer\""
   ],
   "outputs": [
    {
     "output_type": "execute_result",
     "data": {
      "text/plain": [
       "int"
      ]
     },
     "metadata": {},
     "execution_count": 14
    }
   ],
   "metadata": {
    "tags": [
     "hide-cell"
    ]
   }
  },
  {
   "cell_type": "markdown",
   "source": [
    "% : Zahl mit Nachkommastelle\n",
    "### Übung 1.4\n",
    "\n",
    "Ermittle deine Grösse in Fuss auf der Basis von `groesse_cm` (1 Fuss entspricht 30.48 cm). Was ist das für ein Datentyp?\n"
   ],
   "metadata": {}
  },
  {
   "cell_type": "code",
   "execution_count": 15,
   "source": [
    "# Musterlösung\n",
    "\n",
    "groesse_fuss = groesse_cm/30.48\n",
    "type(groesse_fuss) # es handelt sich um den Datentyp \"float\""
   ],
   "outputs": [
    {
     "output_type": "execute_result",
     "data": {
      "text/plain": [
       "float"
      ]
     },
     "metadata": {},
     "execution_count": 15
    }
   ],
   "metadata": {
    "tags": [
     "hide-cell"
    ]
   }
  },
  {
   "cell_type": "markdown",
   "source": [
    "% : Boolsche Variabeln\n",
    "### Übung 1.5\n",
    "\n",
    "Erstelle eine boolsche Variable blond und setzte sie auf `True` wenn diese Eigenschaft auf dich zutrifft und `False` falls nicht. "
   ],
   "metadata": {}
  },
  {
   "cell_type": "code",
   "execution_count": 16,
   "source": [
    "# Musterlösung\n",
    "\n",
    "blond = False"
   ],
   "outputs": [],
   "metadata": {
    "tags": [
     "hide-cell"
    ]
   }
  },
  {
   "cell_type": "markdown",
   "source": [
    "% : Einwohnerdichte\n",
    "### Übung 1.6\n",
    "\n",
    "Erstelle eine Variabel `einwohner` mit der Einwohnerzahl der Schweiz (8'603'900, per31. Dezember 2019). Erstelle eine zweite Variabel `flaeche` (ohne Umlaute!) mit der Flächengrösse der Schweiz (41'285 km$^2$). Berechne nun die Einwohnerdichte."
   ],
   "metadata": {}
  },
  {
   "cell_type": "code",
   "execution_count": 17,
   "source": [
    "# Musterlösung\n",
    "\n",
    "einwohner = 8603900\n",
    "flaeche = 41285\n",
    "\n",
    "dichte = einwohner/flaeche\n",
    "\n",
    "dichte"
   ],
   "outputs": [
    {
     "output_type": "execute_result",
     "data": {
      "text/plain": [
       "208.40256751846917"
      ]
     },
     "metadata": {},
     "execution_count": 17
    }
   ],
   "metadata": {
    "tags": [
     "hide-cell"
    ]
   }
  },
  {
   "cell_type": "markdown",
   "source": [
    "% :  BMI\n",
    "### Übung 1.7\n",
    "\n",
    "Erstelle eine Variabel `gewicht_kg` (kg) und `groesse_cm` (m) und berechne aufgrund von `gewicht_kg` und `groesse_m` ein BodyMassIndex ($BMI=\\frac{m}{l^2}$, $m$: Körpermasse in Kilogramm, $l$: Körpergrösse in Meter)."
   ],
   "metadata": {}
  },
  {
   "cell_type": "code",
   "execution_count": 20,
   "source": [
    "# Musterlösung\n",
    "\n",
    "gewicht_kg = 85\n",
    "groesse_m = groesse_cm/100\n",
    "\n",
    "gewicht_kg/(groesse_m*groesse_m)"
   ],
   "outputs": [
    {
     "output_type": "execute_result",
     "data": {
      "text/plain": [
       "25.10633270321361"
      ]
     },
     "metadata": {},
     "execution_count": 20
    }
   ],
   "metadata": {
    "tags": [
     "hide-cell"
    ]
   }
  }
 ],
 "metadata": {
  "kernelspec": {
   "display_name": "Python 3",
   "language": "python",
   "name": "python3"
  },
  "language_info": {
   "codemirror_mode": {
    "name": "ipython",
    "version": 3
   },
   "file_extension": ".py",
   "mimetype": "text/x-python",
   "name": "python",
   "nbconvert_exporter": "python",
   "pygments_lexer": "ipython3",
   "version": "3.7.8"
  }
 },
 "nbformat": 4,
 "nbformat_minor": 4
}