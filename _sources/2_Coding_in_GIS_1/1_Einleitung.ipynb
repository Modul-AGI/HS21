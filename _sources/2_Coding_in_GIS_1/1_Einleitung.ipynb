{
 "cells": [
  {
   "cell_type": "markdown",
   "source": [
    "(chap-intro-cig1)=\n",
    "# Einleitung"
   ],
   "metadata": {}
  },
  {
   "cell_type": "markdown",
   "source": [
    "In diesem Block bekommt ihr euren ersten Kontakt mit Python und lernt dabei auch gerade Jupyter Notebooks kennen, um mit Python zu interagieren. Er soll einen Einstieg in die Programmierwelt von Python bieten und spezifisch zeigen wie man räumliche Fragestellungen mit frei verfügbarer Software lösen kann. \n",
    "Die Voraussetzung für dieser Kurs ist eine Offenheit, neue Tools und Ansätze kennen zu lernen, die Bereitschaft für lösungorientiertes Arbeiten sowie etwas Hartnäckigkeit. \n",
    "\n",
    "Im Kurs werdet ihr nachstehende Datensätze benötigen, die ihr mittels *Rechtsklick > Speichern unter* bei euch lokal speichern könnt. \n",
    "\n",
    "```{list-table} Datensätze für den Teil \"Coding in GIS I - III\"\n",
    ":header-rows: 1\n",
    ":name: table-datensaetze\n",
    "\n",
    "* - Datensatz (inkl. Link)\n",
    "  - Beschreibung\n",
    "* - [zeckenstiche.csv](https://raw.githubusercontent.com/modul-agi/hs20/master/02_Coding_in_GIS/data/zeckenstiche.csv)\n",
    "  - Eine CSV mit 10 Zeckenstich-Meldungen im Kanton Zürich\n",
    "* - [zeckenstiche_full.csv](https://raw.githubusercontent.com/modul-agi/hs20/master/02_Coding_in_GIS/data/zeckenstiche_full.csv)\n",
    "  - Eine CSV mit 1'076 Zeckenstich-Meldungen im Kanton Zürich\n",
    "* - [wald.gpkg](https://raw.githubusercontent.com/modul-agi/hs20/master/02_Coding_in_GIS/data/wald.gpkg)\n",
    "  - Ein Geodatensatz mit einem flächendeckenden (lückenlosen) Polygon, welche den Kanton Zürich in \"Wald\" und \"nicht Wald\" unterscheidet\n",
    "\n",
    "```\n",
    "\n",
    "\n",
    "\n",
    "```{admonition} Übungsziele\n",
    ":class: attention\n",
    "- JupyterLabs aufstarten, kennenlernen und bei Bedarf personalisieren\n",
    "- Python kennen lernen, erste Interaktionen\n",
    "- Die wichtigsten Datentypen in Python kennen lernen (`bool`, `str`, `int`, `float`, `list`, `dict`)\n",
    "- Pandas DataFrames kennen lernen und einfache Manipulationen durchführen\n",
    "```\n",
    "\n"
   ],
   "metadata": {
    "tags": [
     "admonition"
    ]
   }
  }
 ],
 "metadata": {
  "kernelspec": {
   "display_name": "Python 3",
   "language": "python",
   "name": "python3"
  },
  "language_info": {
   "codemirror_mode": {
    "name": "ipython",
    "version": 3
   },
   "file_extension": ".py",
   "mimetype": "text/x-python",
   "name": "python",
   "nbconvert_exporter": "python",
   "pygments_lexer": "ipython3",
   "version": "3.7.8"
  }
 },
 "nbformat": 4,
 "nbformat_minor": 4
}