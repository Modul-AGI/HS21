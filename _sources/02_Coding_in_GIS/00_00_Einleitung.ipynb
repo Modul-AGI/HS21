{
 "cells": [
  {
   "cell_type": "markdown",
   "metadata": {},
   "source": [
    "(chap-einleitung)=\n",
    "# Einleitung\n",
    "\n",
    "Er soll einen Einstieg in die Programmierwelt von Python bieten und spezifisch zeigen wie man räumliche Fragestellungen mit frei verfügbarer Software lösen kann. \n",
    "Die Voraussetzung für dieser Kurs ist eine Offenheit, neue Tools und Ansätze kennen zu lernen, die Bereitschaft für lösungorientiertes Arbeiten sowie etwas Hartnäckigkeit.\n",
    "\n",
    "Im Kurs werdet ihr nachstehende Datensätze benötigen, die ihr mittels *Rechtsklick > Speichern unter* bei euch lokal speichern könnt. \n",
    "\n",
    "```{list-table} Datensätze für den Teil \"Coding in GIS I - III\"\n",
    ":header-rows: 1\n",
    ":name: table-datensaetze\n",
    "\n",
    "* - Datensatz (inkl. Link)\n",
    "  - Beschreibung\n",
    "* - [zeckenstiche.csv](https://raw.githubusercontent.com/modul-agi/hs20/master/02_Coding_in_GIS/data/zeckenstiche.csv)\n",
    "  - Eine CSV mit 10 Zeckenstich-Meldungen im Kanton Zürich\n",
    "* - [zeckenstiche_full.csv](https://raw.githubusercontent.com/modul-agi/hs20/master/02_Coding_in_GIS/data/zeckenstiche_full.csv)\n",
    "  - Eine CSV mit 1'076 Zeckenstich-Meldungen im Kanton Zürich\n",
    "* - [wald.gpkg](https://raw.githubusercontent.com/modul-agi/hs20/master/02_Coding_in_GIS/data/wald.gpkg)\n",
    "  - Ein Geodatensatz mit einem flächendeckenden (lückenlosen) Polygon, welche den Kanton Zürich in \"Wald\" und \"nicht Wald\" unterscheidet\n",
    "\n",
    "```\n",
    "\n",
    "\n"
   ]
  }
 ],
 "metadata": {
  "kernelspec": {
   "display_name": "Python 3",
   "language": "python",
   "name": "python3"
  },
  "language_info": {
   "codemirror_mode": {
    "name": "ipython",
    "version": 3
   },
   "file_extension": ".py",
   "mimetype": "text/x-python",
   "name": "python",
   "nbconvert_exporter": "python",
   "pygments_lexer": "ipython3",
   "version": "3.7.8"
  }
 },
 "nbformat": 4,
 "nbformat_minor": 4
}
