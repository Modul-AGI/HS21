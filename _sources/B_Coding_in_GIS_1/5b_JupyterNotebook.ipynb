{
 "cells": [
  {
   "cell_type": "markdown",
   "source": [
    "(chap-jupyternotebook)=\n",
    "# Entwicklungsumgebung: Jupyter Notebook\n",
    "\n",
    "Bisher haben wir ohne Enwicklungsumgebung (IDE) gearbeitet, was auf die Dauer sehr mühsam sein kann. Erstens wird unser Code nirgens gespeichert und zweitens wir bei der Entwicklung des Codes wenig unterstützt (z.B. keine Autovervollständigung).\n",
    "\n",
    "Deshalb arbeiten wir von nun an in einer ordentlichen Entwicklungsumgebung, und zwar in Jupyter Notebook. Jupyter Notebook ist eine unter *Data Scientists* sehr beliebte Entwicklungsumgebung. Sie hat zwei Eigenheiten, die anfänglich zu etwas verwirrung sorgen können. Jupyter Notebook wird:\n",
    "\n",
    "1. mit dem \"Command Prompt\" gestartet\n",
    "2. über den Webbrowser bedient\n",
    "\n",
    "Um Jupyter Notebook zu starten verlässt ihr Python im Command Prompt in dem ihr `exit()` oder `quit()` eintippt und mit Enter bestätigt. Danach könnt ihr mit dem Befehl `jupyter notebook` eben diesen starten.\n",
    "\n",
    "\n",
    "```{figure} figures/chdir.jpg\n",
    ":name: cwd\n",
    "\n",
    "Beendet den Python mit dem Befehl `quit()` oder `exit()`\n",
    "```\n",
    "\n",
    "```{admonition} Hinweis\n",
    ":class: attention\n",
    "- Jupyter Notebook wird nun in eurem Browser angezeigt, das Programm läuft aber in eurer Konsole. Das heisst:\n",
    "  - ihr düft die Konsole nicht schliessen, während ihr mit Jupyter Notebook arbeitet\n",
    "  - um Jupyter Notebook zu beenden verwendet ihr in der Konsole die Tastenkombination `Ctrl + C`\n",
    "- Beachtet den Pfad, der in Python Command Prompt dargestellt wird (in {numref}`cwd` wird der Pfad `C:\\Users\\bako\\AppData\\Local\\ESRI\\conda\\envs\\arcgispro-py3-clone2` angezeigt)\n",
    "  - Dieser Pfad ist das \"Arbeitsverzeichnis\", in welchem Jupyter Notebook gestartet wird\n",
    "  - Dieser Pfad ist nicht sinnvoll, wir werden ihn in einem nächsten Schritt ändern.\n",
    "\n",
    "```\n"
   ],
   "metadata": {}
  },
  {
   "cell_type": "markdown",
   "source": [
    "Wie erwähnt ist das automatisch gewählte Arbeitsverzeichnis (im Beispiel `C:\\Users\\bako\\AppData\\Local\\ESRI\\conda\\envs\\arcgispro-py3-clone2`) nicht ideal. Es macht viel mehr Sinn, ein vertrautes Verzeichnis zu wählen (z.B. den Desktop oder wo ihr eure Unterrichtsunterlagen abspeichert). Dieses Verzeichnis müssen wir wählen, *bevor* wir Jupyter Notebook starten. Schliesst deshalb Jupyter Notebook wieder in dem ihr in der Konsole die Tastenkombination `Ctrl + C` verwendet.\n",
    "\n",
    "Wählt nun ein sinvolleres Verzeichnis und Kopiert dessen Pfad aus dem File Explorer. Gebt nun in der Konsole den Befehl `cd` *(change directory)*, gefolgt von dem Pfad zu dem von uns gewünschten Verzeichnis. Im Beispiel werden wir auf den Desktop wechseln `cd C:\\Users\\bako\\Desktop` (siehe {numref}`notebook`). \n",
    "\n",
    "Nun sollte sich der angezeigte Pfad (vor dem `>`) in eurer Konsole ändern. **Ist dies nicht der Fall, hat das Wechseln des Verzeichnisses nicht funktioniert**. War das wechseln des Verzeichnisses erfolgreich, könnt ihr erneut Jupyter Notebook starten: Im Unterschied zu vorher sollten die Dateien, die Ihr nun seht (siehe {numref}`newfile`) vertrauter sein.\n",
    "\n",
    "```{figure} figures/notebook.jpg\n",
    ":name: notebook\n",
    "\n",
    "Jupyter notebook starten\n",
    "```\n",
    "\n",
    "Öffnet nun ein neues Jupyter Notebook File in dem ihr auf *New > Python 3* klickt (siehe {numref}`notebook`). \n",
    "\n",
    "```{figure} figures/newFile.png\n",
    ":name: newfile\n",
    "\n",
    "Öffnen eines neuen Jupyter Notebook Files\n",
    "```\n",
    "\n",
    "Das Bedienen eines Jupyter Notebook lässt sich nicht gut in Worte fassen. Wir wollen diese deshalb in einer kurzen Demo vorzeigen, alternativ (falls du selbständig arbeitest) kannst du dir auch nachstehenden Video anschauen (v.a. Minuten 11:00 - 15:00 sowie 16:40 bis 18:30):\n",
    "\n",
    "<iframe width=\"560\" height=\"315\" src=\"https://www.youtube.com/embed/DKiI6NfSIe8?start=668\" title=\"YouTube video player\" frameborder=\"0\" allow=\"accelerometer; autoplay; clipboard-write; encrypted-media; gyroscope; picture-in-picture\" allowfullscreen></iframe>\n"
   ],
   "metadata": {}
  },
  {
   "cell_type": "markdown",
   "source": [],
   "metadata": {}
  }
 ],
 "metadata": {
  "kernelspec": {
   "display_name": "Python 3",
   "language": "python",
   "name": "python3"
  },
  "language_info": {
   "codemirror_mode": {
    "name": "ipython",
    "version": 3
   },
   "file_extension": ".py",
   "mimetype": "text/x-python",
   "name": "python",
   "nbconvert_exporter": "python",
   "pygments_lexer": "ipython3",
   "version": "3.7.7"
  }
 },
 "nbformat": 4,
 "nbformat_minor": 2
}