{
 "cells": [
  {
   "cell_type": "markdown",
   "metadata": {},
   "source": [
    "(chap-intro-cig1)=\n",
    "# Einleitung"
   ]
  },
  {
   "cell_type": "markdown",
   "metadata": {
    "tags": [
     "admonition"
    ]
   },
   "source": [
    "In diesem Block bekommt ihr euren ersten Kontakt mit Python und lernt dabei auch gerade Jupyter Notebooks kennen, um mit Python zu interagieren. Er soll einen Einstieg in die Programmierwelt von Python bieten und spezifisch zeigen wie man räumliche Fragestellungen mit frei verfügbarer Software lösen kann. \n",
    "Die Voraussetzung für dieser Kurs ist eine Offenheit, neue Tools und Ansätze kennen zu lernen, die Bereitschaft für lösungorientiertes Arbeiten sowie etwas Hartnäckigkeit. \n",
    "\n",
    "Im Kurs werdet ihr nachstehende Datensätze benötigen, die ihr mittels *Rechtsklick > Speichern unter* bei euch lokal speichern könnt. \n",
    "\n",
    "```{list-table} Datensätze für den Teil \"Coding in GIS I - III\"\n",
    ":header-rows: 1\n",
    ":name: table-datensaetze\n",
    "\n",
    "* - Datensatz (inkl. Link)\n",
    "  - Beschreibung\n",
    "* - [zeckenstiche.csv](https://raw.githubusercontent.com/Modul-AGI/HS21/main/B_Coding_in_GIS_1/data/zeckenstiche.csv)\n",
    "  - Eine CSV mit 10 Zeckenstich-Meldungen im Kanton Zürich\n",
    "* - [zeckenstiche_full.csv](https://raw.githubusercontent.com/Modul-AGI/HS21/main/B_Coding_in_GIS_1/data/zeckenstiche_full.csv)\n",
    "  - Eine CSV mit 1'076 Zeckenstich-Meldungen im Kanton Zürich\n",
    "* - [wald.gpkg](https://github.com/Modul-AGI/HS21/raw/main/B_Coding_in_GIS_1/data/wald.gpkg)\n",
    "  - Ein Geodatensatz mit einem flächendeckenden (lückenlosen) Polygon, welche den Kanton Zürich in \"Wald\" und \"nicht Wald\" unterscheidet\n",
    "\n",
    "```\n",
    "\n",
    "```{admonition} Übungsziele\n",
    ":class: attention\n",
    "- Python kennen lernen, erste Interaktionen mit Python durch die Commandline\n",
    "- erste Erfahrungen mit Jupyter Notebooks sammeln\n",
    "- Die wichtigsten Datentypen in Python kennen lernen (`bool`, `str`, `int`, `float`, `list`, `dict`)\n",
    "- Pandas DataFrames kennen lernen und einfache Manipulationen durchführen \n",
    "```"
   ]
  },
  {
   "cell_type": "markdown",
   "metadata": {},
   "source": [
    "<!--\n",
    "Noch ein paar Hinweise:\n",
    "\n",
    "- Die Musterlösungen zu allen Aufgaben stehen bereit. Wir werden diese bald einblenden\n",
    "- Wenn sich im Fliesstext Programmiercode befindet, wird er in `dieser Festschriftart` dargestellt\n",
    "- Englische Begriffe, deren Übersetzung eher verwirrend als nützlich wären, werden *in dieser Weise* hervorgehoben\n",
    "- Da viele von euch bereits Erfahrung in R haben, stelle ich immer wieder den Bezug zu dieser Programmiersprache her.\n",
    "- Alleinstehende Codezeilen werden folgendermassen dargestellt:\n",
    "- ```python\n",
    "  print(\"Coding in GIS!\")\n",
    "  ```\n",
    "\n",
    "-->\n"
   ]
  },
  {
   "cell_type": "markdown",
   "metadata": {},
   "source": [
    "Die Slides zur heutigen Vorlesung findet ihr hier: \n",
    "\n",
    "<iframe src=\"https://modul-agi.github.io/slides/Coding_in_GIS_I\" style=\"border:0px #ffffff none;\" name=\"myiFrame\" scrolling=\"no\" frameborder=\"1\" marginheight=\"0px\" marginwidth=\"0px\" height=\"400px\" width=\"100%\" allowfullscreen></iframe>\n",
    "\n",
    "In einem neuen Fenster öffnen: [modul-agi.github.io/slides](https://modul-agi.github.io/slides)"
   ]
  }
 ],
 "metadata": {
  "kernelspec": {
   "display_name": "Python 3",
   "language": "python",
   "name": "python3"
  },
  "language_info": {
   "codemirror_mode": {
    "name": "ipython",
    "version": 3
   },
   "file_extension": ".py",
   "mimetype": "text/x-python",
   "name": "python",
   "nbconvert_exporter": "python",
   "pygments_lexer": "ipython3",
   "version": "3.7.7"
  }
 },
 "nbformat": 4,
 "nbformat_minor": 4
}
